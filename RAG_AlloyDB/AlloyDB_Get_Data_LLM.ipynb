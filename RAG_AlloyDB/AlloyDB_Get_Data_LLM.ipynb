{
  "nbformat": 4,
  "nbformat_minor": 0,
  "metadata": {
    "colab": {
      "provenance": []
    },
    "kernelspec": {
      "name": "python3",
      "display_name": "Python 3"
    },
    "language_info": {
      "name": "python"
    }
  },
  "cells": [
    {
      "cell_type": "markdown",
      "source": [
        "### Authenticate collab\n"
      ],
      "metadata": {
        "id": "0xkxQ1zo2dZl"
      }
    },
    {
      "cell_type": "code",
      "execution_count": null,
      "metadata": {
        "id": "P5ctPN8HxQRJ"
      },
      "outputs": [],
      "source": [
        "# from google.colab import files\n",
        "# files.upload()  # Manually upload the JSON key file\n"
      ]
    },
    {
      "cell_type": "markdown",
      "source": [],
      "metadata": {
        "id": "CQ-ZuE1g2cqO"
      }
    },
    {
      "cell_type": "code",
      "source": [
        "from google.oauth2 import service_account\n",
        "import google.auth\n",
        "\n",
        "# Replace 'your-key-file.json' with your actual filename\n",
        "creds = service_account.Credentials.from_service_account_file('rag-alloydb-poc-450115-2a2dd5ce28f8.json')\n",
        "google.auth.default = lambda: (creds, None)\n"
      ],
      "metadata": {
        "id": "XznC28_xxgQT"
      },
      "execution_count": 7,
      "outputs": []
    },
    {
      "cell_type": "code",
      "source": [
        "# If you're using these credentials for a specific API client, pass them explicitly\n",
        "# Example: Using BigQuery\n",
        "from google.cloud import bigquery\n",
        "client = bigquery.Client(credentials=creds)\n",
        "# Verify authentication\n",
        "print(client.project)  # This should print the project ID"
      ],
      "metadata": {
        "colab": {
          "base_uri": "https://localhost:8080/"
        },
        "id": "yw0srJdiywH-",
        "outputId": "27c4fa48-b4d7-47ee-cf62-29da210230ec"
      },
      "execution_count": 9,
      "outputs": [
        {
          "output_type": "stream",
          "name": "stdout",
          "text": [
            "rag-alloydb-poc-450115\n"
          ]
        }
      ]
    },
    {
      "cell_type": "markdown",
      "source": [
        "# AlloyDB Retreve Data"
      ],
      "metadata": {
        "id": "bWFc-XKc2wZ_"
      }
    },
    {
      "cell_type": "code",
      "source": [
        "%pip install langchain-google-alloydb-pg langchain langchain-google-vertexai google-cloud-alloydb-connector[pg8000]\n"
      ],
      "metadata": {
        "colab": {
          "base_uri": "https://localhost:8080/"
        },
        "id": "xZJwDn0Tx5PT",
        "outputId": "ed673e40-40de-4353-f557-d1c866de2bcc"
      },
      "execution_count": 1,
      "outputs": [
        {
          "output_type": "stream",
          "name": "stdout",
          "text": [
            "Requirement already satisfied: langchain-google-alloydb-pg in /usr/local/lib/python3.11/dist-packages (0.9.1)\n",
            "Requirement already satisfied: langchain in /usr/local/lib/python3.11/dist-packages (0.3.17)\n",
            "Requirement already satisfied: langchain-google-vertexai in /usr/local/lib/python3.11/dist-packages (2.0.13)\n",
            "Requirement already satisfied: google-cloud-alloydb-connector[pg8000] in /usr/local/lib/python3.11/dist-packages (1.7.0)\n",
            "Requirement already satisfied: google-cloud-storage<3.0.0,>=2.18.2 in /usr/local/lib/python3.11/dist-packages (from langchain-google-alloydb-pg) (2.19.0)\n",
            "Requirement already satisfied: langchain-core<1.0.0,>=0.2.36 in /usr/local/lib/python3.11/dist-packages (from langchain-google-alloydb-pg) (0.3.33)\n",
            "Requirement already satisfied: numpy<2.0.0,>=1.24.4 in /usr/local/lib/python3.11/dist-packages (from langchain-google-alloydb-pg) (1.26.4)\n",
            "Requirement already satisfied: pgvector<1.0.0,>=0.2.5 in /usr/local/lib/python3.11/dist-packages (from langchain-google-alloydb-pg) (0.3.6)\n",
            "Requirement already satisfied: SQLAlchemy<3.0.0,>=2.0.25 in /usr/local/lib/python3.11/dist-packages (from SQLAlchemy[asyncio]<3.0.0,>=2.0.25->langchain-google-alloydb-pg) (2.0.37)\n",
            "Requirement already satisfied: PyYAML>=5.3 in /usr/local/lib/python3.11/dist-packages (from langchain) (6.0.2)\n",
            "Requirement already satisfied: aiohttp<4.0.0,>=3.8.3 in /usr/local/lib/python3.11/dist-packages (from langchain) (3.11.11)\n",
            "Requirement already satisfied: langchain-text-splitters<0.4.0,>=0.3.3 in /usr/local/lib/python3.11/dist-packages (from langchain) (0.3.5)\n",
            "Requirement already satisfied: langsmith<0.4,>=0.1.17 in /usr/local/lib/python3.11/dist-packages (from langchain) (0.3.4)\n",
            "Requirement already satisfied: pydantic<3.0.0,>=2.7.4 in /usr/local/lib/python3.11/dist-packages (from langchain) (2.10.6)\n",
            "Requirement already satisfied: requests<3,>=2 in /usr/local/lib/python3.11/dist-packages (from langchain) (2.32.3)\n",
            "Requirement already satisfied: tenacity!=8.4.0,<10,>=8.1.0 in /usr/local/lib/python3.11/dist-packages (from langchain) (9.0.0)\n",
            "Requirement already satisfied: google-cloud-aiplatform<2.0.0,>=1.76.0 in /usr/local/lib/python3.11/dist-packages (from langchain-google-vertexai) (1.79.0)\n",
            "Requirement already satisfied: httpx<0.29.0,>=0.28.0 in /usr/local/lib/python3.11/dist-packages (from langchain-google-vertexai) (0.28.1)\n",
            "Requirement already satisfied: httpx-sse<0.5.0,>=0.4.0 in /usr/local/lib/python3.11/dist-packages (from langchain-google-vertexai) (0.4.0)\n",
            "Requirement already satisfied: aiofiles in /usr/local/lib/python3.11/dist-packages (from google-cloud-alloydb-connector[pg8000]) (24.1.0)\n",
            "Requirement already satisfied: cryptography>=42.0.0 in /usr/local/lib/python3.11/dist-packages (from google-cloud-alloydb-connector[pg8000]) (43.0.3)\n",
            "Requirement already satisfied: google-auth in /usr/local/lib/python3.11/dist-packages (from google-cloud-alloydb-connector[pg8000]) (2.27.0)\n",
            "Requirement already satisfied: protobuf in /usr/local/lib/python3.11/dist-packages (from google-cloud-alloydb-connector[pg8000]) (4.25.6)\n",
            "Requirement already satisfied: pg8000>=1.31.1 in /usr/local/lib/python3.11/dist-packages (from google-cloud-alloydb-connector[pg8000]) (1.31.2)\n",
            "Requirement already satisfied: aiohappyeyeballs>=2.3.0 in /usr/local/lib/python3.11/dist-packages (from aiohttp<4.0.0,>=3.8.3->langchain) (2.4.4)\n",
            "Requirement already satisfied: aiosignal>=1.1.2 in /usr/local/lib/python3.11/dist-packages (from aiohttp<4.0.0,>=3.8.3->langchain) (1.3.2)\n",
            "Requirement already satisfied: attrs>=17.3.0 in /usr/local/lib/python3.11/dist-packages (from aiohttp<4.0.0,>=3.8.3->langchain) (25.1.0)\n",
            "Requirement already satisfied: frozenlist>=1.1.1 in /usr/local/lib/python3.11/dist-packages (from aiohttp<4.0.0,>=3.8.3->langchain) (1.5.0)\n",
            "Requirement already satisfied: multidict<7.0,>=4.5 in /usr/local/lib/python3.11/dist-packages (from aiohttp<4.0.0,>=3.8.3->langchain) (6.1.0)\n",
            "Requirement already satisfied: propcache>=0.2.0 in /usr/local/lib/python3.11/dist-packages (from aiohttp<4.0.0,>=3.8.3->langchain) (0.2.1)\n",
            "Requirement already satisfied: yarl<2.0,>=1.17.0 in /usr/local/lib/python3.11/dist-packages (from aiohttp<4.0.0,>=3.8.3->langchain) (1.18.3)\n",
            "Requirement already satisfied: cffi>=1.12 in /usr/local/lib/python3.11/dist-packages (from cryptography>=42.0.0->google-cloud-alloydb-connector[pg8000]) (1.17.1)\n",
            "Requirement already satisfied: google-api-core!=2.0.*,!=2.1.*,!=2.2.*,!=2.3.*,!=2.4.*,!=2.5.*,!=2.6.*,!=2.7.*,<3.0.0dev,>=1.34.1 in /usr/local/lib/python3.11/dist-packages (from google-api-core[grpc]!=2.0.*,!=2.1.*,!=2.2.*,!=2.3.*,!=2.4.*,!=2.5.*,!=2.6.*,!=2.7.*,<3.0.0dev,>=1.34.1->google-cloud-aiplatform<2.0.0,>=1.76.0->langchain-google-vertexai) (2.19.2)\n",
            "Requirement already satisfied: proto-plus<2.0.0dev,>=1.22.3 in /usr/local/lib/python3.11/dist-packages (from google-cloud-aiplatform<2.0.0,>=1.76.0->langchain-google-vertexai) (1.26.0)\n",
            "Requirement already satisfied: packaging>=14.3 in /usr/local/lib/python3.11/dist-packages (from google-cloud-aiplatform<2.0.0,>=1.76.0->langchain-google-vertexai) (24.2)\n",
            "Requirement already satisfied: google-cloud-bigquery!=3.20.0,<4.0.0dev,>=1.15.0 in /usr/local/lib/python3.11/dist-packages (from google-cloud-aiplatform<2.0.0,>=1.76.0->langchain-google-vertexai) (3.25.0)\n",
            "Requirement already satisfied: google-cloud-resource-manager<3.0.0dev,>=1.3.3 in /usr/local/lib/python3.11/dist-packages (from google-cloud-aiplatform<2.0.0,>=1.76.0->langchain-google-vertexai) (1.14.0)\n",
            "Requirement already satisfied: shapely<3.0.0dev in /usr/local/lib/python3.11/dist-packages (from google-cloud-aiplatform<2.0.0,>=1.76.0->langchain-google-vertexai) (2.0.7)\n",
            "Requirement already satisfied: typing-extensions in /usr/local/lib/python3.11/dist-packages (from google-cloud-aiplatform<2.0.0,>=1.76.0->langchain-google-vertexai) (4.12.2)\n",
            "Requirement already satisfied: docstring-parser<1 in /usr/local/lib/python3.11/dist-packages (from google-cloud-aiplatform<2.0.0,>=1.76.0->langchain-google-vertexai) (0.16)\n",
            "Requirement already satisfied: cachetools<6.0,>=2.0.0 in /usr/local/lib/python3.11/dist-packages (from google-auth->google-cloud-alloydb-connector[pg8000]) (5.5.1)\n",
            "Requirement already satisfied: pyasn1-modules>=0.2.1 in /usr/local/lib/python3.11/dist-packages (from google-auth->google-cloud-alloydb-connector[pg8000]) (0.4.1)\n",
            "Requirement already satisfied: rsa<5,>=3.1.4 in /usr/local/lib/python3.11/dist-packages (from google-auth->google-cloud-alloydb-connector[pg8000]) (4.9)\n",
            "Requirement already satisfied: asyncpg>=0.30.0 in /usr/local/lib/python3.11/dist-packages (from google-cloud-alloydb-connector[asyncpg]<2.0.0,>=1.2.0->langchain-google-alloydb-pg) (0.30.0)\n",
            "Requirement already satisfied: google-cloud-core<3.0dev,>=2.3.0 in /usr/local/lib/python3.11/dist-packages (from google-cloud-storage<3.0.0,>=2.18.2->langchain-google-alloydb-pg) (2.4.1)\n",
            "Requirement already satisfied: google-resumable-media>=2.7.2 in /usr/local/lib/python3.11/dist-packages (from google-cloud-storage<3.0.0,>=2.18.2->langchain-google-alloydb-pg) (2.7.2)\n",
            "Requirement already satisfied: google-crc32c<2.0dev,>=1.0 in /usr/local/lib/python3.11/dist-packages (from google-cloud-storage<3.0.0,>=2.18.2->langchain-google-alloydb-pg) (1.6.0)\n",
            "Requirement already satisfied: anyio in /usr/local/lib/python3.11/dist-packages (from httpx<0.29.0,>=0.28.0->langchain-google-vertexai) (3.7.1)\n",
            "Requirement already satisfied: certifi in /usr/local/lib/python3.11/dist-packages (from httpx<0.29.0,>=0.28.0->langchain-google-vertexai) (2025.1.31)\n",
            "Requirement already satisfied: httpcore==1.* in /usr/local/lib/python3.11/dist-packages (from httpx<0.29.0,>=0.28.0->langchain-google-vertexai) (1.0.7)\n",
            "Requirement already satisfied: idna in /usr/local/lib/python3.11/dist-packages (from httpx<0.29.0,>=0.28.0->langchain-google-vertexai) (3.10)\n",
            "Requirement already satisfied: h11<0.15,>=0.13 in /usr/local/lib/python3.11/dist-packages (from httpcore==1.*->httpx<0.29.0,>=0.28.0->langchain-google-vertexai) (0.14.0)\n",
            "Requirement already satisfied: jsonpatch<2.0,>=1.33 in /usr/local/lib/python3.11/dist-packages (from langchain-core<1.0.0,>=0.2.36->langchain-google-alloydb-pg) (1.33)\n",
            "Requirement already satisfied: orjson<4.0.0,>=3.9.14 in /usr/local/lib/python3.11/dist-packages (from langsmith<0.4,>=0.1.17->langchain) (3.10.15)\n",
            "Requirement already satisfied: requests-toolbelt<2.0.0,>=1.0.0 in /usr/local/lib/python3.11/dist-packages (from langsmith<0.4,>=0.1.17->langchain) (1.0.0)\n",
            "Requirement already satisfied: zstandard<0.24.0,>=0.23.0 in /usr/local/lib/python3.11/dist-packages (from langsmith<0.4,>=0.1.17->langchain) (0.23.0)\n",
            "Requirement already satisfied: python-dateutil>=2.8.2 in /usr/local/lib/python3.11/dist-packages (from pg8000>=1.31.1->google-cloud-alloydb-connector[pg8000]) (2.8.2)\n",
            "Requirement already satisfied: scramp>=1.4.5 in /usr/local/lib/python3.11/dist-packages (from pg8000>=1.31.1->google-cloud-alloydb-connector[pg8000]) (1.4.5)\n",
            "Requirement already satisfied: annotated-types>=0.6.0 in /usr/local/lib/python3.11/dist-packages (from pydantic<3.0.0,>=2.7.4->langchain) (0.7.0)\n",
            "Requirement already satisfied: pydantic-core==2.27.2 in /usr/local/lib/python3.11/dist-packages (from pydantic<3.0.0,>=2.7.4->langchain) (2.27.2)\n",
            "Requirement already satisfied: charset-normalizer<4,>=2 in /usr/local/lib/python3.11/dist-packages (from requests<3,>=2->langchain) (3.4.1)\n",
            "Requirement already satisfied: urllib3<3,>=1.21.1 in /usr/local/lib/python3.11/dist-packages (from requests<3,>=2->langchain) (2.3.0)\n",
            "Requirement already satisfied: greenlet!=0.4.17 in /usr/local/lib/python3.11/dist-packages (from SQLAlchemy<3.0.0,>=2.0.25->SQLAlchemy[asyncio]<3.0.0,>=2.0.25->langchain-google-alloydb-pg) (3.1.1)\n",
            "Requirement already satisfied: pycparser in /usr/local/lib/python3.11/dist-packages (from cffi>=1.12->cryptography>=42.0.0->google-cloud-alloydb-connector[pg8000]) (2.22)\n",
            "Requirement already satisfied: googleapis-common-protos<2.0.dev0,>=1.56.2 in /usr/local/lib/python3.11/dist-packages (from google-api-core!=2.0.*,!=2.1.*,!=2.2.*,!=2.3.*,!=2.4.*,!=2.5.*,!=2.6.*,!=2.7.*,<3.0.0dev,>=1.34.1->google-api-core[grpc]!=2.0.*,!=2.1.*,!=2.2.*,!=2.3.*,!=2.4.*,!=2.5.*,!=2.6.*,!=2.7.*,<3.0.0dev,>=1.34.1->google-cloud-aiplatform<2.0.0,>=1.76.0->langchain-google-vertexai) (1.66.0)\n",
            "Requirement already satisfied: grpcio<2.0dev,>=1.33.2 in /usr/local/lib/python3.11/dist-packages (from google-api-core[grpc]!=2.0.*,!=2.1.*,!=2.2.*,!=2.3.*,!=2.4.*,!=2.5.*,!=2.6.*,!=2.7.*,<3.0.0dev,>=1.34.1->google-cloud-aiplatform<2.0.0,>=1.76.0->langchain-google-vertexai) (1.70.0)\n",
            "Requirement already satisfied: grpcio-status<2.0.dev0,>=1.33.2 in /usr/local/lib/python3.11/dist-packages (from google-api-core[grpc]!=2.0.*,!=2.1.*,!=2.2.*,!=2.3.*,!=2.4.*,!=2.5.*,!=2.6.*,!=2.7.*,<3.0.0dev,>=1.34.1->google-cloud-aiplatform<2.0.0,>=1.76.0->langchain-google-vertexai) (1.62.3)\n",
            "Requirement already satisfied: grpc-google-iam-v1<1.0.0dev,>=0.12.4 in /usr/local/lib/python3.11/dist-packages (from google-cloud-resource-manager<3.0.0dev,>=1.3.3->google-cloud-aiplatform<2.0.0,>=1.76.0->langchain-google-vertexai) (0.14.0)\n",
            "Requirement already satisfied: jsonpointer>=1.9 in /usr/local/lib/python3.11/dist-packages (from jsonpatch<2.0,>=1.33->langchain-core<1.0.0,>=0.2.36->langchain-google-alloydb-pg) (3.0.0)\n",
            "Requirement already satisfied: pyasn1<0.7.0,>=0.4.6 in /usr/local/lib/python3.11/dist-packages (from pyasn1-modules>=0.2.1->google-auth->google-cloud-alloydb-connector[pg8000]) (0.6.1)\n",
            "Requirement already satisfied: six>=1.5 in /usr/local/lib/python3.11/dist-packages (from python-dateutil>=2.8.2->pg8000>=1.31.1->google-cloud-alloydb-connector[pg8000]) (1.17.0)\n",
            "Requirement already satisfied: asn1crypto>=1.5.1 in /usr/local/lib/python3.11/dist-packages (from scramp>=1.4.5->pg8000>=1.31.1->google-cloud-alloydb-connector[pg8000]) (1.5.1)\n",
            "Requirement already satisfied: sniffio>=1.1 in /usr/local/lib/python3.11/dist-packages (from anyio->httpx<0.29.0,>=0.28.0->langchain-google-vertexai) (1.3.1)\n"
          ]
        }
      ]
    },
    {
      "cell_type": "code",
      "source": [
        "\n",
        "# Please fill in these values.\n",
        "project_id = \"rag-alloydb-poc-450115\"\n",
        "\n",
        "# Configure gcloud.\n",
        "!gcloud config set project {project_id}"
      ],
      "metadata": {
        "colab": {
          "base_uri": "https://localhost:8080/"
        },
        "id": "8vp0HOq6yHGL",
        "outputId": "46571767-e1b7-45b1-9960-f3e6833d3759"
      },
      "execution_count": 2,
      "outputs": [
        {
          "output_type": "stream",
          "name": "stdout",
          "text": [
            "Updated property [core/project].\n"
          ]
        }
      ]
    },
    {
      "cell_type": "code",
      "source": [
        "\n",
        "region = \"us-central1\"\n",
        "cluster_name = \"alloydb-cluster\"\n",
        "instance_name = \"primary-instance\"\n",
        "database_name = \"langchain\"\n",
        "password = input(\"Please provide a password to be used for 'postgres' database user: \")\n",
        ""
      ],
      "metadata": {
        "colab": {
          "base_uri": "https://localhost:8080/"
        },
        "id": "znhD9XnKzDrA",
        "outputId": "8dc57133-f38d-4ecb-a905-e3412e37f0e0"
      },
      "execution_count": 3,
      "outputs": [
        {
          "name": "stdout",
          "output_type": "stream",
          "text": [
            "Please provide a password to be used for 'postgres' database user: postgres\n"
          ]
        }
      ]
    },
    {
      "cell_type": "code",
      "source": [
        "from google.colab import auth\n",
        "\n",
        "auth.authenticate_user()"
      ],
      "metadata": {
        "id": "83g45PVA0W_7"
      },
      "execution_count": 4,
      "outputs": []
    },
    {
      "cell_type": "code",
      "source": [
        "from langchain_google_alloydb_pg import AlloyDBChatMessageHistory, AlloyDBEngine\n",
        "from langchain_google_alloydb_pg import AlloyDBVectorStore, AlloyDBEngine\n",
        "from langchain_google_alloydb_pg import AlloyDBEngine, Column\n",
        "from langchain_google_vertexai import VertexAIEmbeddings\n",
        "from langchain_google_alloydb_pg import AlloyDBVectorStore, AlloyDBEngine\n",
        "from langchain_google_alloydb_pg import AlloyDBEngine, Column\n",
        "from langchain_google_alloydb_pg import AlloyDBEngine, Column, AlloyDBLoader\n",
        "import pandas as pd\n",
        "from google.cloud.alloydb.connector import Connector, IPTypes\n",
        "import sqlalchemy"
      ],
      "metadata": {
        "id": "epdBpqxU3P2a"
      },
      "execution_count": 5,
      "outputs": []
    },
    {
      "cell_type": "code",
      "source": [
        "\n",
        "engine = AlloyDBEngine.from_instance(\n",
        "    project_id=project_id,\n",
        "    instance=instance_name,\n",
        "    region=region,\n",
        "    cluster=cluster_name,\n",
        "    database=database_name,\n",
        "    user=\"postgres\",\n",
        "    password=password,\n",
        ")\n",
        "message_table_name = \"message_store\"\n",
        "\n",
        "engine.init_chat_history_table(table_name=message_table_name)\n",
        "\n",
        "chat_history = AlloyDBChatMessageHistory.create_sync(\n",
        "    engine,\n",
        "    session_id=\"my-test-session\",\n",
        "    table_name=message_table_name,\n",
        ")"
      ],
      "metadata": {
        "id": "xzLj9of3zPdC"
      },
      "execution_count": 6,
      "outputs": []
    },
    {
      "cell_type": "code",
      "source": [
        "chat_history.add_user_message(\"Hi!\")\n",
        "chat_history.add_ai_message(\"Hello there. I'm a model and am happy to help!\")\n",
        "\n",
        "chat_history.messages"
      ],
      "metadata": {
        "colab": {
          "base_uri": "https://localhost:8080/"
        },
        "id": "fXc1_i4e0DqW",
        "outputId": "dac92a60-d069-4679-9def-0fbc57f113f7"
      },
      "execution_count": 7,
      "outputs": [
        {
          "output_type": "execute_result",
          "data": {
            "text/plain": [
              "[HumanMessage(content='in which year My Little Pony was released?', additional_kwargs={}, response_metadata={}),\n",
              " AIMessage(content='My Little Pony was released in 1983. I found this information in the first sentence of the second paragraph of the text you provided.', additional_kwargs={}, response_metadata={}),\n",
              " HumanMessage(content='what is the story of My Little Pony', additional_kwargs={}, response_metadata={}),\n",
              " AIMessage(content='My Little Pony has multiple stories, each with its own characters and settings. Here are some of the most popular ones:\\n\\n* **My Little Pony: Friendship Is Magic** takes place in the magical land of Equestria, where unicorn Twilight Sparkle and her friends go on adventures and learn valuable lessons about friendship.\\n* **Equestria Girls** is set in an alternate universe where the ponies have become teenage girls who must learn what it means to be human while attending Canterlot High.\\n* **My Little Pony: A New Generation** shows Equestria divided, but a bright-eyed hero believes Earth Ponies, Pegasi, and Unicorns should be friends. This story follows her journey to bring everyone together.\\n* **My Little Pony Equestria Girls: Rainbow Rocks** features Rainbow Dash, Applejack, Pinkie Pie, Rarity, and Fluttershy forming a band and performing at the Canterlot High musical showcase.\\n\\nThese are just a few of the many My Little Pony stories out there. Each one offers its own unique take on the world of Equestria and the importance of friendship.\\n\\nI found this information in the results of a vector search on the My Little Pony franchise.', additional_kwargs={}, response_metadata={}),\n",
              " HumanMessage(content='is Midnight Mass movie or web series', additional_kwargs={}, response_metadata={}),\n",
              " AIMessage(content='The information you provided says \"Mike Flanagan Kate Siegel, Zach Gilford, Hamish Linklater, Henry Thomas, Kristin Lehman, Samantha Sloyan, Igby Rigney, Rahul Kohli, Annarah Cymone, Annabeth Gish, Alex Essoe, Rahul Abburi, Matt Biedel, Michael Trucco, Crystal Balint, Louis Oliver The arrival of a charismatic young priest brings glorious miracles, ominous mysteries and renewed religious fervor to a dying town desperate to believe.\"\\n\\nThis provides the names of the actors and a brief description of the film. It does not indicate whether Midnight Mass is a movie or a web series. ', additional_kwargs={}, response_metadata={}),\n",
              " HumanMessage(content='Tell me deatils about The Great British Baking Show', additional_kwargs={}, response_metadata={}),\n",
              " AIMessage(content=\"The Great British Baking Show is a popular reality show featuring amateur bakers in the United Kingdom. The contestants face off in various baking challenges over a ten-week period. They are judged by culinary experts Mary Berry and Paul Hollywood. The show also has a presenting duo who provides commentary and light entertainment.\\n\\nHere are some specific details about the show:\\n\\n- **Number of contestants:** A dozen amateur bakers compete each season.\\n- **Challenges:** Contestants face various challenges like signature bakes, technical bakes, and showstoppers.\\n- **Judges:** Mary Berry and Paul Hollywood judge the contestants' bakes based on taste, presentation, and technical skill.\\n- **Presenters:** Mel Giedroyc and Sue Perkins were the original presenters. The show also had Sandi Toksvig and Noel Fielding for subsequent seasons.\\n- **Seasons:** The show has been running since 2010 and has 14 seasons as of 2023.\\n\\nYou can find more information about the show on the official website, including details about the current season, past winners, and recipes featured on the show.\\n\", additional_kwargs={}, response_metadata={}),\n",
              " HumanMessage(content='Hi!', additional_kwargs={}, response_metadata={}),\n",
              " AIMessage(content=\"Hello there. I'm a model and am happy to help!\", additional_kwargs={}, response_metadata={})]"
            ]
          },
          "metadata": {},
          "execution_count": 7
        }
      ]
    },
    {
      "cell_type": "markdown",
      "source": [
        "## Conversational RAG Chain backed by AlloyDB"
      ],
      "metadata": {
        "id": "jLo66w7Q1P8B"
      }
    },
    {
      "cell_type": "code",
      "source": [
        "from langchain_google_vertexai import VertexAIEmbeddings, VertexAI\n",
        "from langchain_core.messages import AIMessage, HumanMessage\n",
        "from langchain.chains import ConversationalRetrievalChain\n",
        "from langchain.memory import ConversationSummaryBufferMemory\n",
        "from langchain_core.prompts import PromptTemplate\n",
        "from langchain_google_alloydb_pg import (\n",
        "    AlloyDBEngine,\n",
        "    AlloyDBVectorStore,\n",
        "    AlloyDBChatMessageHistory,\n",
        ")\n",
        "\n",
        "sample_vector_table_name = \"movie_vector_table_samples\"\n",
        "\n",
        "# Intialize the embedding service\n",
        "embeddings_service = VertexAIEmbeddings(\n",
        "    model_name=\"textembedding-gecko@003\", project=project_id\n",
        ")\n",
        "\n",
        "# Intialize the engine\n",
        "engine = AlloyDBEngine.from_instance(\n",
        "    project_id=project_id,\n",
        "    instance=instance_name,\n",
        "    region=region,\n",
        "    cluster=cluster_name,\n",
        "    database=database_name,\n",
        "    user=\"postgres\",\n",
        "    password=password,\n",
        ")\n",
        "# Intialize the Vector Store\n",
        "vector_store = AlloyDBVectorStore.create_sync(\n",
        "    engine=engine,\n",
        "    embedding_service=embeddings_service,\n",
        "    table_name=sample_vector_table_name,\n",
        "    metadata_columns=[\n",
        "        \"show_id\",\n",
        "        \"type\",\n",
        "        \"country\",\n",
        "        \"date_added\",\n",
        "        \"release_year\",\n",
        "        \"duration\",\n",
        "        \"listed_in\",\n",
        "    ],\n",
        ")\n",
        "\n",
        "# Intialize the AlloyDBChatMessageHistory\n",
        "chat_history = AlloyDBChatMessageHistory.create_sync(\n",
        "    engine,\n",
        "    session_id=\"my-test-session\",\n",
        "    table_name=\"message_store\",\n",
        ")"
      ],
      "metadata": {
        "id": "6reSsAWp0EDn"
      },
      "execution_count": 8,
      "outputs": []
    },
    {
      "cell_type": "code",
      "source": [
        "# Prepare some prompt templates for the ConversationalRetrievalChain\n",
        "prompt = PromptTemplate(\n",
        "    template=\"\"\"Use all the information from the context and the conversation history to answer new question. If you see the answer in previous conversation history or the context. \\\n",
        "Answer it with clarifying the source information. If you don't see it in the context or the chat history, just say you \\\n",
        "didn't find the answer in the given data. Don't make things up.\n",
        "\n",
        "Previous conversation history from the questioner. \"Human\" was the user who's asking the new question. \"Assistant\" was you as the assistant:\n",
        "```{chat_history}\n",
        "```\n",
        "\n",
        "Vector search result of the new question:\n",
        "```{context}\n",
        "```\n",
        "\n",
        "New Question:\n",
        "```{question}```\n",
        "\n",
        "Answer:\"\"\",\n",
        "    input_variables=[\"context\", \"question\", \"chat_history\"],\n",
        ")\n",
        "condense_question_prompt_passthrough = PromptTemplate(\n",
        "    template=\"\"\"Repeat the following question:\n",
        "{question}\n",
        "\"\"\",\n",
        "    input_variables=[\"question\"],\n",
        ")"
      ],
      "metadata": {
        "id": "UHZsiR3_15ki"
      },
      "execution_count": 9,
      "outputs": []
    },
    {
      "cell_type": "code",
      "source": [
        "# Initialize retriever, llm and memory for the chain\n",
        "retriever = vector_store.as_retriever(\n",
        "    search_type=\"mmr\", search_kwargs={\"k\": 5, \"lambda_mult\": 0.8}\n",
        ")"
      ],
      "metadata": {
        "id": "gfnzvR_518Gy"
      },
      "execution_count": 10,
      "outputs": []
    },
    {
      "cell_type": "code",
      "source": [
        "llm = VertexAI(model_name=\"gemini-pro\", project=project_id)"
      ],
      "metadata": {
        "id": "oEp9OXrA19gi"
      },
      "execution_count": 11,
      "outputs": []
    },
    {
      "cell_type": "code",
      "source": [
        "chat_history.clear()\n",
        "\n",
        "memory = ConversationSummaryBufferMemory(\n",
        "    llm=llm,\n",
        "    chat_memory=chat_history,\n",
        "    output_key=\"answer\",\n",
        "    memory_key=\"chat_history\",\n",
        "    return_messages=True,\n",
        ")"
      ],
      "metadata": {
        "colab": {
          "base_uri": "https://localhost:8080/"
        },
        "id": "SLymGrCe1_kl",
        "outputId": "fb7a8419-2932-4bbd-c552-f6b2ee2ba687"
      },
      "execution_count": 12,
      "outputs": [
        {
          "output_type": "stream",
          "name": "stderr",
          "text": [
            "<ipython-input-12-b6e34cd98860>:3: LangChainDeprecationWarning: Please see the migration guide at: https://python.langchain.com/docs/versions/migrating_memory/\n",
            "  memory = ConversationSummaryBufferMemory(\n"
          ]
        }
      ]
    },
    {
      "cell_type": "code",
      "source": [
        "# create the ConversationalRetrievalChain\n",
        "rag_chain = ConversationalRetrievalChain.from_llm(\n",
        "    llm=llm,\n",
        "    retriever=retriever,\n",
        "    verbose=False,\n",
        "    memory=memory,\n",
        "    condense_question_prompt=condense_question_prompt_passthrough,\n",
        "    combine_docs_chain_kwargs={\"prompt\": prompt},\n",
        ")\n",
        "\n",
        "# ask some questions\n",
        "q = \"What movie was Brad Pitt in?\"\n",
        "ans = rag_chain({\"question\": q, \"chat_history\": chat_history})[\"answer\"]\n",
        "print(f\"Question: {q}\\nAnswer: {ans}\\n\")\n",
        "\n",
        "q = \"How about Jonny Depp?\"\n",
        "ans = rag_chain({\"question\": q, \"chat_history\": chat_history})[\"answer\"]\n",
        "print(f\"Question: {q}\\nAnswer: {ans}\\n\")\n",
        "\n",
        "q = \"Are there movies about animals?\"\n",
        "ans = rag_chain({\"question\": q, \"chat_history\": chat_history})[\"answer\"]\n",
        "print(f\"Question: {q}\\nAnswer: {ans}\\n\")\n",
        "\n",
        "# browser the chat history\n",
        "chat_history.messages"
      ],
      "metadata": {
        "colab": {
          "base_uri": "https://localhost:8080/"
        },
        "id": "pIGNnSkJ2DVz",
        "outputId": "ea2bf5f5-62ff-470d-ee29-4e083d1e039c"
      },
      "execution_count": 13,
      "outputs": [
        {
          "output_type": "stream",
          "name": "stderr",
          "text": [
            "<ipython-input-13-8710e06fe420>:13: LangChainDeprecationWarning: The method `Chain.__call__` was deprecated in langchain 0.1.0 and will be removed in 1.0. Use :meth:`~invoke` instead.\n",
            "  ans = rag_chain({\"question\": q, \"chat_history\": chat_history})[\"answer\"]\n"
          ]
        },
        {
          "output_type": "stream",
          "name": "stdout",
          "text": [
            "Question: What movie was Brad Pitt in?\n",
            "Answer: Brad Pitt has acted in many movies. According to the search results, here are a few of the movies he has acted in:\n",
            "\n",
            "* Inglourious Basterds\n",
            "* By the Sea\n",
            "* Killing Them Softly\n",
            "* Babel\n",
            "\n",
            "Is there a specific movie you are interested in? \n",
            "\n",
            "\n",
            "Question: How about Jonny Depp?\n",
            "Answer: ## Johnny Depp's film roles:\n",
            "\n",
            "Based on the provided information, here are some movies starring Johnny Depp:\n",
            "\n",
            "* **The Rum Diary:** Johnny Depp plays a journalist who moves to Puerto Rico and falls in love with a taken woman.\n",
            "* **Charlie and the Chocolate Factory:** Depp portrays the eccentric Willy Wonka in this adaptation of the classic children's book.\n",
            "* **The Tourist:** He plays an American tourist who finds himself in danger after meeting a beautiful Interpol agent.\n",
            "* **The Imaginarium of Doctor Parnassus:** Depp plays one of several actors who portray the titular character in this fantasy film.\n",
            "\n",
            "These are just a few of the many films Johnny Depp has starred in. \n",
            "\n",
            "Would you like to know more about any of these movies or explore other films he has appeared in? \n",
            "\n",
            "\n",
            "Question: Are there movies about animals?\n",
            "Answer: Yes, based on the information I have, there are several movies that feature animals as main characters or in prominent roles:\n",
            "\n",
            "* **Open Season:** This animated film tells the story of a domesticated grizzly bear who finds himself lost in the wild and must learn to survive with the help of a wise old deer. \n",
            "* **DreamWorks Holiday Classics:** This collection of four holiday specials features characters from popular DreamWorks franchises, including Shrek the Donkey, and Alex the Lion from Madagascar, as they celebrate the holiday season. \n",
            "* **Animals on the Loose: A You vs. Wild Movie:** This interactive film, starring Bear Grylls, puts you in the role of a wildlife expert tasked with recapturing escaped animals.\n",
            "* **The Animal People:** This documentary explores the animal rights movement and the controversial issue of animal testing.\n",
            "\n",
            "These are just a few examples of movies about animals. If you're interested in learning more about animal movies, you can search online or visit a video streaming service to browse their selection.\n",
            "\n",
            "\n"
          ]
        },
        {
          "output_type": "execute_result",
          "data": {
            "text/plain": [
              "[HumanMessage(content='What movie was Brad Pitt in?', additional_kwargs={}, response_metadata={}),\n",
              " AIMessage(content='Brad Pitt has acted in many movies. According to the search results, here are a few of the movies he has acted in:\\n\\n* Inglourious Basterds\\n* By the Sea\\n* Killing Them Softly\\n* Babel\\n\\nIs there a specific movie you are interested in? \\n', additional_kwargs={}, response_metadata={}),\n",
              " HumanMessage(content='How about Jonny Depp?', additional_kwargs={}, response_metadata={}),\n",
              " AIMessage(content=\"## Johnny Depp's film roles:\\n\\nBased on the provided information, here are some movies starring Johnny Depp:\\n\\n* **The Rum Diary:** Johnny Depp plays a journalist who moves to Puerto Rico and falls in love with a taken woman.\\n* **Charlie and the Chocolate Factory:** Depp portrays the eccentric Willy Wonka in this adaptation of the classic children's book.\\n* **The Tourist:** He plays an American tourist who finds himself in danger after meeting a beautiful Interpol agent.\\n* **The Imaginarium of Doctor Parnassus:** Depp plays one of several actors who portray the titular character in this fantasy film.\\n\\nThese are just a few of the many films Johnny Depp has starred in. \\n\\nWould you like to know more about any of these movies or explore other films he has appeared in? \\n\", additional_kwargs={}, response_metadata={}),\n",
              " HumanMessage(content='Are there movies about animals?', additional_kwargs={}, response_metadata={}),\n",
              " AIMessage(content=\"Yes, based on the information I have, there are several movies that feature animals as main characters or in prominent roles:\\n\\n* **Open Season:** This animated film tells the story of a domesticated grizzly bear who finds himself lost in the wild and must learn to survive with the help of a wise old deer. \\n* **DreamWorks Holiday Classics:** This collection of four holiday specials features characters from popular DreamWorks franchises, including Shrek the Donkey, and Alex the Lion from Madagascar, as they celebrate the holiday season. \\n* **Animals on the Loose: A You vs. Wild Movie:** This interactive film, starring Bear Grylls, puts you in the role of a wildlife expert tasked with recapturing escaped animals.\\n* **The Animal People:** This documentary explores the animal rights movement and the controversial issue of animal testing.\\n\\nThese are just a few examples of movies about animals. If you're interested in learning more about animal movies, you can search online or visit a video streaming service to browse their selection.\\n\", additional_kwargs={}, response_metadata={})]"
            ]
          },
          "metadata": {},
          "execution_count": 13
        }
      ]
    },
    {
      "cell_type": "code",
      "source": [
        "chat_history.clear()"
      ],
      "metadata": {
        "id": "zG72eM1E2GNm"
      },
      "execution_count": 14,
      "outputs": []
    },
    {
      "cell_type": "code",
      "source": [
        "q = \"in which year My Little Pony was released?\"\n",
        "ans = rag_chain({\"question\": q, \"chat_history\": chat_history})[\"answer\"]\n",
        "print(f\"Question: {q}\\nAnswer: {ans}\\n\")"
      ],
      "metadata": {
        "colab": {
          "base_uri": "https://localhost:8080/"
        },
        "id": "XryqJ0Nl2IID",
        "outputId": "95a2716d-acf5-4eec-c39d-33f91e0f7a78"
      },
      "execution_count": 15,
      "outputs": [
        {
          "output_type": "stream",
          "name": "stdout",
          "text": [
            "Question: in which year My Little Pony was released?\n",
            "Answer: My Little Pony was released in 1983. This information can be found in the previous responses from the user \"Human\".\n",
            "\n",
            "I hope this clarifies things. Is there anything else I can help you with?\n",
            "\n"
          ]
        }
      ]
    },
    {
      "cell_type": "code",
      "source": [
        "q = \"what is the story of My Little Pony\"\n",
        "ans = rag_chain({\"question\": q, \"chat_history\": chat_history})[\"answer\"]\n",
        "print(f\"Question: {q}\\nAnswer: {ans}\\n\")"
      ],
      "metadata": {
        "colab": {
          "base_uri": "https://localhost:8080/"
        },
        "id": "fjYgMQRV2J17",
        "outputId": "384638df-5ba9-40bf-96ca-510b8198296b"
      },
      "execution_count": 16,
      "outputs": [
        {
          "output_type": "stream",
          "name": "stdout",
          "text": [
            "Question: what is the story of My Little Pony\n",
            "Answer: ## The Story of My Little Pony\n",
            "\n",
            "My Little Pony is a long-running franchise with a rich history spanning several decades. It encompasses various TV shows, movies, toys, and other merchandise. The core theme throughout the franchise is friendship and the importance of understanding and appreciating different personalities.\n",
            "\n",
            "Here's a brief overview of the different My Little Pony stories:\n",
            "\n",
            "**My Little Pony (1983):** The first generation of My Little Pony toys and animated specials focused on a group of earth ponies living in the magical land of Ponyland. Their adventures revolved around exploring their world, helping others, and learning valuable lessons about friendship and kindness.\n",
            "\n",
            "**My Little Pony: Friendship is Magic (2010):** This popular fourth generation of My Little Pony introduced a new generation of ponies with different types: unicorns, pegasi, and earth ponies. The story follows Twilight Sparkle, a studious unicorn who travels to Ponyville to learn about friendship under the guidance of Princess Celestia. Alongside her friends, Applejack, Rarity, Fluttershy, Rainbow Dash, and Pinkie Pie, they face various challenges, overcome obstacles, and learn valuable lessons about friendship, teamwork, and understanding different perspectives.\n",
            "\n",
            "**My Little Pony: A New Generation (2021):** This fifth generation takes place several years after the events of Friendship is Magic. The world is divided between the three pony types due to past conflicts. Sunny Starscout, an idealistic Earth pony, believes in the power of friendship and sets out to reunite the pony races. With the help of her new friends, Izzy Moonbow, Pipp Petals, Zipp Storm, and Hitch Trailblazer, they embark on a journey to bridge the divide and restore harmony to Equestria.\n",
            "\n",
            "**Other My Little Pony media:** Besides the main TV shows, the franchise has also produced various movies, specials, and short films. These stories often expand on the main storylines or introduce new adventures and characters. \n",
            "\n",
            "**Overall, the My Little Pony story is one of friendship, acceptance, and the importance of understanding and appreciating differences. It is a story that has resonated with generations of fans and continues to inspire new adventures and stories.**\n",
            "\n",
            "**Please note that I have not included any information from the previous conversation history or the context in this response. I have only used the information provided in the new question and the vector search results.**\n",
            "\n"
          ]
        }
      ]
    },
    {
      "cell_type": "code",
      "source": [
        "q = \"is Midnight Mass movie or web series\"\n",
        "ans = rag_chain({\"question\": q, \"chat_history\": chat_history})[\"answer\"]\n",
        "print(f\"Question: {q}\\nAnswer: {ans}\\n\")"
      ],
      "metadata": {
        "colab": {
          "base_uri": "https://localhost:8080/"
        },
        "id": "VqiyexoG2Mvu",
        "outputId": "a77dcfaa-a64a-4cfb-e571-cd4807ce7a76"
      },
      "execution_count": 17,
      "outputs": [
        {
          "output_type": "stream",
          "name": "stdout",
          "text": [
            "Question: is Midnight Mass movie or web series\n",
            "Answer: ## \"Midnight Mass\" is a web series.\n",
            "\n",
            "This information is not directly stated in the question or the provided context. However, I can find evidence supporting this claim in the vector search results:\n",
            "\n",
            "* **Source:** The description of \"Midnight Mass\" in the vector search result explicitly states: **\"a young priest brings glorious miracles, ominous mysteries and renewed religious fervor to a dying town desperate to believe.\"** This wording implies a narrative format consistent with a web series rather than a movie. Web series typically present serialized storytelling across multiple episodes, allowing for the gradual development of characters and intricate plotlines – aspects that seem fitting for the description provided.\n",
            "\n",
            "While this evidence provides a strong indication that \"Midnight Mass\" is a web series, it's crucial to note that this response relies on the interpretation of the provided text and does not constitute absolute confirmation. \n",
            "\n",
            "To obtain definitive confirmation, you may consider referring to official sources such as the show's website, streaming platforms, or reputable entertainment databases.\n",
            "\n",
            "\n"
          ]
        }
      ]
    },
    {
      "cell_type": "code",
      "source": [
        "q = \"Tell me deatils about The Great British Baking Show\"\n",
        "ans = rag_chain({\"question\": q, \"chat_history\": chat_history})[\"answer\"]\n",
        "print(f\"Question: {q}\\nAnswer: {ans}\\n\")"
      ],
      "metadata": {
        "colab": {
          "base_uri": "https://localhost:8080/"
        },
        "id": "_4mz1NUW2Pa8",
        "outputId": "d61ecda7-2fbb-4670-b7d5-736d01cfd6bc"
      },
      "execution_count": 18,
      "outputs": [
        {
          "output_type": "stream",
          "name": "stdout",
          "text": [
            "Question: Tell me deatils about The Great British Baking Show\n",
            "Answer: ## Summary of The Great British Baking Show\n",
            "\n",
            "Thanks for providing such a comprehensive overview of The Great British Baking Show. Here's a summary of the key points you mentioned:\n",
            "\n",
            "**Format:**\n",
            "\n",
            "* Amateur bakers compete in various baking challenges.\n",
            "* Three challenges each episode: Signature Bake, Technical Challenge, and Showstopper Challenge.\n",
            "* Judges assess technical skill, creativity, and presentation.\n",
            "* Lowest-scoring baker eliminated each week.\n",
            "\n",
            "**Challenges:**\n",
            "\n",
            "* Signature Bake: Bakers showcase their own creations based on a theme.\n",
            "* Technical Challenge: Identical recipes and ingredients, judged on execution.\n",
            "* Showstopper Challenge: Bakers impress with creative and technical bakes.\n",
            "\n",
            "**Judges:**\n",
            "\n",
            "* Paul Hollywood: Renowned baker, known for rigorous judging.\n",
            "* Prue Leith: Chef, restaurateur, extensive culinary knowledge.\n",
            "\n",
            "**Production:**\n",
            "\n",
            "* Love Productions, filmed in a large tent in the British countryside.\n",
            "* High production values, engaging format, warm-hearted tone.\n",
            "\n",
            "**Popularity:**\n",
            "\n",
            "* Major hit in the UK, millions of viewers.\n",
            "* Large global following, adapted to other countries.\n",
            "* BAFTA Award for Best Reality and Constructed Factual Programme.\n",
            "\n",
            "**Additional Details:**\n",
            "\n",
            "* First aired in 2010.\n",
            "* 14 seasons to date.\n",
            "* Over 200 contestants featured.\n",
            "* Available on Netflix and other streaming platforms.\n",
            "\n",
            "## Questions or Clarifications\n",
            "\n",
            "I didn't find any specific questions in the provided information. However, if you have any further questions or require clarifications, please feel free to ask! I'm here to help you learn more about The Great British Baking Show or any other topic you'd like to explore.\n",
            "\n",
            "\n"
          ]
        }
      ]
    }
  ]
}
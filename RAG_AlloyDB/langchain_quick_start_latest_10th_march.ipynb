{
  "cells": [
    {
      "cell_type": "markdown",
      "metadata": {
        "id": "mbF2F2miAT4a"
      },
      "source": [
        "[![Open In Colab](https://colab.research.google.com/assets/colab-badge.svg)](https://colab.research.google.com/github/googleapis/langchain-google-alloydb-pg-python/blob/main/samples/langchain_quick_start.ipynb)\n",
        "\n",
        "---\n",
        "# Introduction\n",
        "\n",
        "In this codelab, you'll learn how to create a powerful interactive generative AI application using Retrieval Augmented Generation powered by [AlloyDB for PostgreSQL](https://cloud.google.com/alloydb) and [LangChain](https://www.langchain.com/). We will be creating an application grounded in a [Netflix Movie dataset](https://www.kaggle.com/datasets/shivamb/netflix-shows), allowing you to interact with movie data in exciting new ways."
      ]
    },
    {
      "cell_type": "markdown",
      "metadata": {
        "id": "DzDgqJHgysy1"
      },
      "source": [
        "## What you'll learn\n",
        "\n",
        "* How to deploy a AlloyDB for PostgreSQL instance\n",
        "* How to use AlloyDB for PostgreSQL as a VectorStore\n",
        "* How to use AlloyDB for PostgreSQL as a DocumentLoader\n",
        "* How to use AlloyDB for PostgreSQL for ChatHistory storage"
      ]
    },
    {
      "cell_type": "markdown",
      "metadata": {
        "id": "vHdR4fF3vLWA"
      },
      "source": [
        "# Setup and Requirements\n",
        "\n",
        "In the following instructions you will learn to:\n",
        "\n",
        "1. Install required dependencies for our application\n",
        "2. Set up authentication for our project\n",
        "3. Set up a AlloyDB for PostgreSQL Instance\n",
        "4. Import the data used by our application"
      ]
    },
    {
      "cell_type": "markdown",
      "metadata": {
        "id": "uy9KqgPQ4GBi"
      },
      "source": [
        "## Install dependencies\n",
        "First you will need to install the dependencies needed to run this demo app."
      ]
    },
    {
      "cell_type": "code",
      "execution_count": null,
      "metadata": {
        "id": "M_ppDxYf4Gqs"
      },
      "outputs": [],
      "source": [
        "%pip install langchain-google-alloydb-pg langchain langchain-google-vertexai google-cloud-alloydb-connector[pg8000]"
      ]
    },
    {
      "cell_type": "markdown",
      "metadata": {
        "id": "DeUbHclxw7_l"
      },
      "source": [
        "## Authenticate to Google Cloud within Colab\n",
        "In order to access your Google Cloud Project from this notebook, you will need to Authenticate as an IAM user."
      ]
    },
    {
      "cell_type": "code",
      "execution_count": 2,
      "metadata": {
        "id": "_Q9hyqdyEx6l"
      },
      "outputs": [],
      "source": [
        "from google.colab import auth\n",
        "\n",
        "auth.authenticate_user()"
      ]
    },
    {
      "cell_type": "markdown",
      "metadata": {
        "id": "UCiNGP1Qxd6x"
      },
      "source": [
        "## Connect Your Google Cloud Project"
      ]
    },
    {
      "cell_type": "code",
      "execution_count": 12,
      "metadata": {
        "colab": {
          "base_uri": "https://localhost:8080/"
        },
        "id": "SLUGlG6UE2CK",
        "outputId": "079ab330-ee11-42b6-cde8-10f766804e37"
      },
      "outputs": [
        {
          "output_type": "stream",
          "name": "stdout",
          "text": [
            "Updated property [core/project].\n"
          ]
        }
      ],
      "source": [
        "# @markdown Please fill in the value below with your GCP project ID and then run the cell.\n",
        "\n",
        "# Please fill in these values.\n",
        "project_id = \"rag-alloydb-poc-450115\"  # @param {type:\"string\"}\n",
        "\n",
        "# Quick input validations.\n",
        "assert project_id, \"⚠️ Please provide a Google Cloud project ID\"\n",
        "\n",
        "# Configure gcloud.\n",
        "!gcloud config set project {project_id}"
      ]
    },
    {
      "cell_type": "markdown",
      "metadata": {
        "id": "O-oqMC5Ox-ZM"
      },
      "source": [
        "## Enable APIs for AlloyDB and Vertex AI within your project"
      ]
    },
    {
      "cell_type": "markdown",
      "metadata": {
        "id": "X-bzfFb4A-xK"
      },
      "source": [
        "You will need to enable these APIs in order to create an AlloyDB database and utilize Vertex AI as an embeddings service!"
      ]
    },
    {
      "cell_type": "code",
      "execution_count": 13,
      "metadata": {
        "colab": {
          "base_uri": "https://localhost:8080/"
        },
        "id": "CKWrwyfzyTwH",
        "outputId": "7ce62cad-f078-4b0e-a584-407aedbd182b"
      },
      "outputs": [
        {
          "output_type": "stream",
          "name": "stdout",
          "text": [
            "Operation \"operations/acat.p2-247980882241-c34500a2-008e-48a0-8b53-a3fa2260e8c5\" finished successfully.\n"
          ]
        }
      ],
      "source": [
        "# enable GCP services\n",
        "!gcloud services enable alloydb.googleapis.com aiplatform.googleapis.com"
      ]
    },
    {
      "cell_type": "markdown",
      "metadata": {
        "id": "Gn8g7-wCyZU6"
      },
      "source": [
        "## Set up AlloyDB\n",
        "You will need a Postgres AlloyDB instance for the following stages of this notebook. Please set the following variables."
      ]
    },
    {
      "cell_type": "code",
      "execution_count": 14,
      "metadata": {
        "colab": {
          "base_uri": "https://localhost:8080/"
        },
        "id": "8q2lc-Po1mPv",
        "outputId": "75f06c35-0f66-4ffd-ad5f-f4c6af9044b4"
      },
      "outputs": [
        {
          "name": "stdout",
          "output_type": "stream",
          "text": [
            "Please provide a password to be used for 'postgres' database user: postgres\n"
          ]
        }
      ],
      "source": [
        "# @markdown Please fill in the both the Google Cloud region and name of your AlloyDB instance. Once filled in, run the cell.\n",
        "\n",
        "# Please fill in these values.\n",
        "region = \"us-east4\"  # @param {type:\"string\"}\n",
        "cluster_name = \"alloydb-cluster\"  # @param {type:\"string\"}\n",
        "instance_name = \"primary-instance\"  # @param {type:\"string\"}\n",
        "database_name = \"langchain\"  # @param {type:\"string\"}\n",
        "password = input(\"Please provide a password to be used for 'postgres' database user: \")"
      ]
    },
    {
      "cell_type": "markdown",
      "metadata": {
        "id": "T616pEOUygYQ"
      },
      "source": [
        "### Create an AlloyDB Instance\n",
        "If you have already created an AlloyDB Cluster and Instance, you can skip these steps and skip to the connectivity section."
      ]
    },
    {
      "cell_type": "markdown",
      "metadata": {
        "id": "xyZYX4Jo1vfh"
      },
      "source": [
        "> ⏳ - Creating an AlloyDB cluster may take a few minutes."
      ]
    },
    {
      "cell_type": "code",
      "execution_count": 16,
      "metadata": {
        "colab": {
          "base_uri": "https://localhost:8080/"
        },
        "id": "XXI1uUu3y8gc",
        "outputId": "144e254d-47e0-43bb-a480-fe4a59f50a2e"
      },
      "outputs": [
        {
          "output_type": "stream",
          "name": "stdout",
          "text": [
            "Operation ID: operation-1741580804434-62ff56132287f-ba2a2347-127046d3\n"
          ]
        }
      ],
      "source": [
        "# Quick input validations.\n",
        "assert region, \"⚠️ Please provide a Google Cloud region\"\n",
        "assert instance_name, \"⚠️ Please provide the name of your instance\"\n",
        "assert database_name, \"⚠️ Please provide the name of your database_name\"\n",
        "\n",
        "# create the AlloyDB Cluster\n",
        "!gcloud beta alloydb clusters create {cluster_name} --password={password} --region={region}\n",
        "#gcloud beta alloydb clusters create {cluster_name} --password={password} --region={region}\n",
        "# Enable Service Networking API From UI\n",
        "# Enable Compute Engine API from UI\n",
        "# IF DB creation fails then create Using UI\n",
        "    #In Primary Cluster Enable public ID of from UI"
      ]
    },
    {
      "cell_type": "markdown",
      "metadata": {
        "id": "o8LkscYH5Vfp"
      },
      "source": [
        "# **Create** an instance attached to our cluster with the following command.\n",
        "> ⏳ - Creating an AlloyDB instance may take a few minutes."
      ]
    },
    {
      "cell_type": "code",
      "execution_count": 17,
      "metadata": {
        "id": "TkqQSWoY5Kab",
        "outputId": "c918a75c-0b2e-4d95-e3f4-90ea3b302874",
        "colab": {
          "base_uri": "https://localhost:8080/"
        }
      },
      "outputs": [
        {
          "output_type": "stream",
          "name": "stdout",
          "text": [
            "Operation ID: operation-1741580843983-62ff5638da328-ffa57df2-c570deb3\n"
          ]
        }
      ],
      "source": [
        "!gcloud beta alloydb instances create {instance_name} --instance-type=PRIMARY --cpu-count=2 --region={region} --cluster={cluster_name}"
      ]
    },
    {
      "cell_type": "markdown",
      "metadata": {
        "id": "BXsQ1UJv4ZVJ"
      },
      "source": [
        "To connect to your AlloyDB instance from this notebook, you will need to enable public IP on your instance. Alternatively, you can follow [these instructions](https://cloud.google.com/alloydb/docs/connect-external) to connect to an AlloyDB for PostgreSQL instance with Private IP from outside your VPC."
      ]
    },
    {
      "cell_type": "code",
      "execution_count": 19,
      "metadata": {
        "colab": {
          "base_uri": "https://localhost:8080/"
        },
        "id": "OPVWsQB04Yyl",
        "outputId": "cd12a43a-9d1a-41e1-a12f-16d09c26eae8"
      },
      "outputs": [
        {
          "output_type": "stream",
          "name": "stdout",
          "text": [
            "\u001b[1;31mERROR:\u001b[0m (gcloud.beta.alloydb.instances.update) INVALID_ARGUMENT: The request was invalid: password complexity flag password.enforce_complexity is required when public IP is enabled\n",
            "- '@type': type.googleapis.com/google.rpc.BadRequest\n",
            "  fieldViolations:\n",
            "  - field: database_flags\n",
            "- '@type': type.googleapis.com/google.rpc.RequestInfo\n",
            "  requestId: db4f7c805df93c65\n"
          ]
        }
      ],
      "source": [
        "!gcloud beta alloydb instances update {instance_name} --region={region} --cluster={cluster_name} --assign-inbound-public-ip=ASSIGN_IPV4\n",
        "#Enable public ID of from UI"
      ]
    },
    {
      "cell_type": "markdown",
      "metadata": {
        "id": "mjA6AiAzB2Du"
      },
      "source": [
        "Now create a connection pool to connect to our instance."
      ]
    },
    {
      "cell_type": "code",
      "execution_count": 20,
      "metadata": {
        "id": "zsLi0a7FIYjT"
      },
      "outputs": [],
      "source": [
        "from google.cloud.alloydb.connector import Connector, IPTypes\n",
        "import sqlalchemy\n",
        "\n",
        "\n",
        "connection_string = f\"projects/{project_id}/locations/{region}/clusters/{cluster_name}/instances/{instance_name}\"\n",
        "# initialize Connector object\n",
        "connector = Connector()\n",
        "\n",
        "\n",
        "# function to return the database connection\n",
        "def getconn():\n",
        "    conn = connector.connect(\n",
        "        connection_string,\n",
        "        \"pg8000\",\n",
        "        user=\"postgres\",\n",
        "        password=password,\n",
        "        db=\"postgres\",\n",
        "        enable_iam_auth=False,\n",
        "        ip_type=IPTypes.PUBLIC,\n",
        "    )\n",
        "    return conn\n",
        "\n",
        "\n",
        "# create connection pool\n",
        "pool = sqlalchemy.create_engine(\n",
        "    \"postgresql+pg8000://\", creator=getconn, isolation_level=\"AUTOCOMMIT\"\n",
        ")"
      ]
    },
    {
      "cell_type": "markdown",
      "metadata": {
        "id": "i_yNN1MnJpTR"
      },
      "source": [
        "### Create a Database\n",
        "\n",
        "Next you will create database to store the data for this application using the connection pool. Enabling public IP takes a few minutes, you may get an error that there is no public IP address. Please wait and retry this step if you hit an error!"
      ]
    },
    {
      "cell_type": "code",
      "execution_count": 21,
      "metadata": {
        "id": "hPE6tt5eJqhq"
      },
      "outputs": [],
      "source": [
        "with pool.connect() as db_conn:\n",
        "    db_conn.execute(sqlalchemy.text(f\"CREATE DATABASE {database_name}\"))\n",
        "connector.close()"
      ]
    },
    {
      "cell_type": "markdown",
      "metadata": {
        "id": "hUJ1fK-A-mRd"
      },
      "source": [
        "#### Connect to our New Database\n",
        "\n",
        "Now you will add in a connection function that connects to your new database!"
      ]
    },
    {
      "cell_type": "code",
      "execution_count": 22,
      "metadata": {
        "id": "e8TSMLes-mRd"
      },
      "outputs": [],
      "source": [
        "from google.cloud.alloydb.connector import Connector, IPTypes\n",
        "import sqlalchemy\n",
        "\n",
        "\n",
        "connection_string = f\"projects/{project_id}/locations/{region}/clusters/{cluster_name}/instances/{instance_name}\"\n",
        "# initialize Connector object\n",
        "connector = Connector()\n",
        "\n",
        "\n",
        "# function to return the database connection\n",
        "def getconn():\n",
        "    conn = connector.connect(\n",
        "        connection_string,\n",
        "        \"pg8000\",\n",
        "        user=\"postgres\",\n",
        "        password=password,\n",
        "        db=database_name,\n",
        "        enable_iam_auth=False,\n",
        "        ip_type=IPTypes.PUBLIC,\n",
        "    )\n",
        "    return conn\n",
        "\n",
        "\n",
        "# create connection pool\n",
        "pool = sqlalchemy.create_engine(\"postgresql+pg8000://\", creator=getconn)"
      ]
    },
    {
      "cell_type": "markdown",
      "metadata": {
        "id": "HdolCWyatZmG"
      },
      "source": [
        "### Import data to your database\n",
        "\n",
        "Now that you have your database, you will need to import data! We will be using a [Netflix Dataset from Kaggle](https://www.kaggle.com/datasets/shivamb/netflix-shows). Here is what the data looks like:"
      ]
    },
    {
      "cell_type": "markdown",
      "metadata": {
        "id": "36-FBKzJ-tLa"
      },
      "source": [
        "| show_id | type    | title                | director         | cast                                                                                                                                                  | country       | date_added        | release_year | rating | duration  | listed_in                                    | description                                                                                                                                                                           |\n",
        "|---------|---------|----------------------|------------------|--------------------------------------------------------------------------------------------------------------------------------------------------------|---------------|-------------------|--------------|--------|-----------|----------------------------------------------|---------------------------------------------------------------------------------------------------------------------------------------------------------------------------------------|\n",
        "| s1      | Movie   | Dick Johnson Is Dead | Kirsten Johnson  |                                                                                                                                                        | United States | September 25, 2021 | 2020         | PG-13  | 90 min    | Documentaries                                | As her father nears the end of his life, filmmaker Kirsten Johnson stages his death in inventive and comical ways to help them both face the inevitable.                              |\n",
        "| s2      | TV Show | Blood & Water        |                  | Ama Qamata, Khosi Ngema, Gail Mabalane, Thabang Molaba, Dillon Windvogel, Natasha Thahane, Arno Greeff, Xolile Tshabalala, Getmore Sithole, Cindy Mahlangu, Ryle De Morny, Greteli Fincham, Sello Maake Ka-Ncube, Odwa Gwanya, Mekaila Mathys, Sandi Schultz, Duane Williams, Shamilla Miller, Patrick Mofokeng | South Africa  | September 24, 2021 | 2021         | TV-MA  | 2 Seasons | International TV Shows, TV Dramas, TV Mysteries | After crossing paths at a party, a Cape Town teen sets out to prove whether a private-school swimming star is her sister who was abducted at birth.                                   |\n",
        "| s3      | TV Show | Ganglands            | Julien Leclercq  | Sami Bouajila, Tracy Gotoas, Samuel Jouy, Nabiha Akkari, Sofia Lesaffre, Salim Kechiouche, Noureddine Farihi, Geert Van Rampelberg, Bakary Diombera                                   |               | September 24, 2021 | 2021         | TV-MA  | 1 Season  | Crime TV Shows, International TV Shows, TV Action & Adventure | To protect his family from a powerful drug lord, skilled thief Mehdi and his expert team of robbers are pulled into a violent and deadly turf war.                                     |\n",
        "| s4      | TV Show | Jailbirds New Orleans |                  |                                                                                                                                                        |               | September 24, 2021 | 2021         | TV-MA  | 1 Season  | Docuseries, Reality TV                        | Feuds, flirtations and toilet talk go down among the incarcerated women at the Orleans Justice Center in New Orleans on this gritty reality series.                                   |\n",
        "| s5      | TV Show | Kota Factory         |                  | Mayur More, Jitendra Kumar, Ranjan Raj, Alam Khan, Ahsaas Channa, Revathi Pillai, Urvi Singh, Arun Kumar                                                 | India        | September 24, 2021 | 2021         | TV-MA  | 2 Seasons | International TV Shows, Romantic TV Shows, TV Comedies | In a city of coaching centers known to train India’s finest collegiate minds, an earnest but unexceptional student and his friends navigate campus life. |\n"
      ]
    },
    {
      "cell_type": "markdown",
      "metadata": {
        "id": "kQ2KWsYI_Msa"
      },
      "source": [
        "The following code has been prepared code to help insert the CSV data into your AlloyDB for PostgreSQL database."
      ]
    },
    {
      "cell_type": "markdown",
      "metadata": {
        "id": "Dzr-2VZIkvtY"
      },
      "source": [
        "Download the CSV file:"
      ]
    },
    {
      "cell_type": "code",
      "execution_count": 23,
      "metadata": {
        "colab": {
          "base_uri": "https://localhost:8080/"
        },
        "id": "5KkIQ2zSvQkN",
        "outputId": "4fea5711-b06c-49fd-e93b-a03243dba0ad"
      },
      "outputs": [
        {
          "output_type": "stream",
          "name": "stdout",
          "text": [
            "Copying gs://cloud-samples-data/langchain/common/first_five_netflix_titles.csv...\n",
            "/ [1 files][  2.0 KiB/  2.0 KiB]                                                \n",
            "Operation completed over 1 objects/2.0 KiB.                                      \n"
          ]
        }
      ],
      "source": [
        "!gsutil cp gs://cloud-samples-data/langchain/common/first_five_netflix_titles.csv ."
      ]
    },
    {
      "cell_type": "markdown",
      "metadata": {
        "id": "oFU13dCBlYHh"
      },
      "source": [
        "The download can be verified by the following command or using the \"Files\" tab."
      ]
    },
    {
      "cell_type": "code",
      "execution_count": 24,
      "metadata": {
        "colab": {
          "base_uri": "https://localhost:8080/"
        },
        "id": "nQBs10I8vShh",
        "outputId": "8aac4773-bd1c-477d-f8cd-7b391a596b07"
      },
      "outputs": [
        {
          "output_type": "stream",
          "name": "stdout",
          "text": [
            "first_five_netflix_titles.csv  sample_data\n"
          ]
        }
      ],
      "source": [
        "!ls"
      ]
    },
    {
      "cell_type": "markdown",
      "metadata": {
        "id": "2H7rorG9Ivur"
      },
      "source": [
        "In this next step you will:\n",
        "\n",
        "1. Create the table into store data\n",
        "2. And insert the data from the CSV into the database table"
      ]
    },
    {
      "cell_type": "code",
      "execution_count": 25,
      "metadata": {
        "id": "qCsM2KXbdYiv"
      },
      "outputs": [],
      "source": [
        "import pandas as pd\n",
        "#netflix_titles\n",
        "create_table_cmd = sqlalchemy.text(\n",
        "    \"\"\"\n",
        "    CREATE TABLE netflix_titles (\n",
        "        show_id VARCHAR,\n",
        "        type VARCHAR,\n",
        "        title VARCHAR,\n",
        "        director VARCHAR,\n",
        "        \"cast\" VARCHAR,\n",
        "        country VARCHAR,\n",
        "        date_added VARCHAR,\n",
        "        release_year INTEGER,\n",
        "        rating VARCHAR,\n",
        "        duration VARCHAR,\n",
        "        listed_in VARCHAR,\n",
        "        description TEXT\n",
        "    )\n",
        "    \"\"\"\n",
        ")\n",
        "\n",
        "\n",
        "netflix_data = \"/content/first_five_netflix_titles.csv\"\n",
        "\n",
        "df = pd.read_csv(netflix_data)\n",
        "insert_data_cmd = sqlalchemy.text(\n",
        "    \"\"\"\n",
        "    INSERT INTO netflix_titles (\n",
        "        show_id, type, title, director, \"cast\", country, date_added,\n",
        "        release_year, rating, duration, listed_in, description\n",
        "    )\n",
        "    VALUES (\n",
        "        :show_id, :type, :title, :director, :cast, :country, :date_added,\n",
        "        :release_year, :rating, :duration, :listed_in, :description\n",
        "    )\n",
        "    \"\"\"\n",
        ")\n",
        "parameter_map = [\n",
        "    {\n",
        "        \"show_id\": row[\"show_id\"],\n",
        "        \"type\": row[\"type\"],\n",
        "        \"title\": row[\"title\"],\n",
        "        \"director\": row[\"director\"],\n",
        "        \"cast\": row[\"cast\"],\n",
        "        \"country\": row[\"country\"],\n",
        "        \"date_added\": row[\"date_added\"],\n",
        "        \"release_year\": row[\"release_year\"],\n",
        "        \"rating\": row[\"rating\"],\n",
        "        \"duration\": row[\"duration\"],\n",
        "        \"listed_in\": row[\"listed_in\"],\n",
        "        \"description\": row[\"description\"],\n",
        "    }\n",
        "    for index, row in df.iterrows()\n",
        "]\n",
        "\n",
        "with pool.connect() as db_conn:\n",
        "    db_conn.execute(create_table_cmd)\n",
        "    db_conn.execute(\n",
        "        insert_data_cmd,\n",
        "        parameter_map,\n",
        "    )\n",
        "    db_conn.commit()\n",
        "connector.close()"
      ]
    },
    {
      "cell_type": "markdown",
      "metadata": {
        "id": "SsGS80H04bDN"
      },
      "source": [
        "## Use case 1: AlloyDB for Postgres as a document loader\n",
        "\n",
        "---\n",
        "\n",
        "\n",
        "\n",
        "Now that you have data in your database, you are ready to use AlloyDB for PostgreSQL as a document loader. This means you will pull data from the database and load it into memory as documents. These documents can be used to create a vector store."
      ]
    },
    {
      "cell_type": "markdown",
      "metadata": {
        "id": "-CQgPON8dwSK"
      },
      "source": [
        "First, create a connection to your AlloyDB for PostgreSQL instance using the `AlloyDBEngine` class."
      ]
    },
    {
      "cell_type": "code",
      "execution_count": 27,
      "metadata": {
        "id": "zrwTsWHMkQ_v"
      },
      "outputs": [],
      "source": [
        "from langchain_google_alloydb_pg import AlloyDBEngine, Column, AlloyDBLoader\n",
        "\n",
        "engine = AlloyDBEngine.from_instance(\n",
        "    project_id=project_id,\n",
        "    instance=instance_name,\n",
        "    region=region,\n",
        "    cluster=cluster_name,\n",
        "    database=database_name,\n",
        "    user=\"postgres\",\n",
        "    password=password,\n",
        ")"
      ]
    },
    {
      "cell_type": "markdown",
      "metadata": {
        "id": "8s-C0P-Oee69"
      },
      "source": [
        "The `AlloyDBLoader` requires an `AlloyDBEngine` object to define the database connection and a `query` to define which data is to be retrieved. The `content_columns` argument can be used to define the columns that will be used as \"content\" in the document object we will later construct. The rest of the columns in that table will become the \"metadata\" associated with the documents."
      ]
    },
    {
      "cell_type": "code",
      "execution_count": 28,
      "metadata": {
        "id": "2SdFJT6Vece1"
      },
      "outputs": [],
      "source": [
        "table_name = \"netflix_titles\"\n",
        "content_columns = [\"title\", \"director\", \"cast\", \"description\"]\n",
        "loader = await AlloyDBLoader.create(\n",
        "    engine=engine,\n",
        "    query=f\"SELECT * FROM {table_name};\",\n",
        "    content_columns=content_columns,\n",
        ")"
      ]
    },
    {
      "cell_type": "markdown",
      "metadata": {
        "id": "dsL-KFrmfuS1"
      },
      "source": [
        "Use method `aload()` to pull documents from out database. You can see the first 5 documents from the database here."
      ]
    },
    {
      "cell_type": "code",
      "execution_count": 29,
      "metadata": {
        "colab": {
          "base_uri": "https://localhost:8080/"
        },
        "id": "t4zTx-HLfwmW",
        "outputId": "583a153b-6da4-4fed-ff76-7f1dd5f16751"
      },
      "outputs": [
        {
          "output_type": "stream",
          "name": "stdout",
          "text": [
            "Loaded 5 from the database. 5 Examples:\n",
            "page_content='Dick Johnson Is Dead Kirsten Johnson nan As her father nears the end of his life, filmmaker Kirsten Johnson stages his death in inventive and comical ways to help them both face the inevitable.' metadata={'show_id': 's1', 'type': 'Movie', 'country': 'United States', 'date_added': 'September 25, 2021', 'release_year': 2020, 'rating': 'PG-13', 'duration': '90 min', 'listed_in': 'Documentaries'}\n",
            "page_content='Blood & Water nan Ama Qamata, Khosi Ngema, Gail Mabalane, Thabang Molaba, Dillon Windvogel, Natasha Thahane, Arno Greeff, Xolile Tshabalala, Getmore Sithole, Cindy Mahlangu, Ryle De Morny, Greteli Fincham, Sello Maake Ka-Ncube, Odwa Gwanya, Mekaila Mathys, Sandi Schultz, Duane Williams, Shamilla Miller, Patrick Mofokeng After crossing paths at a party, a Cape Town teen sets out to prove whether a private-school swimming star is her sister who was abducted at birth.' metadata={'show_id': 's2', 'type': 'TV Show', 'country': 'South Africa', 'date_added': 'September 24, 2021', 'release_year': 2021, 'rating': 'TV-MA', 'duration': '2 Seasons', 'listed_in': 'International TV Shows, TV Dramas, TV Mysteries'}\n",
            "page_content='Ganglands Julien Leclercq Sami Bouajila, Tracy Gotoas, Samuel Jouy, Nabiha Akkari, Sofia Lesaffre, Salim Kechiouche, Noureddine Farihi, Geert Van Rampelberg, Bakary Diombera To protect his family from a powerful drug lord, skilled thief Mehdi and his expert team of robbers are pulled into a violent and deadly turf war.' metadata={'show_id': 's3', 'type': 'TV Show', 'country': 'nan', 'date_added': 'September 24, 2021', 'release_year': 2021, 'rating': 'TV-MA', 'duration': '1 Season', 'listed_in': 'Crime TV Shows, International TV Shows, TV Action & Adventure'}\n",
            "page_content='Jailbirds New Orleans nan nan Feuds, flirtations and toilet talk go down among the incarcerated women at the Orleans Justice Center in New Orleans on this gritty reality series.' metadata={'show_id': 's4', 'type': 'TV Show', 'country': 'nan', 'date_added': 'September 24, 2021', 'release_year': 2021, 'rating': 'TV-MA', 'duration': '1 Season', 'listed_in': 'Docuseries, Reality TV'}\n",
            "page_content='Kota Factory nan Mayur More, Jitendra Kumar, Ranjan Raj, Alam Khan, Ahsaas Channa, Revathi Pillai, Urvi Singh, Arun Kumar In a city of coaching centers known to train India’s finest collegiate minds, an earnest but unexceptional student and his friends navigate campus life.' metadata={'show_id': 's5', 'type': 'TV Show', 'country': 'India', 'date_added': 'September 24, 2021', 'release_year': 2021, 'rating': 'TV-MA', 'duration': '2 Seasons', 'listed_in': 'International TV Shows, Romantic TV Shows, TV Comedies'}\n"
          ]
        }
      ],
      "source": [
        "documents = await loader.aload()\n",
        "print(f\"Loaded {len(documents)} from the database. 5 Examples:\")\n",
        "for doc in documents[:5]:\n",
        "    print(doc)"
      ]
    },
    {
      "cell_type": "markdown",
      "metadata": {
        "id": "xim017o8-mRm"
      },
      "source": [
        "Nice, you just used AlloyDB for Postgres as a document loader!"
      ]
    },
    {
      "cell_type": "markdown",
      "metadata": {
        "id": "z9uLV3bs4noo"
      },
      "source": [
        "## Use case 2: AlloyDB for PostgreSQL as Vector Store"
      ]
    },
    {
      "cell_type": "markdown",
      "metadata": {
        "id": "duVsSeMcgEWl"
      },
      "source": [
        "Now, you will learn how to put all of the documents into a vector store so that you perform a vector search."
      ]
    },
    {
      "cell_type": "markdown",
      "source": [],
      "metadata": {
        "id": "XZ_6i2A6TVA3"
      }
    },
    {
      "cell_type": "markdown",
      "metadata": {
        "id": "jfH8oQJ945Ko"
      },
      "source": [
        "### Create Your Vector Store table\n",
        "\n",
        "Create a vector store table that can preserve the Document's metadata by using the method `init_vectorstore_table` and defining specific metadata columns. The vector size is required. The example shows the vector size, `768`, that corresponds with the length of the vectors computed by the model our embeddings service uses, Vertex AI's `textembedding-gecko`."
      ]
    },
    {
      "cell_type": "code",
      "execution_count": 58,
      "metadata": {
        "id": "e_rmjywG47pv"
      },
      "outputs": [],
      "source": [
        "from langchain_google_alloydb_pg import AlloyDBEngine, Column\n",
        "\n",
        "sample_vector_table_name = \"movie_vector_table_samples\"\n",
        "\n",
        "engine = AlloyDBEngine.from_instance(\n",
        "    project_id=project_id,\n",
        "    instance=instance_name,\n",
        "    region=region,\n",
        "    cluster=cluster_name,\n",
        "    database=database_name,\n",
        "    user=\"postgres\",\n",
        "    password=password,\n",
        ")\n",
        "\n",
        "engine.init_vectorstore_table(\n",
        "    sample_vector_table_name,\n",
        "    vector_size=768,\n",
        "    metadata_columns=[\n",
        "        Column(\"show_id\", \"VARCHAR\", nullable=True),\n",
        "        Column(\"type\", \"VARCHAR\", nullable=True),\n",
        "        Column(\"country\", \"VARCHAR\", nullable=True),\n",
        "        Column(\"date_added\", \"VARCHAR\", nullable=True),\n",
        "        Column(\"release_year\", \"INTEGER\", nullable=True),\n",
        "        Column(\"rating\", \"VARCHAR\", nullable=True),\n",
        "        Column(\"duration\", \"VARCHAR\", nullable=True),\n",
        "        Column(\"listed_in\", \"VARCHAR\", nullable=True),\n",
        "    ],\n",
        "    overwrite_existing=True,  # Enabling this will recreate the table if exists.\n",
        ")"
      ]
    },
    {
      "cell_type": "markdown",
      "metadata": {
        "id": "KG6rwEuJLNIo"
      },
      "source": [
        "### Try inserting the documents into the vector table\n",
        "\n",
        "Next, you will create a `AlloyDBVectorStore` object that connects to the new AlloyDB database table to store the data from the documents. Note that for each row, the embedding service will be called to compute the embeddings to store in the vector table. Pricing details can be found [here](https://cloud.google.com/vertex-ai/pricing)."
      ]
    },
    {
      "cell_type": "code",
      "execution_count": 59,
      "metadata": {
        "id": "Wo4-7EYCIFF9"
      },
      "outputs": [],
      "source": [
        "from langchain_google_vertexai import VertexAIEmbeddings\n",
        "from langchain_google_alloydb_pg import AlloyDBVectorStore, AlloyDBEngine\n",
        "\n",
        "# Initialize the embedding service. In this case we are using version 003 of Vertex AI's textembedding-gecko model. In general, it is good practice to specify the model version used.\n",
        "embeddings_service = VertexAIEmbeddings(\n",
        "    model_name=\"textembedding-gecko@003\", project=project_id\n",
        ")\n",
        "\n",
        "engine = AlloyDBEngine.from_instance(\n",
        "    project_id=project_id,\n",
        "    instance=instance_name,\n",
        "    region=region,\n",
        "    cluster=cluster_name,\n",
        "    database=database_name,\n",
        "    user=\"postgres\",\n",
        "    password=password,\n",
        ")\n",
        "\n",
        "vector_store = AlloyDBVectorStore.create_sync(\n",
        "    engine=engine,\n",
        "    embedding_service=embeddings_service,\n",
        "    table_name=sample_vector_table_name,\n",
        "    metadata_columns=[\n",
        "        \"show_id\",\n",
        "        \"type\",\n",
        "        \"country\",\n",
        "        \"date_added\",\n",
        "        \"release_year\",\n",
        "        \"duration\",\n",
        "        \"listed_in\",\n",
        "    ],\n",
        ")"
      ]
    },
    {
      "cell_type": "markdown",
      "metadata": {
        "id": "fr1rP6KQ-8ag"
      },
      "source": [
        "Now, add the documents data into the vector table. Here is a code example to load the first 5 documents in the list."
      ]
    },
    {
      "cell_type": "code",
      "execution_count": 32,
      "metadata": {
        "colab": {
          "base_uri": "https://localhost:8080/"
        },
        "id": "jnbs6hPOfwv9",
        "outputId": "46d1fe0f-71d4-4bb8-b65e-ea77467f3eff"
      },
      "outputs": [
        {
          "output_type": "execute_result",
          "data": {
            "text/plain": [
              "5"
            ]
          },
          "metadata": {},
          "execution_count": 32
        }
      ],
      "source": [
        "len(documents)"
      ]
    },
    {
      "cell_type": "code",
      "source": [
        "docs_to_load = documents[:1]\n",
        "docs_to_load"
      ],
      "metadata": {
        "colab": {
          "base_uri": "https://localhost:8080/"
        },
        "id": "l6OTNjs-m1cY",
        "outputId": "3d4b9784-752b-42e0-cb9b-50ad6a5358d0"
      },
      "execution_count": 41,
      "outputs": [
        {
          "output_type": "execute_result",
          "data": {
            "text/plain": [
              "[Document(metadata={'rating': 'PG-13'}, page_content='Dick Johnson Is Dead Kirsten Johnson nan As her father nears the end of his life, filmmaker Kirsten Johnson stages his death in inventive and comical ways to help them both face the inevitable.')]"
            ]
          },
          "metadata": {},
          "execution_count": 41
        }
      ]
    },
    {
      "cell_type": "code",
      "execution_count": 60,
      "metadata": {
        "colab": {
          "base_uri": "https://localhost:8080/"
        },
        "id": "CTks8Cy--93B",
        "outputId": "a0a94e48-5eae-45ce-83d1-c3a603f698d3"
      },
      "outputs": [
        {
          "output_type": "execute_result",
          "data": {
            "text/plain": [
              "['2100f844-d7d7-41be-abf1-84bcfb42e714',\n",
              " '8e91f682-3c13-49a0-85a5-e37ff4622ebb']"
            ]
          },
          "metadata": {},
          "execution_count": 60
        }
      ],
      "source": [
        "import uuid\n",
        "\n",
        "docs_to_load = documents[:5]\n",
        "#docs_to_load = documents[:1]\n",
        "# ! Uncomment the following line to load all 8,800+ documents to the database vector table with calling the embedding service.\n",
        "#docs_to_load = documents\n",
        "\n",
        "# ids = [str(uuid.uuid4()) for i in range(len(docs_to_load))]\n",
        "# vector_store.add_documents(docs_to_load, ids)\n",
        "# Generate the embedding for the document\n",
        "\n",
        "\n",
        "# Example documents and metadata\n",
        "documents = [\n",
        "    \"A thrilling sci-fi movie about space exploration.\",\n",
        "    \"A heartwarming animated movie about friendship.\",\n",
        "]\n",
        "\n",
        "metadata_list = [\n",
        "    {\n",
        "        \"show_id\": \"S12345\",\n",
        "        \"type\": \"Movie\",\n",
        "        \"country\": \"USA\",\n",
        "        \"date_added\": \"2024-01-01\",\n",
        "        \"release_year\": 2024,\n",
        "        \"duration\": \"120 min\",\n",
        "        \"listed_in\": \"Sci-Fi, Adventure\",\n",
        "    },\n",
        "    {\n",
        "        \"show_id\": \"S67890\",\n",
        "        \"type\": \"Movie\",\n",
        "        \"country\": \"Japan\",\n",
        "        \"date_added\": \"2023-12-15\",\n",
        "        \"release_year\": 2023,\n",
        "        \"duration\": \"95 min\",\n",
        "        \"listed_in\": \"Animation, Family\",\n",
        "    },\n",
        "]\n",
        "\n",
        "# Add documents and metadata to the vector store\n",
        "vector_store.add_texts(texts=documents, metadatas=metadata_list)\n",
        "\n",
        "\n"
      ]
    },
    {
      "cell_type": "code",
      "source": [
        "documents"
      ],
      "metadata": {
        "colab": {
          "base_uri": "https://localhost:8080/"
        },
        "id": "kHtYT5pkkXo7",
        "outputId": "4d20a59e-73f2-4ee2-942c-0a21661e9f08"
      },
      "execution_count": 46,
      "outputs": [
        {
          "output_type": "execute_result",
          "data": {
            "text/plain": [
              "[Document(metadata={'rating': 'PG-13'}, page_content='Dick Johnson Is Dead Kirsten Johnson nan As her father nears the end of his life, filmmaker Kirsten Johnson stages his death in inventive and comical ways to help them both face the inevitable.'),\n",
              " Document(metadata={'rating': 'TV-MA'}, page_content='Blood & Water nan Ama Qamata, Khosi Ngema, Gail Mabalane, Thabang Molaba, Dillon Windvogel, Natasha Thahane, Arno Greeff, Xolile Tshabalala, Getmore Sithole, Cindy Mahlangu, Ryle De Morny, Greteli Fincham, Sello Maake Ka-Ncube, Odwa Gwanya, Mekaila Mathys, Sandi Schultz, Duane Williams, Shamilla Miller, Patrick Mofokeng After crossing paths at a party, a Cape Town teen sets out to prove whether a private-school swimming star is her sister who was abducted at birth.'),\n",
              " Document(metadata={'rating': 'TV-MA'}, page_content='Ganglands Julien Leclercq Sami Bouajila, Tracy Gotoas, Samuel Jouy, Nabiha Akkari, Sofia Lesaffre, Salim Kechiouche, Noureddine Farihi, Geert Van Rampelberg, Bakary Diombera To protect his family from a powerful drug lord, skilled thief Mehdi and his expert team of robbers are pulled into a violent and deadly turf war.'),\n",
              " Document(metadata={'rating': 'TV-MA'}, page_content='Jailbirds New Orleans nan nan Feuds, flirtations and toilet talk go down among the incarcerated women at the Orleans Justice Center in New Orleans on this gritty reality series.'),\n",
              " Document(metadata={'rating': 'TV-MA'}, page_content='Kota Factory nan Mayur More, Jitendra Kumar, Ranjan Raj, Alam Khan, Ahsaas Channa, Revathi Pillai, Urvi Singh, Arun Kumar In a city of coaching centers known to train India’s finest collegiate minds, an earnest but unexceptional student and his friends navigate campus life.')]"
            ]
          },
          "metadata": {},
          "execution_count": 46
        }
      ]
    },
    {
      "cell_type": "code",
      "execution_count": 34,
      "metadata": {
        "colab": {
          "base_uri": "https://localhost:8080/"
        },
        "id": "umWtAjKJWY2d",
        "outputId": "5daf2bae-1e5c-421c-c453-b0cdfb6b4084"
      },
      "outputs": [
        {
          "output_type": "execute_result",
          "data": {
            "text/plain": [
              "[Document(metadata={'rating': 'PG-13'}, page_content='Dick Johnson Is Dead Kirsten Johnson nan As her father nears the end of his life, filmmaker Kirsten Johnson stages his death in inventive and comical ways to help them both face the inevitable.'),\n",
              " Document(metadata={'rating': 'TV-MA'}, page_content='Blood & Water nan Ama Qamata, Khosi Ngema, Gail Mabalane, Thabang Molaba, Dillon Windvogel, Natasha Thahane, Arno Greeff, Xolile Tshabalala, Getmore Sithole, Cindy Mahlangu, Ryle De Morny, Greteli Fincham, Sello Maake Ka-Ncube, Odwa Gwanya, Mekaila Mathys, Sandi Schultz, Duane Williams, Shamilla Miller, Patrick Mofokeng After crossing paths at a party, a Cape Town teen sets out to prove whether a private-school swimming star is her sister who was abducted at birth.'),\n",
              " Document(metadata={'rating': 'TV-MA'}, page_content='Ganglands Julien Leclercq Sami Bouajila, Tracy Gotoas, Samuel Jouy, Nabiha Akkari, Sofia Lesaffre, Salim Kechiouche, Noureddine Farihi, Geert Van Rampelberg, Bakary Diombera To protect his family from a powerful drug lord, skilled thief Mehdi and his expert team of robbers are pulled into a violent and deadly turf war.'),\n",
              " Document(metadata={'rating': 'TV-MA'}, page_content='Jailbirds New Orleans nan nan Feuds, flirtations and toilet talk go down among the incarcerated women at the Orleans Justice Center in New Orleans on this gritty reality series.'),\n",
              " Document(metadata={'rating': 'TV-MA'}, page_content='Kota Factory nan Mayur More, Jitendra Kumar, Ranjan Raj, Alam Khan, Ahsaas Channa, Revathi Pillai, Urvi Singh, Arun Kumar In a city of coaching centers known to train India’s finest collegiate minds, an earnest but unexceptional student and his friends navigate campus life.')]"
            ]
          },
          "metadata": {},
          "execution_count": 34
        }
      ],
      "source": [
        "docs_to_load"
      ]
    },
    {
      "cell_type": "markdown",
      "metadata": {
        "id": "29iztdvfL2BN"
      },
      "source": [
        "### Import the rest of your data into your vector table\n",
        "\n",
        "You don't have to call the embedding service 8,800 times to load all the documents for the demo. Instead, we have prepared a CSV with the all 8,800+ rows with pre-computed embeddings in a CSV file. You can import the CSV using `gsutil`."
      ]
    },
    {
      "cell_type": "code",
      "execution_count": 51,
      "metadata": {
        "colab": {
          "base_uri": "https://localhost:8080/"
        },
        "id": "4dE4oQiNyWdC",
        "outputId": "dc5d4910-8547-481a-8561-ab565ab91b3a"
      },
      "outputs": [
        {
          "output_type": "stream",
          "name": "stdout",
          "text": [
            "Copying gs://cloud-samples-data/langchain/alloydb/netflix_titles_embeddings.csv...\n",
            "\\\n",
            "Operation completed over 1 objects/83.6 MiB.                                     \n"
          ]
        }
      ],
      "source": [
        "!gsutil cp gs://cloud-samples-data/langchain/alloydb/netflix_titles_embeddings.csv ."
      ]
    },
    {
      "cell_type": "markdown",
      "metadata": {
        "id": "T1TXnKU_DznX"
      },
      "source": [
        "Use the following code to insert the pregenerated embeddings into your vector store."
      ]
    },
    {
      "cell_type": "code",
      "source": [
        "import pandas as pd\n",
        "netflix_data = \"/content/netflix_titles_embeddings.csv\"\n",
        "df = pd.read_csv(netflix_data)\n",
        "df = df.head(8)#insert 8 row of data"
      ],
      "metadata": {
        "id": "1SmVXpYiig4O"
      },
      "execution_count": 52,
      "outputs": []
    },
    {
      "cell_type": "code",
      "execution_count": null,
      "metadata": {
        "id": "PDIRYfUyyVyI"
      },
      "outputs": [],
      "source": [
        "\n",
        "insert_data_cmd = sqlalchemy.text(\n",
        "    \"\"\"\n",
        "    INSERT INTO movie_vector_table_samples VALUES (:langchain_id, :content, :embedding, :show_id,\n",
        "      :type, :country, :date_added, :release_year, :rating,\n",
        "      :duration, :listed_in, :langchain_metadata)\n",
        "    \"\"\"\n",
        ")\n",
        "\n",
        "parameter_map = [\n",
        "    {\n",
        "        \"langchain_id\": row[\"langchain_id\"],\n",
        "        \"content\": row[\"content\"],\n",
        "        \"embedding\": row[\"embedding\"],\n",
        "        \"show_id\": row[\"show_id\"],\n",
        "        \"type\": row[\"type\"],\n",
        "        \"country\": row[\"country\"],\n",
        "        \"date_added\": row[\"date_added\"],\n",
        "        \"release_year\": row[\"release_year\"],\n",
        "        \"rating\": row[\"rating\"],\n",
        "        \"duration\": row[\"duration\"],\n",
        "        \"listed_in\": row[\"listed_in\"],\n",
        "        \"langchain_metadata\": row[\"langchain_metadata\"],\n",
        "    }\n",
        "    for index, row in df.iterrows()\n",
        "]\n",
        "\n",
        "with pool.connect() as db_conn:\n",
        "    db_conn.execute(\n",
        "        insert_data_cmd,\n",
        "        parameter_map,\n",
        "    )\n",
        "    db_conn.commit()\n",
        "connector.close()"
      ]
    },
    {
      "cell_type": "markdown",
      "metadata": {
        "id": "ZM_OFzZrQEPs"
      },
      "source": [
        "# Use case 3: AlloyDB for PostgreSQL as Chat Memory"
      ]
    },
    {
      "cell_type": "markdown",
      "metadata": {
        "id": "dxqIPQtjDquk"
      },
      "source": [
        "Next you will add chat history (called “memory” in the context of LangChain) to our application so the LLM can retain context and information across multiple interactions, leading to more coherent and sophisticated conversations or text generation. You can use AlloyDB for PostgreSQL as “memory” storage in our application so that the LLM can use context from prior conversations to better answer the user’s prompts."
      ]
    },
    {
      "cell_type": "code",
      "execution_count": null,
      "metadata": {
        "id": "vyYQILyoEAqg"
      },
      "outputs": [],
      "source": [
        "from langchain_google_alloydb_pg import AlloyDBChatMessageHistory, AlloyDBEngine\n",
        "from langchain_google_alloydb_pg import AlloyDBVectorStore, AlloyDBEngine\n",
        "from langchain_google_alloydb_pg import AlloyDBEngine, Column\n",
        "\n",
        "engine = AlloyDBEngine.from_instance(\n",
        "    project_id=project_id,\n",
        "    instance=instance_name,\n",
        "    region=region,\n",
        "    cluster=cluster_name,\n",
        "    database=database_name,\n",
        "    user=\"postgres\",\n",
        "    password=password,\n",
        ")\n",
        "message_table_name = \"message_store\"\n",
        "\n",
        "engine.init_chat_history_table(table_name=message_table_name)\n",
        "\n",
        "chat_history = AlloyDBChatMessageHistory.create_sync(\n",
        "    engine,\n",
        "    session_id=\"my-test-session\",\n",
        "    table_name=message_table_name,\n",
        ")"
      ]
    },
    {
      "cell_type": "markdown",
      "metadata": {
        "id": "2yuXYLTCl2K1"
      },
      "source": [
        "Here is an example of how you would add a user message and how you would add an AI message."
      ]
    },
    {
      "cell_type": "code",
      "execution_count": null,
      "metadata": {
        "colab": {
          "base_uri": "https://localhost:8080/"
        },
        "id": "qDVoTWZal0ZF",
        "outputId": "eb55e9d2-1bc0-48c9-b434-e7e5ae30a75f"
      },
      "outputs": [
        {
          "output_type": "execute_result",
          "data": {
            "text/plain": [
              "[HumanMessage(content='What movie was Brad Pitt in?', additional_kwargs={}, response_metadata={}),\n",
              " AIMessage(content='From the provided context, Brad Pitt was in the following movies:\\n\\n- Inglourious Basterds\\n- By the Sea\\n- Killing Them Softly\\n- Babel', additional_kwargs={}, response_metadata={}),\n",
              " HumanMessage(content='How about Jonny Depp?', additional_kwargs={}, response_metadata={}),\n",
              " AIMessage(content=\"From the vector search results, Johnny Depp was in the following movies:\\n\\n- Charlie and the Chocolate Factory\\n- The Rum Diary\\n- The Imaginarium of Doctor Parnassus\\n- What's Eating Gilbert Grape\", additional_kwargs={}, response_metadata={}),\n",
              " HumanMessage(content='Are there movies about animals?', additional_kwargs={}, response_metadata={}),\n",
              " AIMessage(content='Yes, there are movies about animals. Here are some examples from the vector search results:\\n\\n* **Open Season:** This movie is about a domesticated grizzly bear who finds himself unprepared for the real world after being relocated to the wild.\\n* **DreamWorks Holiday Classics:** This collection of holiday specials features animals from DreamWorks films, including Shrek and Donkey, Hiccup and Toothless, and the animals from Madagascar.\\n* **Animals on the Loose: A You vs. Wild Movie:** This interactive special features Bear Grylls helping to capture escaped animals from a sanctuary.\\n* **The Animal People:** This film tells the story of animal rights protesters trying to shut down a facility that conducts animal testing.\\n', additional_kwargs={}, response_metadata={}),\n",
              " HumanMessage(content='in which year My Little Pony was released?', additional_kwargs={}, response_metadata={}),\n",
              " AIMessage(content=\"I didn't find the answer to the year that My Little Pony was released in the previous conversation. However, I can tell you that the following My Little Pony movies were released in these years:\\n\\n* My Little Pony: Friendship Is Magic (2010)\\n* My Little Pony Friendship Is Magic: Best Gift Ever (2015)\\n* My Little Pony Equestria Girls: Rainbow Rocks (2014)\\n* Equestria Girls: Tales of Canterlot High (2012) \\n\", additional_kwargs={}, response_metadata={}),\n",
              " HumanMessage(content='what is the story of My Little Pony', additional_kwargs={}, response_metadata={}),\n",
              " AIMessage(content=\"My Little Pony: A new generation follows Sunny Starscout, an optimistic young Earth Pony who dreams of a world where ponies from different species can be friends. When she discovers an old diary about the legend of the three pony races living together in harmony, Sunny sets off on a mission to bring the races back together. Along the way, she meets Izzy Moonbow, a unicorn with a passion for arts and crafts; Pipp Petals, a pegasus with a love of singing and dancing; and Zipp Storm and Hitch Trailblazer, two earth ponies with a knack for adventure. Together, the five friends embark on a journey to discover the magic of friendship and heal Equestria's divisions. \\n\", additional_kwargs={}, response_metadata={}),\n",
              " HumanMessage(content='is Midnight Mass movie or web series', additional_kwargs={}, response_metadata={}),\n",
              " AIMessage(content=\"According to the information I found, Midnight Mass is a web series, not a movie. It was released on Netflix in 2021. It's a horror-drama miniseries created by Mike Flanagan.\", additional_kwargs={}, response_metadata={}),\n",
              " HumanMessage(content='Hi!', additional_kwargs={}, response_metadata={}),\n",
              " AIMessage(content=\"Hello there. I'm a model and am happy to help!\", additional_kwargs={}, response_metadata={})]"
            ]
          },
          "metadata": {},
          "execution_count": 9
        }
      ],
      "source": [
        "chat_history.add_user_message(\"Hi!\")\n",
        "chat_history.add_ai_message(\"Hello there. I'm a model and am happy to help!\")\n",
        "\n",
        "chat_history.messages"
      ]
    },
    {
      "cell_type": "markdown",
      "metadata": {
        "id": "k0O9mta8RQ0v"
      },
      "source": [
        "## Conversational RAG Chain backed by AlloyDB\n"
      ]
    },
    {
      "cell_type": "markdown",
      "metadata": {
        "id": "j2OxF3JoNA7J"
      },
      "source": [
        "Try using all 3 integrations with the `ConversationalRetrievalChain`.\n",
        "\n",
        "You will build a chatbot that can answer movie related questions based on the vector search results."
      ]
    },
    {
      "cell_type": "code",
      "execution_count": null,
      "metadata": {
        "id": "9ukjOO-sNQ8_"
      },
      "outputs": [],
      "source": [
        "from langchain_google_vertexai import VertexAIEmbeddings, VertexAI\n",
        "from langchain_core.messages import AIMessage, HumanMessage\n",
        "from langchain.chains import ConversationalRetrievalChain\n",
        "from langchain.memory import ConversationSummaryBufferMemory\n",
        "from langchain_core.prompts import PromptTemplate\n",
        "from langchain_google_alloydb_pg import (\n",
        "    AlloyDBEngine,\n",
        "    AlloyDBVectorStore,\n",
        "    AlloyDBChatMessageHistory,\n",
        ")\n",
        "\n",
        "sample_vector_table_name = \"movie_vector_table_samples\"\n",
        "\n",
        "# Intialize the embedding service\n",
        "embeddings_service = VertexAIEmbeddings(\n",
        "    model_name=\"textembedding-gecko@003\", project=project_id\n",
        ")\n",
        "\n",
        "# Intialize the engine\n",
        "engine = AlloyDBEngine.from_instance(\n",
        "    project_id=project_id,\n",
        "    instance=instance_name,\n",
        "    region=region,\n",
        "    cluster=cluster_name,\n",
        "    database=database_name,\n",
        "    user=\"postgres\",\n",
        "    password=password,\n",
        ")\n",
        "# Intialize the Vector Store\n",
        "vector_store = AlloyDBVectorStore.create_sync(\n",
        "    engine=engine,\n",
        "    embedding_service=embeddings_service,\n",
        "    table_name=sample_vector_table_name,\n",
        "    metadata_columns=[\n",
        "        \"show_id\",\n",
        "        \"type\",\n",
        "        \"country\",\n",
        "        \"date_added\",\n",
        "        \"release_year\",\n",
        "        \"duration\",\n",
        "        \"listed_in\",\n",
        "    ],\n",
        ")\n",
        "\n",
        "# Intialize the AlloyDBChatMessageHistory\n",
        "chat_history = AlloyDBChatMessageHistory.create_sync(\n",
        "    engine,\n",
        "    session_id=\"my-test-session\",\n",
        "    table_name=\"message_store\",\n",
        ")"
      ]
    },
    {
      "cell_type": "markdown",
      "metadata": {
        "id": "Ytlz9D3LmcU7"
      },
      "source": [
        "Create a prompt for the LLM. Here we can add instructions specific to our application, such as \"Don't make things up\"."
      ]
    },
    {
      "cell_type": "code",
      "execution_count": null,
      "metadata": {
        "id": "LoAHNdrWmW9W"
      },
      "outputs": [],
      "source": [
        "# Prepare some prompt templates for the ConversationalRetrievalChain\n",
        "prompt = PromptTemplate(\n",
        "    template=\"\"\"Use all the information from the context and the conversation history to answer new question. If you see the answer in previous conversation history or the context. \\\n",
        "Answer it with clarifying the source information. If you don't see it in the context or the chat history, just say you \\\n",
        "didn't find the answer in the given data. Don't make things up.\n",
        "\n",
        "Previous conversation history from the questioner. \"Human\" was the user who's asking the new question. \"Assistant\" was you as the assistant:\n",
        "```{chat_history}\n",
        "```\n",
        "\n",
        "Vector search result of the new question:\n",
        "```{context}\n",
        "```\n",
        "\n",
        "New Question:\n",
        "```{question}```\n",
        "\n",
        "Answer:\"\"\",\n",
        "    input_variables=[\"context\", \"question\", \"chat_history\"],\n",
        ")\n",
        "condense_question_prompt_passthrough = PromptTemplate(\n",
        "    template=\"\"\"Repeat the following question:\n",
        "{question}\n",
        "\"\"\",\n",
        "    input_variables=[\"question\"],\n",
        ")"
      ]
    },
    {
      "cell_type": "markdown",
      "metadata": {
        "id": "rsGe-bW5m0H1"
      },
      "source": [
        "Next, create a retriever from the vector store in order to retrieve similar documents via a vector search."
      ]
    },
    {
      "cell_type": "code",
      "execution_count": null,
      "metadata": {
        "id": "1nI0xkJamvXt"
      },
      "outputs": [],
      "source": [
        "# Initialize retriever, llm and memory for the chain\n",
        "retriever = vector_store.as_retriever(\n",
        "    search_type=\"mmr\", search_kwargs={\"k\": 5, \"lambda_mult\": 0.8}\n",
        ")"
      ]
    },
    {
      "cell_type": "markdown",
      "metadata": {
        "id": "3maZ8SLlneYJ"
      },
      "source": [
        "Next, initialize our LLM, in this case we are using Vertex AI's \"gemini-pro\"."
      ]
    },
    {
      "cell_type": "code",
      "execution_count": null,
      "metadata": {
        "id": "VBWhg-ihnnxF",
        "colab": {
          "base_uri": "https://localhost:8080/",
          "height": 176
        },
        "outputId": "81a605ff-d4e9-4cf6-a50c-cd29856cac4d"
      },
      "outputs": [
        {
          "output_type": "error",
          "ename": "NameError",
          "evalue": "name 'VertexAI' is not defined",
          "traceback": [
            "\u001b[0;31m---------------------------------------------------------------------------\u001b[0m",
            "\u001b[0;31mNameError\u001b[0m                                 Traceback (most recent call last)",
            "\u001b[0;32m<ipython-input-2-b0c57e196811>\u001b[0m in \u001b[0;36m<cell line: 0>\u001b[0;34m()\u001b[0m\n\u001b[1;32m      1\u001b[0m \u001b[0;31m#gemini-pro\u001b[0m\u001b[0;34m\u001b[0m\u001b[0;34m\u001b[0m\u001b[0m\n\u001b[0;32m----> 2\u001b[0;31m \u001b[0mllm\u001b[0m \u001b[0;34m=\u001b[0m \u001b[0mVertexAI\u001b[0m\u001b[0;34m(\u001b[0m\u001b[0mmodel_name\u001b[0m\u001b[0;34m=\u001b[0m\u001b[0;34m\"gemini-pro\"\u001b[0m\u001b[0;34m,\u001b[0m \u001b[0mproject\u001b[0m\u001b[0;34m=\u001b[0m\u001b[0mproject_id\u001b[0m\u001b[0;34m)\u001b[0m\u001b[0;34m\u001b[0m\u001b[0;34m\u001b[0m\u001b[0m\n\u001b[0m\u001b[1;32m      3\u001b[0m \u001b[0;31m#Gemini 1.0 Pro\u001b[0m\u001b[0;34m\u001b[0m\u001b[0;34m\u001b[0m\u001b[0m\n",
            "\u001b[0;31mNameError\u001b[0m: name 'VertexAI' is not defined"
          ]
        }
      ],
      "source": [
        "#gemini-pro\n",
        "llm = VertexAI(model_name=\"gemini-pro\", project=project_id)\n",
        "#Gemini 1.0 Pro\n"
      ]
    },
    {
      "cell_type": "markdown",
      "metadata": {
        "id": "hN8mpXdtnocg"
      },
      "source": [
        "Clear your chat history, so that our application starts without any prior context to other conversations we have had with the application."
      ]
    },
    {
      "cell_type": "code",
      "execution_count": null,
      "metadata": {
        "id": "1UkPcEpJno5Y"
      },
      "outputs": [],
      "source": [
        "chat_history.clear()\n",
        "\n",
        "memory = ConversationSummaryBufferMemory(\n",
        "    llm=llm,\n",
        "    chat_memory=chat_history,\n",
        "    output_key=\"answer\",\n",
        "    memory_key=\"chat_history\",\n",
        "    return_messages=True,\n",
        ")"
      ]
    },
    {
      "cell_type": "markdown",
      "metadata": {
        "id": "BDAT2koSn8Mz"
      },
      "source": [
        "Now, create a conversational retrieval chain. This will allow the LLM to use chat history in it's responses, meaning we can ask it follow up questions to our questions instead of having to start from scratch after each inquiry."
      ]
    },
    {
      "cell_type": "code",
      "execution_count": null,
      "metadata": {
        "colab": {
          "base_uri": "https://localhost:8080/"
        },
        "id": "7Fu8fKdEn8h8",
        "outputId": "172baec7-f604-49d9-9026-d656009b721f"
      },
      "outputs": [
        {
          "output_type": "stream",
          "name": "stderr",
          "text": [
            "<ipython-input-16-8710e06fe420>:13: LangChainDeprecationWarning: The method `Chain.__call__` was deprecated in langchain 0.1.0 and will be removed in 1.0. Use :meth:`~invoke` instead.\n",
            "  ans = rag_chain({\"question\": q, \"chat_history\": chat_history})[\"answer\"]\n"
          ]
        },
        {
          "output_type": "stream",
          "name": "stdout",
          "text": [
            "Question: What movie was Brad Pitt in?\n",
            "Answer: I found several movies that Brad Pitt starred in the previous conversation history: Inglourious Basterds, By the Sea, Killing Them Softly, and Babel.\n",
            "\n",
            "Question: How about Jonny Depp?\n",
            "Answer: According to my search results, Johnny Depp starred in several movies:\n",
            "\n",
            "* **Charlie and the Chocolate Factory (2005)**, directed by Tim Burton. He played the role of Willy Wonka.\n",
            "* **The Rum Diary (2011)**, directed by Bruce Robinson, based on the novel by Hunter S. Thompson. He played the role of Paul Kemp.\n",
            "* **The Imaginarium of Doctor Parnassus (2009)**, directed by Terry Gilliam. He played the role of Tony, one of the three men who help Dr. Parnassus fulfill his deal with the devil.\n",
            "* **What's Eating Gilbert Grape (1993)**, directed by Lasse Hallström. He played the role of Gilbert Grape.\n",
            "\n",
            "Question: Are there movies about animals?\n",
            "Answer: Yes, there are many movies about animals. In our previous conversation, I mentioned the DreamWorks Holiday Classics which has animals as central characters: Shrek and Donkey from Shrek, Hiccup and Toothless from How to Train Your Dragon, and the animals from Madagascar. \n",
            "\n",
            "There are also these other movies with animals in it:\n",
            "* Open Season: an animated film about a domesticated grizzly bear facing difficulties after being relocated to the wild.\n",
            "* Animals on the Loose: A You vs. Wild Movie: an interactive film featuring real-life wildlife expert Bear Grylls trying to capture escaped animals from a sanctuary.\n",
            "* The Animal People: a film about a group of animal rights protesters fighting against a facility that conducts animal testing.\n",
            "\n"
          ]
        },
        {
          "output_type": "execute_result",
          "data": {
            "text/plain": [
              "[HumanMessage(content='What movie was Brad Pitt in?', additional_kwargs={}, response_metadata={}),\n",
              " AIMessage(content='I found several movies that Brad Pitt starred in the previous conversation history: Inglourious Basterds, By the Sea, Killing Them Softly, and Babel.', additional_kwargs={}, response_metadata={}),\n",
              " HumanMessage(content='How about Jonny Depp?', additional_kwargs={}, response_metadata={}),\n",
              " AIMessage(content=\"According to my search results, Johnny Depp starred in several movies:\\n\\n* **Charlie and the Chocolate Factory (2005)**, directed by Tim Burton. He played the role of Willy Wonka.\\n* **The Rum Diary (2011)**, directed by Bruce Robinson, based on the novel by Hunter S. Thompson. He played the role of Paul Kemp.\\n* **The Imaginarium of Doctor Parnassus (2009)**, directed by Terry Gilliam. He played the role of Tony, one of the three men who help Dr. Parnassus fulfill his deal with the devil.\\n* **What's Eating Gilbert Grape (1993)**, directed by Lasse Hallström. He played the role of Gilbert Grape.\", additional_kwargs={}, response_metadata={}),\n",
              " HumanMessage(content='Are there movies about animals?', additional_kwargs={}, response_metadata={}),\n",
              " AIMessage(content='Yes, there are many movies about animals. In our previous conversation, I mentioned the DreamWorks Holiday Classics which has animals as central characters: Shrek and Donkey from Shrek, Hiccup and Toothless from How to Train Your Dragon, and the animals from Madagascar. \\n\\nThere are also these other movies with animals in it:\\n* Open Season: an animated film about a domesticated grizzly bear facing difficulties after being relocated to the wild.\\n* Animals on the Loose: A You vs. Wild Movie: an interactive film featuring real-life wildlife expert Bear Grylls trying to capture escaped animals from a sanctuary.\\n* The Animal People: a film about a group of animal rights protesters fighting against a facility that conducts animal testing.', additional_kwargs={}, response_metadata={})]"
            ]
          },
          "metadata": {},
          "execution_count": 16
        }
      ],
      "source": [
        "# create the ConversationalRetrievalChain\n",
        "rag_chain = ConversationalRetrievalChain.from_llm(\n",
        "    llm=llm,\n",
        "    retriever=retriever,\n",
        "    verbose=False,\n",
        "    memory=memory,\n",
        "    condense_question_prompt=condense_question_prompt_passthrough,\n",
        "    combine_docs_chain_kwargs={\"prompt\": prompt},\n",
        ")\n",
        "\n",
        "# ask some questions\n",
        "q = \"What movie was Brad Pitt in?\"\n",
        "ans = rag_chain({\"question\": q, \"chat_history\": chat_history})[\"answer\"]\n",
        "print(f\"Question: {q}\\nAnswer: {ans}\\n\")\n",
        "\n",
        "q = \"How about Jonny Depp?\"\n",
        "ans = rag_chain({\"question\": q, \"chat_history\": chat_history})[\"answer\"]\n",
        "print(f\"Question: {q}\\nAnswer: {ans}\\n\")\n",
        "\n",
        "q = \"Are there movies about animals?\"\n",
        "ans = rag_chain({\"question\": q, \"chat_history\": chat_history})[\"answer\"]\n",
        "print(f\"Question: {q}\\nAnswer: {ans}\\n\")\n",
        "\n",
        "# browser the chat history\n",
        "chat_history.messages"
      ]
    },
    {
      "cell_type": "code",
      "source": [
        "chat_history.clear()"
      ],
      "metadata": {
        "id": "5BeNnCPw2tcN"
      },
      "execution_count": null,
      "outputs": []
    },
    {
      "cell_type": "code",
      "source": [
        "q = \"in which year My Little Pony was released?\"\n",
        "ans = rag_chain({\"question\": q, \"chat_history\": chat_history})[\"answer\"]\n",
        "print(f\"Question: {q}\\nAnswer: {ans}\\n\")"
      ],
      "metadata": {
        "colab": {
          "base_uri": "https://localhost:8080/"
        },
        "id": "rYjDFmBb_KnM",
        "outputId": "9517b138-c39d-4a42-e06c-daaa38584634"
      },
      "execution_count": null,
      "outputs": [
        {
          "output_type": "stream",
          "name": "stdout",
          "text": [
            "Question: in which year My Little Pony was released?\n",
            "Answer: I'm sorry, I cannot answer your question about the release year of My Little Pony as the information provided to me does not contain that detail.\n",
            "\n"
          ]
        }
      ]
    },
    {
      "cell_type": "code",
      "source": [
        "q = \"what is the story of My Little Pony\"\n",
        "ans = rag_chain({\"question\": q, \"chat_history\": chat_history})[\"answer\"]\n",
        "print(f\"Question: {q}\\nAnswer: {ans}\\n\")"
      ],
      "metadata": {
        "colab": {
          "base_uri": "https://localhost:8080/"
        },
        "id": "IxgidGjo_wtX",
        "outputId": "cb4e74cb-3522-45b1-85da-6987e24892b8"
      },
      "execution_count": null,
      "outputs": [
        {
          "output_type": "stream",
          "name": "stdout",
          "text": [
            "Question: what is the story of My Little Pony\n",
            "Answer: I believe the stories you're asking about are based on the My Little Pony animated television series. There have been several iterations of the show, each with its own unique storyline. \n",
            "\n",
            "Here's a summary of the stories from the provided information:\n",
            "\n",
            "- **My Little Pony: Friendship Is Magic:** This series takes place in the magical land of Equestria and follows Twilight Sparkle, a young unicorn who studies the magic of friendship with her five pony friends: Applejack, Pinkie Pie, Rarity, Fluttershy, and Rainbow Dash. They go on various adventures and learn valuable lessons about friendship along the way.\n",
            "- **Equestria Girls: Tales of Canterlot High:** This series takes place in an alternate universe where the ponies are teenage girls attending Canterlot High. They must learn what it means to be human and face the challenges of high school life while maintaining their friendships.\n",
            "- **My Little Pony: A New Generation:** This series takes place in a time when Equestria is divided between Earth Ponies, Pegasi, and Unicorns. Sunny Starscout, a bright-eyed Earth Pony, believes that the three pony types should be friends and sets out to prove it.\n",
            "- **My Little Pony Equestria Girls: Rainbow Rocks:** This series follows the five ponies as they form a band and compete in the Canterlot High musical showcase. They face challenges and learn the importance of teamwork and following their dreams.\n",
            "\n",
            "Please let me know if you'd like more information about any of these specific series or if you have another question. \n",
            "\n",
            "\n"
          ]
        }
      ]
    },
    {
      "cell_type": "code",
      "source": [
        "q = \"is Midnight Mass movie or web series\"\n",
        "ans = rag_chain({\"question\": q, \"chat_history\": chat_history})[\"answer\"]\n",
        "print(f\"Question: {q}\\nAnswer: {ans}\\n\")"
      ],
      "metadata": {
        "colab": {
          "base_uri": "https://localhost:8080/"
        },
        "id": "amTFiAYG__4Y",
        "outputId": "84dc4241-6576-44e5-d6c1-db3bb67b88f2"
      },
      "execution_count": null,
      "outputs": [
        {
          "output_type": "stream",
          "name": "stdout",
          "text": [
            "Question: is Midnight Mass movie or web series\n",
            "Answer: The vector search results show that \"Midnight Mass\" is a **web series**.\n",
            "\n"
          ]
        }
      ]
    },
    {
      "cell_type": "code",
      "source": [
        "q = \"Tell me deatils about The Great British Baking Show\"\n",
        "ans = rag_chain({\"question\": q, \"chat_history\": chat_history})[\"answer\"]\n",
        "print(f\"Question: {q}\\nAnswer: {ans}\\n\")"
      ],
      "metadata": {
        "colab": {
          "base_uri": "https://localhost:8080/"
        },
        "id": "q0cxKeUAArM_",
        "outputId": "8910af7a-e9e9-4aee-dda1-cbb9c2ea6c40"
      },
      "execution_count": null,
      "outputs": [
        {
          "output_type": "stream",
          "name": "stdout",
          "text": [
            "Question: Tell me deatils about The Great British Baking Show\n",
            "Answer: ##  The Great British Baking Show: A Delightful Baking Competition  \n",
            "\n",
            "**What is it?**\n",
            "\n",
            "* The Great British Baking Show (also known as The Great British Bake Off) is a popular television baking competition. \n",
            "* Amateur bakers from across the UK compete in weekly challenges showcasing their baking skills. \n",
            "* Judges Paul Hollywood and Prue Leith assess the contestants' efforts, offering constructive feedback and ultimately deciding who stays and who leaves each week. \n",
            "* The winner is crowned Britain's Best Amateur Baker.\n",
            "\n",
            "**Where did it originate?**\n",
            "\n",
            "* The first episode was aired in 2010, quickly gaining immense popularity in the UK. \n",
            "* Its international success led to numerous adaptations around the world, including The Great American Baking Show in the US, The Great Canadian Baking Show, and many more.\n",
            "\n",
            "**What makes it so special?**\n",
            "\n",
            "* **Warm atmosphere:** It's known for its warm and friendly atmosphere, where contestants support and encourage each other throughout the competition. \n",
            "* **Celebrating diversity:** Bakers of all ages and backgrounds come together, sharing their cultural heritage through baking. \n",
            "* **High production value:** The meticulously filmed preparation process is a visual treat. \n",
            "* **Focus on learning:** Viewers enjoy seeing the baking techniques, understanding different ingredients, and picking up valuable tips for their own baking ventures. \n",
            "* **Humor & entertainment:** The witty commentary of hosts Matt Lucas and Noel Fielding, coupled with the occasional baking disasters, provides humor and light entertainment.\n",
            "\n",
            "**Additional facts:**\n",
            "\n",
            "* You'll be delighted with multiple variations like The Great British Baking Show: The Beginnings, Holidays, and Masterclass, offering different experiences and focusing on festive treats, baking basics, and professional techniques respectively.\n",
            "\n",
            "Do you wish to delve deeper into any particular aspect of The Great British Baking Show, or perhaps explore the different versions? Just tell me what interests you most and I'll gladly assist you!\n",
            "\n",
            "\n"
          ]
        }
      ]
    }
  ],
  "metadata": {
    "colab": {
      "provenance": []
    },
    "kernelspec": {
      "display_name": "Python 3",
      "name": "python3"
    },
    "language_info": {
      "name": "python"
    }
  },
  "nbformat": 4,
  "nbformat_minor": 0
}
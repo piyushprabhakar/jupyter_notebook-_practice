{
  "cells": [
    {
      "cell_type": "markdown",
      "metadata": {
        "id": "mbF2F2miAT4a"
      },
      "source": [
        "[![Open In Colab](https://colab.research.google.com/assets/colab-badge.svg)](https://colab.research.google.com/github/googleapis/langchain-google-alloydb-pg-python/blob/main/samples/langchain_quick_start.ipynb)\n",
        "\n",
        "---\n",
        "# AlloyDB\n",
        "\n",
        "AlloyDB for PostgreSQL is a fully managed, PostgreSQL-compatible database service that's designed for your most demanding workloads, including hybrid transactional and analytical processing. AlloyDB pairs a Google-built database engine with a cloud-based, multi-node architecture to deliver enterprise-grade performance, reliability, and availability.\n",
        "\n"
      ]
    },
    {
      "cell_type": "markdown",
      "metadata": {
        "id": "uy9KqgPQ4GBi"
      },
      "source": [
        "## Install dependencies\n",
        "First you will need to install the dependencies needed to run this demo app."
      ]
    },
    {
      "cell_type": "code",
      "execution_count": 1,
      "metadata": {
        "id": "M_ppDxYf4Gqs",
        "colab": {
          "base_uri": "https://localhost:8080/",
          "height": 1000
        },
        "collapsed": true,
        "outputId": "7048fa0d-2fb6-4de7-820a-16b23485b850"
      },
      "outputs": [
        {
          "output_type": "stream",
          "name": "stdout",
          "text": [
            "Collecting langchain-google-alloydb-pg\n",
            "  Downloading langchain_google_alloydb_pg-0.10.0-py3-none-any.whl.metadata (24 kB)\n",
            "Requirement already satisfied: langchain in /usr/local/lib/python3.11/dist-packages (0.3.21)\n",
            "Collecting langchain-google-vertexai\n",
            "  Downloading langchain_google_vertexai-2.0.18-py3-none-any.whl.metadata (3.8 kB)\n",
            "Collecting langgraph\n",
            "  Downloading langgraph-0.3.23-py3-none-any.whl.metadata (7.7 kB)\n",
            "Collecting google-cloud-alloydb-connector[pg8000]\n",
            "  Downloading google_cloud_alloydb_connector-1.7.0-py2.py3-none-any.whl.metadata (20 kB)\n",
            "Requirement already satisfied: google-cloud-storage<4.0.0,>=2.18.2 in /usr/local/lib/python3.11/dist-packages (from langchain-google-alloydb-pg) (2.19.0)\n",
            "Requirement already satisfied: langchain-core<1.0.0,>=0.2.36 in /usr/local/lib/python3.11/dist-packages (from langchain-google-alloydb-pg) (0.3.49)\n",
            "Requirement already satisfied: numpy<3.0.0,>=1.24.4 in /usr/local/lib/python3.11/dist-packages (from langchain-google-alloydb-pg) (2.0.2)\n",
            "Collecting pgvector<1.0.0,>=0.2.5 (from langchain-google-alloydb-pg)\n",
            "  Downloading pgvector-0.4.0-py3-none-any.whl.metadata (17 kB)\n",
            "Requirement already satisfied: SQLAlchemy<3.0.0,>=2.0.25 in /usr/local/lib/python3.11/dist-packages (from SQLAlchemy[asyncio]<3.0.0,>=2.0.25->langchain-google-alloydb-pg) (2.0.40)\n",
            "Requirement already satisfied: langchain-text-splitters<1.0.0,>=0.3.7 in /usr/local/lib/python3.11/dist-packages (from langchain) (0.3.7)\n",
            "Requirement already satisfied: langsmith<0.4,>=0.1.17 in /usr/local/lib/python3.11/dist-packages (from langchain) (0.3.19)\n",
            "Requirement already satisfied: pydantic<3.0.0,>=2.7.4 in /usr/local/lib/python3.11/dist-packages (from langchain) (2.11.0)\n",
            "Requirement already satisfied: requests<3,>=2 in /usr/local/lib/python3.11/dist-packages (from langchain) (2.32.3)\n",
            "Requirement already satisfied: PyYAML>=5.3 in /usr/local/lib/python3.11/dist-packages (from langchain) (6.0.2)\n",
            "Requirement already satisfied: google-cloud-aiplatform<2.0.0,>=1.81.0 in /usr/local/lib/python3.11/dist-packages (from langchain-google-vertexai) (1.86.0)\n",
            "Requirement already satisfied: httpx<0.29.0,>=0.28.0 in /usr/local/lib/python3.11/dist-packages (from langchain-google-vertexai) (0.28.1)\n",
            "Collecting httpx-sse<0.5.0,>=0.4.0 (from langchain-google-vertexai)\n",
            "  Downloading httpx_sse-0.4.0-py3-none-any.whl.metadata (9.0 kB)\n",
            "Collecting validators<0.35.0,>=0.34.0 (from langchain-google-vertexai)\n",
            "  Downloading validators-0.34.0-py3-none-any.whl.metadata (3.8 kB)\n",
            "Collecting aiofiles (from google-cloud-alloydb-connector[pg8000])\n",
            "  Downloading aiofiles-24.1.0-py3-none-any.whl.metadata (10 kB)\n",
            "Requirement already satisfied: aiohttp in /usr/local/lib/python3.11/dist-packages (from google-cloud-alloydb-connector[pg8000]) (3.11.14)\n",
            "Requirement already satisfied: cryptography>=42.0.0 in /usr/local/lib/python3.11/dist-packages (from google-cloud-alloydb-connector[pg8000]) (43.0.3)\n",
            "Requirement already satisfied: google-auth in /usr/local/lib/python3.11/dist-packages (from google-cloud-alloydb-connector[pg8000]) (2.38.0)\n",
            "Requirement already satisfied: protobuf in /usr/local/lib/python3.11/dist-packages (from google-cloud-alloydb-connector[pg8000]) (5.29.4)\n",
            "Collecting pg8000>=1.31.1 (from google-cloud-alloydb-connector[pg8000])\n",
            "  Downloading pg8000-1.31.2-py3-none-any.whl.metadata (74 kB)\n",
            "\u001b[2K     \u001b[90m━━━━━━━━━━━━━━━━━━━━━━━━━━━━━━━━━━━━━━━━\u001b[0m \u001b[32m74.7/74.7 kB\u001b[0m \u001b[31m4.9 MB/s\u001b[0m eta \u001b[36m0:00:00\u001b[0m\n",
            "\u001b[?25hCollecting langgraph-checkpoint<3.0.0,>=2.0.10 (from langgraph)\n",
            "  Downloading langgraph_checkpoint-2.0.23-py3-none-any.whl.metadata (4.6 kB)\n",
            "Collecting langgraph-prebuilt<0.2,>=0.1.1 (from langgraph)\n",
            "  Downloading langgraph_prebuilt-0.1.7-py3-none-any.whl.metadata (5.0 kB)\n",
            "Collecting langgraph-sdk<0.2.0,>=0.1.42 (from langgraph)\n",
            "  Downloading langgraph_sdk-0.1.60-py3-none-any.whl.metadata (1.8 kB)\n",
            "Collecting xxhash<4.0.0,>=3.5.0 (from langgraph)\n",
            "  Downloading xxhash-3.5.0-cp311-cp311-manylinux_2_17_x86_64.manylinux2014_x86_64.whl.metadata (12 kB)\n",
            "Requirement already satisfied: cffi>=1.12 in /usr/local/lib/python3.11/dist-packages (from cryptography>=42.0.0->google-cloud-alloydb-connector[pg8000]) (1.17.1)\n",
            "Requirement already satisfied: google-api-core!=2.0.*,!=2.1.*,!=2.2.*,!=2.3.*,!=2.4.*,!=2.5.*,!=2.6.*,!=2.7.*,<3.0.0,>=1.34.1 in /usr/local/lib/python3.11/dist-packages (from google-api-core[grpc]!=2.0.*,!=2.1.*,!=2.2.*,!=2.3.*,!=2.4.*,!=2.5.*,!=2.6.*,!=2.7.*,<3.0.0,>=1.34.1->google-cloud-aiplatform<2.0.0,>=1.81.0->langchain-google-vertexai) (2.24.2)\n",
            "Requirement already satisfied: proto-plus<2.0.0,>=1.22.3 in /usr/local/lib/python3.11/dist-packages (from google-cloud-aiplatform<2.0.0,>=1.81.0->langchain-google-vertexai) (1.26.1)\n",
            "Requirement already satisfied: packaging>=14.3 in /usr/local/lib/python3.11/dist-packages (from google-cloud-aiplatform<2.0.0,>=1.81.0->langchain-google-vertexai) (24.2)\n",
            "Requirement already satisfied: google-cloud-bigquery!=3.20.0,<4.0.0,>=1.15.0 in /usr/local/lib/python3.11/dist-packages (from google-cloud-aiplatform<2.0.0,>=1.81.0->langchain-google-vertexai) (3.31.0)\n",
            "Requirement already satisfied: google-cloud-resource-manager<3.0.0,>=1.3.3 in /usr/local/lib/python3.11/dist-packages (from google-cloud-aiplatform<2.0.0,>=1.81.0->langchain-google-vertexai) (1.14.2)\n",
            "Requirement already satisfied: shapely<3.0.0 in /usr/local/lib/python3.11/dist-packages (from google-cloud-aiplatform<2.0.0,>=1.81.0->langchain-google-vertexai) (2.0.7)\n",
            "Requirement already satisfied: typing-extensions in /usr/local/lib/python3.11/dist-packages (from google-cloud-aiplatform<2.0.0,>=1.81.0->langchain-google-vertexai) (4.13.0)\n",
            "Requirement already satisfied: docstring-parser<1 in /usr/local/lib/python3.11/dist-packages (from google-cloud-aiplatform<2.0.0,>=1.81.0->langchain-google-vertexai) (0.16)\n",
            "Requirement already satisfied: cachetools<6.0,>=2.0.0 in /usr/local/lib/python3.11/dist-packages (from google-auth->google-cloud-alloydb-connector[pg8000]) (5.5.2)\n",
            "Requirement already satisfied: pyasn1-modules>=0.2.1 in /usr/local/lib/python3.11/dist-packages (from google-auth->google-cloud-alloydb-connector[pg8000]) (0.4.2)\n",
            "Requirement already satisfied: rsa<5,>=3.1.4 in /usr/local/lib/python3.11/dist-packages (from google-auth->google-cloud-alloydb-connector[pg8000]) (4.9)\n",
            "Collecting asyncpg>=0.30.0 (from google-cloud-alloydb-connector[asyncpg]<2.0.0,>=1.2.0->langchain-google-alloydb-pg)\n",
            "  Downloading asyncpg-0.30.0-cp311-cp311-manylinux_2_17_x86_64.manylinux2014_x86_64.whl.metadata (5.0 kB)\n",
            "Requirement already satisfied: google-cloud-core<3.0dev,>=2.3.0 in /usr/local/lib/python3.11/dist-packages (from google-cloud-storage<4.0.0,>=2.18.2->langchain-google-alloydb-pg) (2.4.3)\n",
            "Requirement already satisfied: google-resumable-media>=2.7.2 in /usr/local/lib/python3.11/dist-packages (from google-cloud-storage<4.0.0,>=2.18.2->langchain-google-alloydb-pg) (2.7.2)\n",
            "Requirement already satisfied: google-crc32c<2.0dev,>=1.0 in /usr/local/lib/python3.11/dist-packages (from google-cloud-storage<4.0.0,>=2.18.2->langchain-google-alloydb-pg) (1.7.1)\n",
            "Requirement already satisfied: anyio in /usr/local/lib/python3.11/dist-packages (from httpx<0.29.0,>=0.28.0->langchain-google-vertexai) (4.9.0)\n",
            "Requirement already satisfied: certifi in /usr/local/lib/python3.11/dist-packages (from httpx<0.29.0,>=0.28.0->langchain-google-vertexai) (2025.1.31)\n",
            "Requirement already satisfied: httpcore==1.* in /usr/local/lib/python3.11/dist-packages (from httpx<0.29.0,>=0.28.0->langchain-google-vertexai) (1.0.7)\n",
            "Requirement already satisfied: idna in /usr/local/lib/python3.11/dist-packages (from httpx<0.29.0,>=0.28.0->langchain-google-vertexai) (3.10)\n",
            "Requirement already satisfied: h11<0.15,>=0.13 in /usr/local/lib/python3.11/dist-packages (from httpcore==1.*->httpx<0.29.0,>=0.28.0->langchain-google-vertexai) (0.14.0)\n",
            "Requirement already satisfied: tenacity!=8.4.0,<10.0.0,>=8.1.0 in /usr/local/lib/python3.11/dist-packages (from langchain-core<1.0.0,>=0.2.36->langchain-google-alloydb-pg) (9.0.0)\n",
            "Requirement already satisfied: jsonpatch<2.0,>=1.33 in /usr/local/lib/python3.11/dist-packages (from langchain-core<1.0.0,>=0.2.36->langchain-google-alloydb-pg) (1.33)\n",
            "Collecting ormsgpack<2.0.0,>=1.8.0 (from langgraph-checkpoint<3.0.0,>=2.0.10->langgraph)\n",
            "  Downloading ormsgpack-1.9.1-cp311-cp311-manylinux_2_17_x86_64.manylinux2014_x86_64.whl.metadata (43 kB)\n",
            "\u001b[2K     \u001b[90m━━━━━━━━━━━━━━━━━━━━━━━━━━━━━━━━━━━━━━━━\u001b[0m \u001b[32m43.5/43.5 kB\u001b[0m \u001b[31m1.8 MB/s\u001b[0m eta \u001b[36m0:00:00\u001b[0m\n",
            "\u001b[?25hRequirement already satisfied: orjson>=3.10.1 in /usr/local/lib/python3.11/dist-packages (from langgraph-sdk<0.2.0,>=0.1.42->langgraph) (3.10.16)\n",
            "Requirement already satisfied: requests-toolbelt<2.0.0,>=1.0.0 in /usr/local/lib/python3.11/dist-packages (from langsmith<0.4,>=0.1.17->langchain) (1.0.0)\n",
            "Requirement already satisfied: zstandard<0.24.0,>=0.23.0 in /usr/local/lib/python3.11/dist-packages (from langsmith<0.4,>=0.1.17->langchain) (0.23.0)\n",
            "Requirement already satisfied: python-dateutil>=2.8.2 in /usr/local/lib/python3.11/dist-packages (from pg8000>=1.31.1->google-cloud-alloydb-connector[pg8000]) (2.8.2)\n",
            "Collecting scramp>=1.4.5 (from pg8000>=1.31.1->google-cloud-alloydb-connector[pg8000])\n",
            "  Downloading scramp-1.4.5-py3-none-any.whl.metadata (19 kB)\n",
            "Requirement already satisfied: annotated-types>=0.6.0 in /usr/local/lib/python3.11/dist-packages (from pydantic<3.0.0,>=2.7.4->langchain) (0.7.0)\n",
            "Requirement already satisfied: pydantic-core==2.33.0 in /usr/local/lib/python3.11/dist-packages (from pydantic<3.0.0,>=2.7.4->langchain) (2.33.0)\n",
            "Requirement already satisfied: typing-inspection>=0.4.0 in /usr/local/lib/python3.11/dist-packages (from pydantic<3.0.0,>=2.7.4->langchain) (0.4.0)\n",
            "Requirement already satisfied: charset-normalizer<4,>=2 in /usr/local/lib/python3.11/dist-packages (from requests<3,>=2->langchain) (3.4.1)\n",
            "Requirement already satisfied: urllib3<3,>=1.21.1 in /usr/local/lib/python3.11/dist-packages (from requests<3,>=2->langchain) (2.3.0)\n",
            "Requirement already satisfied: greenlet>=1 in /usr/local/lib/python3.11/dist-packages (from SQLAlchemy<3.0.0,>=2.0.25->SQLAlchemy[asyncio]<3.0.0,>=2.0.25->langchain-google-alloydb-pg) (3.1.1)\n",
            "Requirement already satisfied: aiohappyeyeballs>=2.3.0 in /usr/local/lib/python3.11/dist-packages (from aiohttp->google-cloud-alloydb-connector[pg8000]) (2.6.1)\n",
            "Requirement already satisfied: aiosignal>=1.1.2 in /usr/local/lib/python3.11/dist-packages (from aiohttp->google-cloud-alloydb-connector[pg8000]) (1.3.2)\n",
            "Requirement already satisfied: attrs>=17.3.0 in /usr/local/lib/python3.11/dist-packages (from aiohttp->google-cloud-alloydb-connector[pg8000]) (25.3.0)\n",
            "Requirement already satisfied: frozenlist>=1.1.1 in /usr/local/lib/python3.11/dist-packages (from aiohttp->google-cloud-alloydb-connector[pg8000]) (1.5.0)\n",
            "Requirement already satisfied: multidict<7.0,>=4.5 in /usr/local/lib/python3.11/dist-packages (from aiohttp->google-cloud-alloydb-connector[pg8000]) (6.2.0)\n",
            "Requirement already satisfied: propcache>=0.2.0 in /usr/local/lib/python3.11/dist-packages (from aiohttp->google-cloud-alloydb-connector[pg8000]) (0.3.1)\n",
            "Requirement already satisfied: yarl<2.0,>=1.17.0 in /usr/local/lib/python3.11/dist-packages (from aiohttp->google-cloud-alloydb-connector[pg8000]) (1.18.3)\n",
            "Requirement already satisfied: pycparser in /usr/local/lib/python3.11/dist-packages (from cffi>=1.12->cryptography>=42.0.0->google-cloud-alloydb-connector[pg8000]) (2.22)\n",
            "Requirement already satisfied: googleapis-common-protos<2.0.0,>=1.56.2 in /usr/local/lib/python3.11/dist-packages (from google-api-core!=2.0.*,!=2.1.*,!=2.2.*,!=2.3.*,!=2.4.*,!=2.5.*,!=2.6.*,!=2.7.*,<3.0.0,>=1.34.1->google-api-core[grpc]!=2.0.*,!=2.1.*,!=2.2.*,!=2.3.*,!=2.4.*,!=2.5.*,!=2.6.*,!=2.7.*,<3.0.0,>=1.34.1->google-cloud-aiplatform<2.0.0,>=1.81.0->langchain-google-vertexai) (1.69.2)\n",
            "Requirement already satisfied: grpcio<2.0dev,>=1.33.2 in /usr/local/lib/python3.11/dist-packages (from google-api-core[grpc]!=2.0.*,!=2.1.*,!=2.2.*,!=2.3.*,!=2.4.*,!=2.5.*,!=2.6.*,!=2.7.*,<3.0.0,>=1.34.1->google-cloud-aiplatform<2.0.0,>=1.81.0->langchain-google-vertexai) (1.71.0)\n",
            "Requirement already satisfied: grpcio-status<2.0.dev0,>=1.33.2 in /usr/local/lib/python3.11/dist-packages (from google-api-core[grpc]!=2.0.*,!=2.1.*,!=2.2.*,!=2.3.*,!=2.4.*,!=2.5.*,!=2.6.*,!=2.7.*,<3.0.0,>=1.34.1->google-cloud-aiplatform<2.0.0,>=1.81.0->langchain-google-vertexai) (1.71.0)\n",
            "Requirement already satisfied: grpc-google-iam-v1<1.0.0,>=0.14.0 in /usr/local/lib/python3.11/dist-packages (from google-cloud-resource-manager<3.0.0,>=1.3.3->google-cloud-aiplatform<2.0.0,>=1.81.0->langchain-google-vertexai) (0.14.2)\n",
            "Requirement already satisfied: jsonpointer>=1.9 in /usr/local/lib/python3.11/dist-packages (from jsonpatch<2.0,>=1.33->langchain-core<1.0.0,>=0.2.36->langchain-google-alloydb-pg) (3.0.0)\n",
            "Requirement already satisfied: pyasn1<0.7.0,>=0.6.1 in /usr/local/lib/python3.11/dist-packages (from pyasn1-modules>=0.2.1->google-auth->google-cloud-alloydb-connector[pg8000]) (0.6.1)\n",
            "Requirement already satisfied: six>=1.5 in /usr/local/lib/python3.11/dist-packages (from python-dateutil>=2.8.2->pg8000>=1.31.1->google-cloud-alloydb-connector[pg8000]) (1.17.0)\n",
            "Collecting asn1crypto>=1.5.1 (from scramp>=1.4.5->pg8000>=1.31.1->google-cloud-alloydb-connector[pg8000])\n",
            "  Downloading asn1crypto-1.5.1-py2.py3-none-any.whl.metadata (13 kB)\n",
            "Requirement already satisfied: sniffio>=1.1 in /usr/local/lib/python3.11/dist-packages (from anyio->httpx<0.29.0,>=0.28.0->langchain-google-vertexai) (1.3.1)\n",
            "Downloading langchain_google_alloydb_pg-0.10.0-py3-none-any.whl (57 kB)\n",
            "\u001b[2K   \u001b[90m━━━━━━━━━━━━━━━━━━━━━━━━━━━━━━━━━━━━━━━━\u001b[0m \u001b[32m57.8/57.8 kB\u001b[0m \u001b[31m2.0 MB/s\u001b[0m eta \u001b[36m0:00:00\u001b[0m\n",
            "\u001b[?25hDownloading langchain_google_vertexai-2.0.18-py3-none-any.whl (97 kB)\n",
            "\u001b[2K   \u001b[90m━━━━━━━━━━━━━━━━━━━━━━━━━━━━━━━━━━━━━━━━\u001b[0m \u001b[32m97.4/97.4 kB\u001b[0m \u001b[31m4.9 MB/s\u001b[0m eta \u001b[36m0:00:00\u001b[0m\n",
            "\u001b[?25hDownloading langgraph-0.3.23-py3-none-any.whl (139 kB)\n",
            "\u001b[2K   \u001b[90m━━━━━━━━━━━━━━━━━━━━━━━━━━━━━━━━━━━━━━━━\u001b[0m \u001b[32m139.7/139.7 kB\u001b[0m \u001b[31m2.8 MB/s\u001b[0m eta \u001b[36m0:00:00\u001b[0m\n",
            "\u001b[?25hDownloading google_cloud_alloydb_connector-1.7.0-py2.py3-none-any.whl (42 kB)\n",
            "\u001b[2K   \u001b[90m━━━━━━━━━━━━━━━━━━━━━━━━━━━━━━━━━━━━━━━━\u001b[0m \u001b[32m42.3/42.3 kB\u001b[0m \u001b[31m1.5 MB/s\u001b[0m eta \u001b[36m0:00:00\u001b[0m\n",
            "\u001b[?25hDownloading httpx_sse-0.4.0-py3-none-any.whl (7.8 kB)\n",
            "Downloading langgraph_checkpoint-2.0.23-py3-none-any.whl (41 kB)\n",
            "\u001b[2K   \u001b[90m━━━━━━━━━━━━━━━━━━━━━━━━━━━━━━━━━━━━━━━━\u001b[0m \u001b[32m41.9/41.9 kB\u001b[0m \u001b[31m784.5 kB/s\u001b[0m eta \u001b[36m0:00:00\u001b[0m\n",
            "\u001b[?25hDownloading langgraph_prebuilt-0.1.7-py3-none-any.whl (25 kB)\n",
            "Downloading langgraph_sdk-0.1.60-py3-none-any.whl (47 kB)\n",
            "\u001b[2K   \u001b[90m━━━━━━━━━━━━━━━━━━━━━━━━━━━━━━━━━━━━━━━━\u001b[0m \u001b[32m47.1/47.1 kB\u001b[0m \u001b[31m3.0 MB/s\u001b[0m eta \u001b[36m0:00:00\u001b[0m\n",
            "\u001b[?25hDownloading pg8000-1.31.2-py3-none-any.whl (54 kB)\n",
            "\u001b[2K   \u001b[90m━━━━━━━━━━━━━━━━━━━━━━━━━━━━━━━━━━━━━━━━\u001b[0m \u001b[32m54.5/54.5 kB\u001b[0m \u001b[31m2.6 MB/s\u001b[0m eta \u001b[36m0:00:00\u001b[0m\n",
            "\u001b[?25hDownloading pgvector-0.4.0-py3-none-any.whl (27 kB)\n",
            "Downloading validators-0.34.0-py3-none-any.whl (43 kB)\n",
            "\u001b[2K   \u001b[90m━━━━━━━━━━━━━━━━━━━━━━━━━━━━━━━━━━━━━━━━\u001b[0m \u001b[32m43.5/43.5 kB\u001b[0m \u001b[31m2.7 MB/s\u001b[0m eta \u001b[36m0:00:00\u001b[0m\n",
            "\u001b[?25hDownloading xxhash-3.5.0-cp311-cp311-manylinux_2_17_x86_64.manylinux2014_x86_64.whl (194 kB)\n",
            "\u001b[2K   \u001b[90m━━━━━━━━━━━━━━━━━━━━━━━━━━━━━━━━━━━━━━━━\u001b[0m \u001b[32m194.8/194.8 kB\u001b[0m \u001b[31m9.1 MB/s\u001b[0m eta \u001b[36m0:00:00\u001b[0m\n",
            "\u001b[?25hDownloading aiofiles-24.1.0-py3-none-any.whl (15 kB)\n",
            "Downloading asyncpg-0.30.0-cp311-cp311-manylinux_2_17_x86_64.manylinux2014_x86_64.whl (3.1 MB)\n",
            "\u001b[2K   \u001b[90m━━━━━━━━━━━━━━━━━━━━━━━━━━━━━━━━━━━━━━━━\u001b[0m \u001b[32m3.1/3.1 MB\u001b[0m \u001b[31m24.7 MB/s\u001b[0m eta \u001b[36m0:00:00\u001b[0m\n",
            "\u001b[?25hDownloading ormsgpack-1.9.1-cp311-cp311-manylinux_2_17_x86_64.manylinux2014_x86_64.whl (223 kB)\n",
            "\u001b[2K   \u001b[90m━━━━━━━━━━━━━━━━━━━━━━━━━━━━━━━━━━━━━━━━\u001b[0m \u001b[32m223.6/223.6 kB\u001b[0m \u001b[31m8.0 MB/s\u001b[0m eta \u001b[36m0:00:00\u001b[0m\n",
            "\u001b[?25hDownloading scramp-1.4.5-py3-none-any.whl (12 kB)\n",
            "Downloading asn1crypto-1.5.1-py2.py3-none-any.whl (105 kB)\n",
            "\u001b[2K   \u001b[90m━━━━━━━━━━━━━━━━━━━━━━━━━━━━━━━━━━━━━━━━\u001b[0m \u001b[32m105.0/105.0 kB\u001b[0m \u001b[31m4.3 MB/s\u001b[0m eta \u001b[36m0:00:00\u001b[0m\n",
            "\u001b[?25hInstalling collected packages: asn1crypto, xxhash, validators, scramp, pgvector, ormsgpack, httpx-sse, asyncpg, aiofiles, pg8000, langgraph-sdk, google-cloud-alloydb-connector, langgraph-checkpoint, langgraph-prebuilt, langchain-google-alloydb-pg, langgraph, langchain-google-vertexai\n",
            "Successfully installed aiofiles-24.1.0 asn1crypto-1.5.1 asyncpg-0.30.0 google-cloud-alloydb-connector-1.7.0 httpx-sse-0.4.0 langchain-google-alloydb-pg-0.10.0 langchain-google-vertexai-2.0.18 langgraph-0.3.23 langgraph-checkpoint-2.0.23 langgraph-prebuilt-0.1.7 langgraph-sdk-0.1.60 ormsgpack-1.9.1 pg8000-1.31.2 pgvector-0.4.0 scramp-1.4.5 validators-0.34.0 xxhash-3.5.0\n"
          ]
        },
        {
          "output_type": "display_data",
          "data": {
            "application/vnd.colab-display-data+json": {
              "pip_warning": {
                "packages": [
                  "google"
                ]
              },
              "id": "c755a92b0aa0486c977a4cf57c3f03ab"
            }
          },
          "metadata": {}
        }
      ],
      "source": [
        "%pip install langchain-google-alloydb-pg langchain langchain-google-vertexai google-cloud-alloydb-connector[pg8000] langgraph"
      ]
    },
    {
      "cell_type": "markdown",
      "metadata": {
        "id": "DeUbHclxw7_l"
      },
      "source": [
        "## Authenticate to Google Cloud within Colab\n",
        "In order to access your Google Cloud Project from this notebook, you will need to Authenticate as an IAM user."
      ]
    },
    {
      "cell_type": "code",
      "execution_count": 2,
      "metadata": {
        "id": "_Q9hyqdyEx6l"
      },
      "outputs": [],
      "source": [
        "from google.colab import auth\n",
        "\n",
        "auth.authenticate_user()"
      ]
    },
    {
      "cell_type": "markdown",
      "metadata": {
        "id": "UCiNGP1Qxd6x"
      },
      "source": [
        "## Connect Your Google Cloud Project"
      ]
    },
    {
      "cell_type": "code",
      "execution_count": 3,
      "metadata": {
        "colab": {
          "base_uri": "https://localhost:8080/"
        },
        "id": "SLUGlG6UE2CK",
        "outputId": "d1f88a30-a16c-4004-ea87-59eb3b379235"
      },
      "outputs": [
        {
          "output_type": "stream",
          "name": "stdout",
          "text": [
            "Updated property [core/project].\n"
          ]
        }
      ],
      "source": [
        "# Please fill in these values.\n",
        "project_id = \"rag-alloydb-poc-450115\"\n",
        "\n",
        "# Configure gcloud.\n",
        "!gcloud config set project {project_id}"
      ]
    },
    {
      "cell_type": "markdown",
      "metadata": {
        "id": "O-oqMC5Ox-ZM"
      },
      "source": [
        "## Enable APIs for AlloyDB and Vertex AI within your project"
      ]
    },
    {
      "cell_type": "markdown",
      "metadata": {
        "id": "X-bzfFb4A-xK"
      },
      "source": [
        "You will need to enable these APIs in order to create an AlloyDB database and utilize Vertex AI as an embeddings service!"
      ]
    },
    {
      "cell_type": "code",
      "execution_count": null,
      "metadata": {
        "colab": {
          "base_uri": "https://localhost:8080/"
        },
        "id": "CKWrwyfzyTwH",
        "outputId": "f829bed7-5ac7-4fc5-dabb-4f1067e813c6"
      },
      "outputs": [
        {
          "output_type": "stream",
          "name": "stdout",
          "text": [
            "Operation \"operations/acat.p2-247980882241-8405c475-233e-4883-bc87-f7b7a91c188c\" finished successfully.\n"
          ]
        }
      ],
      "source": [
        "# enable GCP services\n",
        "!gcloud services enable alloydb.googleapis.com aiplatform.googleapis.com"
      ]
    },
    {
      "cell_type": "markdown",
      "metadata": {
        "id": "Gn8g7-wCyZU6"
      },
      "source": [
        "## Set up AlloyDB\n",
        "You will need a Postgres AlloyDB instance for the following stages of this notebook. Please set the following variables."
      ]
    },
    {
      "cell_type": "code",
      "execution_count": 5,
      "metadata": {
        "colab": {
          "base_uri": "https://localhost:8080/"
        },
        "id": "8q2lc-Po1mPv",
        "outputId": "58d6659e-ed6f-49b1-e009-e3b23f5490cc"
      },
      "outputs": [
        {
          "name": "stdout",
          "output_type": "stream",
          "text": [
            "Please provide a password to be used for 'postgres' database user: postgres\n"
          ]
        }
      ],
      "source": [
        "region = \"us-east4\"\n",
        "cluster_name = \"alloydb-cluster\"\n",
        "instance_name = \"primary-instance\"\n",
        "database_name = \"movie\"\n",
        "password = input(\"Please provide a password to be used for 'postgres' database user: \")"
      ]
    },
    {
      "cell_type": "markdown",
      "metadata": {
        "id": "T616pEOUygYQ"
      },
      "source": [
        "### Create an AlloyDB Instance\n",
        "If you have already created an AlloyDB Cluster and Instance, you can skip these steps and skip to the connectivity section."
      ]
    },
    {
      "cell_type": "markdown",
      "metadata": {
        "id": "xyZYX4Jo1vfh"
      },
      "source": [
        "> ⏳ - Creating an AlloyDB cluster may take a few minutes."
      ]
    },
    {
      "cell_type": "code",
      "execution_count": null,
      "metadata": {
        "colab": {
          "base_uri": "https://localhost:8080/"
        },
        "id": "XXI1uUu3y8gc",
        "outputId": "1892c990-639c-48de-bd24-65cb0b01689a"
      },
      "outputs": [
        {
          "output_type": "stream",
          "name": "stdout",
          "text": [
            "Operation ID: operation-1743594328288-631ca3091ebad-a7e487d1-aeaca219\n"
          ]
        }
      ],
      "source": [
        "# Quick input validations.\n",
        "assert region, \"⚠️ Please provide a Google Cloud region\"\n",
        "assert instance_name, \"⚠️ Please provide the name of your instance\"\n",
        "assert database_name, \"⚠️ Please provide the name of your database_name\"\n",
        "\n",
        "# create the AlloyDB Cluster\n",
        "!gcloud beta alloydb clusters create {cluster_name} --password={password} --region={region}\n",
        "#gcloud beta alloydb clusters create {cluster_name} --password={password} --region={region}\n",
        "# Enable Service Networking API From UI\n",
        "# Enable Compute Engine API from UI\n",
        "# IF DB creation fails then create Using UI\n",
        "    #In Primary Cluster Enable public ID of from UI"
      ]
    },
    {
      "cell_type": "markdown",
      "metadata": {
        "id": "o8LkscYH5Vfp"
      },
      "source": [
        "# **Create** an instance attached to our cluster with the following command.\n",
        "> ⏳ - Creating an AlloyDB instance may take a few minutes."
      ]
    },
    {
      "cell_type": "code",
      "execution_count": null,
      "metadata": {
        "id": "TkqQSWoY5Kab",
        "outputId": "8552eb1a-cc38-467a-95d6-c03b1d92d057",
        "colab": {
          "base_uri": "https://localhost:8080/"
        }
      },
      "outputs": [
        {
          "output_type": "stream",
          "name": "stdout",
          "text": [
            "Operation ID: operation-1743594346511-631ca31a7fdff-8abf74ed-0529bb7c\n"
          ]
        }
      ],
      "source": [
        "!gcloud beta alloydb instances create {instance_name} --instance-type=PRIMARY --cpu-count=2 --region={region} --cluster={cluster_name}"
      ]
    },
    {
      "cell_type": "markdown",
      "metadata": {
        "id": "BXsQ1UJv4ZVJ"
      },
      "source": [
        "To connect to your AlloyDB instance from this notebook, you will need to enable public IP on your instance.\n",
        "\n",
        "Alternatively, you can follow [these instructions](https://cloud.google.com/alloydb/docs/connect-external) to connect to an AlloyDB for PostgreSQL instance with Private IP from outside your VPC."
      ]
    },
    {
      "cell_type": "code",
      "execution_count": null,
      "metadata": {
        "colab": {
          "base_uri": "https://localhost:8080/"
        },
        "id": "OPVWsQB04Yyl",
        "outputId": "eefb38fd-b59b-42d4-8f37-5320ae688c53"
      },
      "outputs": [
        {
          "output_type": "stream",
          "name": "stdout",
          "text": [
            "\u001b[1;31mERROR:\u001b[0m (gcloud.beta.alloydb.instances.update) INVALID_ARGUMENT: The request was invalid: password complexity flag password.enforce_complexity is required when public IP is enabled\n",
            "- '@type': type.googleapis.com/google.rpc.BadRequest\n",
            "  fieldViolations:\n",
            "  - field: database_flags\n",
            "- '@type': type.googleapis.com/google.rpc.RequestInfo\n",
            "  requestId: f5c5c6c953df2663\n"
          ]
        }
      ],
      "source": [
        "!gcloud beta alloydb instances update {instance_name} --region={region} --cluster={cluster_name} --assign-inbound-public-ip=ASSIGN_IPV4\n",
        "#Enable public IP of from UI"
      ]
    },
    {
      "cell_type": "markdown",
      "metadata": {
        "id": "mjA6AiAzB2Du"
      },
      "source": [
        "Now create a connection pool to connect to our instance."
      ]
    },
    {
      "cell_type": "markdown",
      "source": [
        "**SQLAlchemy:** This package helps you talk to the database without writing SQL directly all the time. It makes connecting and running queries with PostgreSQL (or any database) much easier.\n",
        "\n",
        "**pg8000:** This is the driver that connects Python to PostgreSQL. Since we’re working with AlloyDB (which is PostgreSQL-based), this driver is how we talk to it from Python.\n",
        "\n",
        "**Google Cloud AlloyDB Connector:** To connect to AlloyDB securely, you need this package. It handles all the Google Cloud magic to get the connection set up behind the scenes."
      ],
      "metadata": {
        "id": "TGH0-1Nz5yis"
      }
    },
    {
      "cell_type": "code",
      "execution_count": 6,
      "metadata": {
        "id": "zsLi0a7FIYjT"
      },
      "outputs": [],
      "source": [
        "from google.cloud.alloydb.connector import Connector, IPTypes\n",
        "import sqlalchemy\n",
        "\n",
        "# initialize Connector object\n",
        "connection_string = f\"projects/{project_id}/locations/{region}/clusters/{cluster_name}/instances/{instance_name}\"\n",
        "connector = Connector()\n",
        "\n",
        "\n",
        "# function to return the database connection\n",
        "def getconn():\n",
        "    conn = connector.connect(\n",
        "        connection_string,\n",
        "        \"pg8000\",\n",
        "        user=\"postgres\",\n",
        "        password=password,\n",
        "        db=\"postgres\",\n",
        "        enable_iam_auth=False,\n",
        "        ip_type=IPTypes.PUBLIC,\n",
        "    )\n",
        "    return conn\n",
        "\n",
        "\n",
        "# create connection pool for PostgreSQL DB\n",
        "pool = sqlalchemy.create_engine(\n",
        "    \"postgresql+pg8000://\", creator=getconn, isolation_level=\"AUTOCOMMIT\"\n",
        ")"
      ]
    },
    {
      "cell_type": "markdown",
      "metadata": {
        "id": "i_yNN1MnJpTR"
      },
      "source": [
        "### Create a Database\n",
        "\n",
        "Next you will create database to store the data for this application using the connection pool. Enabling public IP takes a few minutes, you may get an error that there is no public IP address. Please wait and retry this step if you hit an error!"
      ]
    },
    {
      "cell_type": "code",
      "execution_count": null,
      "metadata": {
        "id": "hPE6tt5eJqhq"
      },
      "outputs": [],
      "source": [
        "with pool.connect() as db_conn:\n",
        "    db_conn.execute(sqlalchemy.text(f\"CREATE DATABASE {database_name}\"))\n",
        "connector.close()"
      ]
    },
    {
      "cell_type": "markdown",
      "metadata": {
        "id": "hUJ1fK-A-mRd"
      },
      "source": [
        "#### Connect to our New Database\n",
        "\n",
        "Now you will add in a connection function that connects to your new database!"
      ]
    },
    {
      "cell_type": "code",
      "execution_count": 7,
      "metadata": {
        "id": "e8TSMLes-mRd"
      },
      "outputs": [],
      "source": [
        "from google.cloud.alloydb.connector import Connector, IPTypes\n",
        "import sqlalchemy\n",
        "\n",
        "\n",
        "connection_string = f\"projects/{project_id}/locations/{region}/clusters/{cluster_name}/instances/{instance_name}\"\n",
        "# initialize Connector object\n",
        "connector = Connector()\n",
        "\n",
        "\n",
        "# function to return the database connection\n",
        "def getconn():\n",
        "    conn = connector.connect(\n",
        "        connection_string,\n",
        "        \"pg8000\",\n",
        "        user=\"postgres\",\n",
        "        password=password,\n",
        "        db=database_name,\n",
        "        enable_iam_auth=False,\n",
        "        ip_type=IPTypes.PUBLIC,\n",
        "    )\n",
        "    return conn\n",
        "\n",
        "\n",
        "# create connection pool\n",
        "pool = sqlalchemy.create_engine(\"postgresql+pg8000://\", creator=getconn)\n"
      ]
    },
    {
      "cell_type": "markdown",
      "metadata": {
        "id": "HdolCWyatZmG"
      },
      "source": [
        "### Import data to your database\n"
      ]
    },
    {
      "cell_type": "code",
      "source": [
        "import pandas as pd\n",
        "\n",
        "# Google Drive file ID (Extract from shareable link)\n",
        "file_id = \"1rD3z2Vp3YzaJCV87xEDYkNjYae7CsxYS\"\n",
        "# Construct the correct download URL\n",
        "download_url = f\"https://drive.google.com/uc?export=download&id={file_id}\"\n",
        "# Read CSV file from Google Drive\n",
        "df_movie_details = pd.read_csv(download_url)\n",
        "df = df_movie_details.head(100) # first 100 movie to reduce database size"
      ],
      "metadata": {
        "id": "o7hcMygSO7Hw"
      },
      "execution_count": null,
      "outputs": []
    },
    {
      "cell_type": "code",
      "source": [
        "df.head()"
      ],
      "metadata": {
        "colab": {
          "base_uri": "https://localhost:8080/",
          "height": 519
        },
        "id": "FNGaXdp3Pf5a",
        "outputId": "3395ba1b-4c2e-435f-82ed-26727e17893d"
      },
      "execution_count": null,
      "outputs": [
        {
          "output_type": "execute_result",
          "data": {
            "text/plain": [
              "  show_id     type                  title         director  \\\n",
              "0      s1    Movie   Dick Johnson Is Dead  Kirsten Johnson   \n",
              "1      s2  TV Show          Blood & Water              NaN   \n",
              "2      s3  TV Show              Ganglands  Julien Leclercq   \n",
              "3      s4  TV Show  Jailbirds New Orleans              NaN   \n",
              "4      s5  TV Show           Kota Factory              NaN   \n",
              "\n",
              "                                                cast        country  \\\n",
              "0                                                NaN  United States   \n",
              "1  Ama Qamata, Khosi Ngema, Gail Mabalane, Thaban...   South Africa   \n",
              "2  Sami Bouajila, Tracy Gotoas, Samuel Jouy, Nabi...            NaN   \n",
              "3                                                NaN            NaN   \n",
              "4  Mayur More, Jitendra Kumar, Ranjan Raj, Alam K...          India   \n",
              "\n",
              "           date_added  release_year rating   duration  \\\n",
              "0  September 25, 2021          2020  PG-13     90 min   \n",
              "1  September 24, 2021          2021  TV-MA  2 Seasons   \n",
              "2  September 24, 2021          2021  TV-MA   1 Season   \n",
              "3  September 24, 2021          2021  TV-MA   1 Season   \n",
              "4  September 24, 2021          2021  TV-MA  2 Seasons   \n",
              "\n",
              "                                           listed_in  \\\n",
              "0                                      Documentaries   \n",
              "1    International TV Shows, TV Dramas, TV Mysteries   \n",
              "2  Crime TV Shows, International TV Shows, TV Act...   \n",
              "3                             Docuseries, Reality TV   \n",
              "4  International TV Shows, Romantic TV Shows, TV ...   \n",
              "\n",
              "                                         description  \n",
              "0  As her father nears the end of his life, filmm...  \n",
              "1  After crossing paths at a party, a Cape Town t...  \n",
              "2  To protect his family from a powerful drug lor...  \n",
              "3  Feuds, flirtations and toilet talk go down amo...  \n",
              "4  In a city of coaching centers known to train I...  "
            ],
            "text/html": [
              "\n",
              "  <div id=\"df-25766cc9-c44d-4e29-80d2-e6e2c7d35fa5\" class=\"colab-df-container\">\n",
              "    <div>\n",
              "<style scoped>\n",
              "    .dataframe tbody tr th:only-of-type {\n",
              "        vertical-align: middle;\n",
              "    }\n",
              "\n",
              "    .dataframe tbody tr th {\n",
              "        vertical-align: top;\n",
              "    }\n",
              "\n",
              "    .dataframe thead th {\n",
              "        text-align: right;\n",
              "    }\n",
              "</style>\n",
              "<table border=\"1\" class=\"dataframe\">\n",
              "  <thead>\n",
              "    <tr style=\"text-align: right;\">\n",
              "      <th></th>\n",
              "      <th>show_id</th>\n",
              "      <th>type</th>\n",
              "      <th>title</th>\n",
              "      <th>director</th>\n",
              "      <th>cast</th>\n",
              "      <th>country</th>\n",
              "      <th>date_added</th>\n",
              "      <th>release_year</th>\n",
              "      <th>rating</th>\n",
              "      <th>duration</th>\n",
              "      <th>listed_in</th>\n",
              "      <th>description</th>\n",
              "    </tr>\n",
              "  </thead>\n",
              "  <tbody>\n",
              "    <tr>\n",
              "      <th>0</th>\n",
              "      <td>s1</td>\n",
              "      <td>Movie</td>\n",
              "      <td>Dick Johnson Is Dead</td>\n",
              "      <td>Kirsten Johnson</td>\n",
              "      <td>NaN</td>\n",
              "      <td>United States</td>\n",
              "      <td>September 25, 2021</td>\n",
              "      <td>2020</td>\n",
              "      <td>PG-13</td>\n",
              "      <td>90 min</td>\n",
              "      <td>Documentaries</td>\n",
              "      <td>As her father nears the end of his life, filmm...</td>\n",
              "    </tr>\n",
              "    <tr>\n",
              "      <th>1</th>\n",
              "      <td>s2</td>\n",
              "      <td>TV Show</td>\n",
              "      <td>Blood &amp; Water</td>\n",
              "      <td>NaN</td>\n",
              "      <td>Ama Qamata, Khosi Ngema, Gail Mabalane, Thaban...</td>\n",
              "      <td>South Africa</td>\n",
              "      <td>September 24, 2021</td>\n",
              "      <td>2021</td>\n",
              "      <td>TV-MA</td>\n",
              "      <td>2 Seasons</td>\n",
              "      <td>International TV Shows, TV Dramas, TV Mysteries</td>\n",
              "      <td>After crossing paths at a party, a Cape Town t...</td>\n",
              "    </tr>\n",
              "    <tr>\n",
              "      <th>2</th>\n",
              "      <td>s3</td>\n",
              "      <td>TV Show</td>\n",
              "      <td>Ganglands</td>\n",
              "      <td>Julien Leclercq</td>\n",
              "      <td>Sami Bouajila, Tracy Gotoas, Samuel Jouy, Nabi...</td>\n",
              "      <td>NaN</td>\n",
              "      <td>September 24, 2021</td>\n",
              "      <td>2021</td>\n",
              "      <td>TV-MA</td>\n",
              "      <td>1 Season</td>\n",
              "      <td>Crime TV Shows, International TV Shows, TV Act...</td>\n",
              "      <td>To protect his family from a powerful drug lor...</td>\n",
              "    </tr>\n",
              "    <tr>\n",
              "      <th>3</th>\n",
              "      <td>s4</td>\n",
              "      <td>TV Show</td>\n",
              "      <td>Jailbirds New Orleans</td>\n",
              "      <td>NaN</td>\n",
              "      <td>NaN</td>\n",
              "      <td>NaN</td>\n",
              "      <td>September 24, 2021</td>\n",
              "      <td>2021</td>\n",
              "      <td>TV-MA</td>\n",
              "      <td>1 Season</td>\n",
              "      <td>Docuseries, Reality TV</td>\n",
              "      <td>Feuds, flirtations and toilet talk go down amo...</td>\n",
              "    </tr>\n",
              "    <tr>\n",
              "      <th>4</th>\n",
              "      <td>s5</td>\n",
              "      <td>TV Show</td>\n",
              "      <td>Kota Factory</td>\n",
              "      <td>NaN</td>\n",
              "      <td>Mayur More, Jitendra Kumar, Ranjan Raj, Alam K...</td>\n",
              "      <td>India</td>\n",
              "      <td>September 24, 2021</td>\n",
              "      <td>2021</td>\n",
              "      <td>TV-MA</td>\n",
              "      <td>2 Seasons</td>\n",
              "      <td>International TV Shows, Romantic TV Shows, TV ...</td>\n",
              "      <td>In a city of coaching centers known to train I...</td>\n",
              "    </tr>\n",
              "  </tbody>\n",
              "</table>\n",
              "</div>\n",
              "    <div class=\"colab-df-buttons\">\n",
              "\n",
              "  <div class=\"colab-df-container\">\n",
              "    <button class=\"colab-df-convert\" onclick=\"convertToInteractive('df-25766cc9-c44d-4e29-80d2-e6e2c7d35fa5')\"\n",
              "            title=\"Convert this dataframe to an interactive table.\"\n",
              "            style=\"display:none;\">\n",
              "\n",
              "  <svg xmlns=\"http://www.w3.org/2000/svg\" height=\"24px\" viewBox=\"0 -960 960 960\">\n",
              "    <path d=\"M120-120v-720h720v720H120Zm60-500h600v-160H180v160Zm220 220h160v-160H400v160Zm0 220h160v-160H400v160ZM180-400h160v-160H180v160Zm440 0h160v-160H620v160ZM180-180h160v-160H180v160Zm440 0h160v-160H620v160Z\"/>\n",
              "  </svg>\n",
              "    </button>\n",
              "\n",
              "  <style>\n",
              "    .colab-df-container {\n",
              "      display:flex;\n",
              "      gap: 12px;\n",
              "    }\n",
              "\n",
              "    .colab-df-convert {\n",
              "      background-color: #E8F0FE;\n",
              "      border: none;\n",
              "      border-radius: 50%;\n",
              "      cursor: pointer;\n",
              "      display: none;\n",
              "      fill: #1967D2;\n",
              "      height: 32px;\n",
              "      padding: 0 0 0 0;\n",
              "      width: 32px;\n",
              "    }\n",
              "\n",
              "    .colab-df-convert:hover {\n",
              "      background-color: #E2EBFA;\n",
              "      box-shadow: 0px 1px 2px rgba(60, 64, 67, 0.3), 0px 1px 3px 1px rgba(60, 64, 67, 0.15);\n",
              "      fill: #174EA6;\n",
              "    }\n",
              "\n",
              "    .colab-df-buttons div {\n",
              "      margin-bottom: 4px;\n",
              "    }\n",
              "\n",
              "    [theme=dark] .colab-df-convert {\n",
              "      background-color: #3B4455;\n",
              "      fill: #D2E3FC;\n",
              "    }\n",
              "\n",
              "    [theme=dark] .colab-df-convert:hover {\n",
              "      background-color: #434B5C;\n",
              "      box-shadow: 0px 1px 3px 1px rgba(0, 0, 0, 0.15);\n",
              "      filter: drop-shadow(0px 1px 2px rgba(0, 0, 0, 0.3));\n",
              "      fill: #FFFFFF;\n",
              "    }\n",
              "  </style>\n",
              "\n",
              "    <script>\n",
              "      const buttonEl =\n",
              "        document.querySelector('#df-25766cc9-c44d-4e29-80d2-e6e2c7d35fa5 button.colab-df-convert');\n",
              "      buttonEl.style.display =\n",
              "        google.colab.kernel.accessAllowed ? 'block' : 'none';\n",
              "\n",
              "      async function convertToInteractive(key) {\n",
              "        const element = document.querySelector('#df-25766cc9-c44d-4e29-80d2-e6e2c7d35fa5');\n",
              "        const dataTable =\n",
              "          await google.colab.kernel.invokeFunction('convertToInteractive',\n",
              "                                                    [key], {});\n",
              "        if (!dataTable) return;\n",
              "\n",
              "        const docLinkHtml = 'Like what you see? Visit the ' +\n",
              "          '<a target=\"_blank\" href=https://colab.research.google.com/notebooks/data_table.ipynb>data table notebook</a>'\n",
              "          + ' to learn more about interactive tables.';\n",
              "        element.innerHTML = '';\n",
              "        dataTable['output_type'] = 'display_data';\n",
              "        await google.colab.output.renderOutput(dataTable, element);\n",
              "        const docLink = document.createElement('div');\n",
              "        docLink.innerHTML = docLinkHtml;\n",
              "        element.appendChild(docLink);\n",
              "      }\n",
              "    </script>\n",
              "  </div>\n",
              "\n",
              "\n",
              "<div id=\"df-45ea4a63-f9ed-4cb5-be29-38881ab0bd8a\">\n",
              "  <button class=\"colab-df-quickchart\" onclick=\"quickchart('df-45ea4a63-f9ed-4cb5-be29-38881ab0bd8a')\"\n",
              "            title=\"Suggest charts\"\n",
              "            style=\"display:none;\">\n",
              "\n",
              "<svg xmlns=\"http://www.w3.org/2000/svg\" height=\"24px\"viewBox=\"0 0 24 24\"\n",
              "     width=\"24px\">\n",
              "    <g>\n",
              "        <path d=\"M19 3H5c-1.1 0-2 .9-2 2v14c0 1.1.9 2 2 2h14c1.1 0 2-.9 2-2V5c0-1.1-.9-2-2-2zM9 17H7v-7h2v7zm4 0h-2V7h2v10zm4 0h-2v-4h2v4z\"/>\n",
              "    </g>\n",
              "</svg>\n",
              "  </button>\n",
              "\n",
              "<style>\n",
              "  .colab-df-quickchart {\n",
              "      --bg-color: #E8F0FE;\n",
              "      --fill-color: #1967D2;\n",
              "      --hover-bg-color: #E2EBFA;\n",
              "      --hover-fill-color: #174EA6;\n",
              "      --disabled-fill-color: #AAA;\n",
              "      --disabled-bg-color: #DDD;\n",
              "  }\n",
              "\n",
              "  [theme=dark] .colab-df-quickchart {\n",
              "      --bg-color: #3B4455;\n",
              "      --fill-color: #D2E3FC;\n",
              "      --hover-bg-color: #434B5C;\n",
              "      --hover-fill-color: #FFFFFF;\n",
              "      --disabled-bg-color: #3B4455;\n",
              "      --disabled-fill-color: #666;\n",
              "  }\n",
              "\n",
              "  .colab-df-quickchart {\n",
              "    background-color: var(--bg-color);\n",
              "    border: none;\n",
              "    border-radius: 50%;\n",
              "    cursor: pointer;\n",
              "    display: none;\n",
              "    fill: var(--fill-color);\n",
              "    height: 32px;\n",
              "    padding: 0;\n",
              "    width: 32px;\n",
              "  }\n",
              "\n",
              "  .colab-df-quickchart:hover {\n",
              "    background-color: var(--hover-bg-color);\n",
              "    box-shadow: 0 1px 2px rgba(60, 64, 67, 0.3), 0 1px 3px 1px rgba(60, 64, 67, 0.15);\n",
              "    fill: var(--button-hover-fill-color);\n",
              "  }\n",
              "\n",
              "  .colab-df-quickchart-complete:disabled,\n",
              "  .colab-df-quickchart-complete:disabled:hover {\n",
              "    background-color: var(--disabled-bg-color);\n",
              "    fill: var(--disabled-fill-color);\n",
              "    box-shadow: none;\n",
              "  }\n",
              "\n",
              "  .colab-df-spinner {\n",
              "    border: 2px solid var(--fill-color);\n",
              "    border-color: transparent;\n",
              "    border-bottom-color: var(--fill-color);\n",
              "    animation:\n",
              "      spin 1s steps(1) infinite;\n",
              "  }\n",
              "\n",
              "  @keyframes spin {\n",
              "    0% {\n",
              "      border-color: transparent;\n",
              "      border-bottom-color: var(--fill-color);\n",
              "      border-left-color: var(--fill-color);\n",
              "    }\n",
              "    20% {\n",
              "      border-color: transparent;\n",
              "      border-left-color: var(--fill-color);\n",
              "      border-top-color: var(--fill-color);\n",
              "    }\n",
              "    30% {\n",
              "      border-color: transparent;\n",
              "      border-left-color: var(--fill-color);\n",
              "      border-top-color: var(--fill-color);\n",
              "      border-right-color: var(--fill-color);\n",
              "    }\n",
              "    40% {\n",
              "      border-color: transparent;\n",
              "      border-right-color: var(--fill-color);\n",
              "      border-top-color: var(--fill-color);\n",
              "    }\n",
              "    60% {\n",
              "      border-color: transparent;\n",
              "      border-right-color: var(--fill-color);\n",
              "    }\n",
              "    80% {\n",
              "      border-color: transparent;\n",
              "      border-right-color: var(--fill-color);\n",
              "      border-bottom-color: var(--fill-color);\n",
              "    }\n",
              "    90% {\n",
              "      border-color: transparent;\n",
              "      border-bottom-color: var(--fill-color);\n",
              "    }\n",
              "  }\n",
              "</style>\n",
              "\n",
              "  <script>\n",
              "    async function quickchart(key) {\n",
              "      const quickchartButtonEl =\n",
              "        document.querySelector('#' + key + ' button');\n",
              "      quickchartButtonEl.disabled = true;  // To prevent multiple clicks.\n",
              "      quickchartButtonEl.classList.add('colab-df-spinner');\n",
              "      try {\n",
              "        const charts = await google.colab.kernel.invokeFunction(\n",
              "            'suggestCharts', [key], {});\n",
              "      } catch (error) {\n",
              "        console.error('Error during call to suggestCharts:', error);\n",
              "      }\n",
              "      quickchartButtonEl.classList.remove('colab-df-spinner');\n",
              "      quickchartButtonEl.classList.add('colab-df-quickchart-complete');\n",
              "    }\n",
              "    (() => {\n",
              "      let quickchartButtonEl =\n",
              "        document.querySelector('#df-45ea4a63-f9ed-4cb5-be29-38881ab0bd8a button');\n",
              "      quickchartButtonEl.style.display =\n",
              "        google.colab.kernel.accessAllowed ? 'block' : 'none';\n",
              "    })();\n",
              "  </script>\n",
              "</div>\n",
              "\n",
              "    </div>\n",
              "  </div>\n"
            ],
            "application/vnd.google.colaboratory.intrinsic+json": {
              "type": "dataframe",
              "variable_name": "df",
              "summary": "{\n  \"name\": \"df\",\n  \"rows\": 100,\n  \"fields\": [\n    {\n      \"column\": \"show_id\",\n      \"properties\": {\n        \"dtype\": \"string\",\n        \"num_unique_values\": 100,\n        \"samples\": [\n          \"s84\",\n          \"s54\",\n          \"s71\"\n        ],\n        \"semantic_type\": \"\",\n        \"description\": \"\"\n      }\n    },\n    {\n      \"column\": \"type\",\n      \"properties\": {\n        \"dtype\": \"category\",\n        \"num_unique_values\": 2,\n        \"samples\": [\n          \"TV Show\",\n          \"Movie\"\n        ],\n        \"semantic_type\": \"\",\n        \"description\": \"\"\n      }\n    },\n    {\n      \"column\": \"title\",\n      \"properties\": {\n        \"dtype\": \"string\",\n        \"num_unique_values\": 100,\n        \"samples\": [\n          \"Metal Shop Masters\",\n          \"InuYasha the Movie 4: Fire on the Mystic Island\"\n        ],\n        \"semantic_type\": \"\",\n        \"description\": \"\"\n      }\n    },\n    {\n      \"column\": \"director\",\n      \"properties\": {\n        \"dtype\": \"string\",\n        \"num_unique_values\": 55,\n        \"samples\": [\n          \"Antoine Fuqua\",\n          \"Andy Devonshire\"\n        ],\n        \"semantic_type\": \"\",\n        \"description\": \"\"\n      }\n    },\n    {\n      \"column\": \"cast\",\n      \"properties\": {\n        \"dtype\": \"string\",\n        \"num_unique_values\": 88,\n        \"samples\": [\n          \"Jeon Hae-ri, Kim Eun-ah, Hong Bum-ki, Nam Do-hyeong, Um Sang-hyun\",\n          \"Ama Qamata, Khosi Ngema, Gail Mabalane, Thabang Molaba, Dillon Windvogel, Natasha Thahane, Arno Greeff, Xolile Tshabalala, Getmore Sithole, Cindy Mahlangu, Ryle De Morny, Greteli Fincham, Sello Maake Ka-Ncube, Odwa Gwanya, Mekaila Mathys, Sandi Schultz, Duane Williams, Shamilla Miller, Patrick Mofokeng\"\n        ],\n        \"semantic_type\": \"\",\n        \"description\": \"\"\n      }\n    },\n    {\n      \"column\": \"country\",\n      \"properties\": {\n        \"dtype\": \"category\",\n        \"num_unique_values\": 21,\n        \"samples\": [\n          \"United States\",\n          \"Belgium\"\n        ],\n        \"semantic_type\": \"\",\n        \"description\": \"\"\n      }\n    },\n    {\n      \"column\": \"date_added\",\n      \"properties\": {\n        \"dtype\": \"object\",\n        \"num_unique_values\": 16,\n        \"samples\": [\n          \"September 25, 2021\",\n          \"September 24, 2021\"\n        ],\n        \"semantic_type\": \"\",\n        \"description\": \"\"\n      }\n    },\n    {\n      \"column\": \"release_year\",\n      \"properties\": {\n        \"dtype\": \"number\",\n        \"std\": 10,\n        \"min\": 1975,\n        \"max\": 2021,\n        \"num_unique_values\": 29,\n        \"samples\": [\n          2015,\n          2014\n        ],\n        \"semantic_type\": \"\",\n        \"description\": \"\"\n      }\n    },\n    {\n      \"column\": \"rating\",\n      \"properties\": {\n        \"dtype\": \"category\",\n        \"num_unique_values\": 9,\n        \"samples\": [\n          \"R\",\n          \"TV-MA\"\n        ],\n        \"semantic_type\": \"\",\n        \"description\": \"\"\n      }\n    },\n    {\n      \"column\": \"duration\",\n      \"properties\": {\n        \"dtype\": \"category\",\n        \"num_unique_values\": 46,\n        \"samples\": [\n          \"113 min\",\n          \"116 min\"\n        ],\n        \"semantic_type\": \"\",\n        \"description\": \"\"\n      }\n    },\n    {\n      \"column\": \"listed_in\",\n      \"properties\": {\n        \"dtype\": \"string\",\n        \"num_unique_values\": 61,\n        \"samples\": [\n          \"Documentaries\",\n          \"TV Dramas, TV Horror, TV Mysteries\"\n        ],\n        \"semantic_type\": \"\",\n        \"description\": \"\"\n      }\n    },\n    {\n      \"column\": \"description\",\n      \"properties\": {\n        \"dtype\": \"string\",\n        \"num_unique_values\": 99,\n        \"samples\": [\n          \"Exuberant ninja Naruto teams up with his pals Sakura and Kakashi to escort Prince Michiru and his son, Hikaru, to the Crescent Moon kingdom.\",\n          \"Mighty teen Adam and his heroic squad of misfits discover the legendary power of Grayskull \\u2014 and their destiny to defend Eternia from sinister Skeletor.\"\n        ],\n        \"semantic_type\": \"\",\n        \"description\": \"\"\n      }\n    }\n  ]\n}"
            }
          },
          "metadata": {},
          "execution_count": 43
        }
      ]
    },
    {
      "cell_type": "markdown",
      "metadata": {
        "id": "2H7rorG9Ivur"
      },
      "source": [
        "In this next step you will:\n",
        "\n",
        "1. Create the table into store data\n",
        "2. And insert the data from the CSV into the database table"
      ]
    },
    {
      "cell_type": "code",
      "execution_count": null,
      "metadata": {
        "id": "qCsM2KXbdYiv"
      },
      "outputs": [],
      "source": [
        "import pandas as pd\n",
        "#netflix_titles - Table name\n",
        "create_table_cmd = sqlalchemy.text(\n",
        "    \"\"\"\n",
        "    CREATE TABLE netflix_titles (\n",
        "        show_id VARCHAR,\n",
        "        type VARCHAR,\n",
        "        title VARCHAR,\n",
        "        director VARCHAR,\n",
        "        \"cast\" VARCHAR,\n",
        "        country VARCHAR,\n",
        "        date_added VARCHAR,\n",
        "        release_year INTEGER,\n",
        "        rating VARCHAR,\n",
        "        duration VARCHAR,\n",
        "        listed_in VARCHAR,\n",
        "        description TEXT\n",
        "    )\n",
        "    \"\"\"\n",
        ")\n",
        "\n",
        "insert_data_cmd = sqlalchemy.text(\n",
        "    \"\"\"\n",
        "    INSERT INTO netflix_titles (\n",
        "        show_id, type, title, director, \"cast\", country, date_added,\n",
        "        release_year, rating, duration, listed_in, description\n",
        "    )\n",
        "    VALUES (\n",
        "        :show_id, :type, :title, :director, :cast, :country, :date_added,\n",
        "        :release_year, :rating, :duration, :listed_in, :description\n",
        "    )\n",
        "    \"\"\"\n",
        ")\n",
        "parameter_map = [\n",
        "    {\n",
        "        \"show_id\": row[\"show_id\"],\n",
        "        \"type\": row[\"type\"],\n",
        "        \"title\": row[\"title\"],\n",
        "        \"director\": row[\"director\"],\n",
        "        \"cast\": row[\"cast\"],\n",
        "        \"country\": row[\"country\"],\n",
        "        \"date_added\": row[\"date_added\"],\n",
        "        \"release_year\": row[\"release_year\"],\n",
        "        \"rating\": row[\"rating\"],\n",
        "        \"duration\": row[\"duration\"],\n",
        "        \"listed_in\": row[\"listed_in\"],\n",
        "        \"description\": row[\"description\"],\n",
        "    }\n",
        "    for index, row in df.iterrows()\n",
        "]\n",
        "\n",
        "with pool.connect() as db_conn:\n",
        "    db_conn.execute(create_table_cmd)\n",
        "    db_conn.execute(\n",
        "        insert_data_cmd,\n",
        "        parameter_map,\n",
        "    )\n",
        "    db_conn.commit()\n",
        "connector.close()"
      ]
    },
    {
      "cell_type": "markdown",
      "metadata": {
        "id": "SsGS80H04bDN"
      },
      "source": [
        "## Use case 1: AlloyDB for Postgres as a document loader\n",
        "\n",
        "---\n",
        "\n",
        "\n",
        "\n",
        "Now that you have data in your database, you are ready to use AlloyDB for PostgreSQL as a document loader. This means you will pull data from the database and load it into memory as documents. These documents can be used to create a vector store."
      ]
    },
    {
      "cell_type": "markdown",
      "metadata": {
        "id": "-CQgPON8dwSK"
      },
      "source": [
        "First, create a connection to your AlloyDB for PostgreSQL instance using the `AlloyDBEngine` class."
      ]
    },
    {
      "cell_type": "code",
      "execution_count": 8,
      "metadata": {
        "id": "zrwTsWHMkQ_v"
      },
      "outputs": [],
      "source": [
        "from langchain_google_alloydb_pg import AlloyDBEngine, Column, AlloyDBLoader\n",
        "\n",
        "engine = AlloyDBEngine.from_instance(\n",
        "    project_id=project_id,\n",
        "    instance=instance_name,\n",
        "    region=region,\n",
        "    cluster=cluster_name,\n",
        "    database=database_name,\n",
        "    user=\"postgres\",\n",
        "    password=password,\n",
        ")"
      ]
    },
    {
      "cell_type": "markdown",
      "metadata": {
        "id": "8s-C0P-Oee69"
      },
      "source": [
        "The `AlloyDBLoader` requires an `AlloyDBEngine` object to define the database connection and a `query` to define which data is to be retrieved. The `content_columns` argument can be used to define the columns that will be used as \"content\" in the document object we will later construct. The rest of the columns in that table will become the \"metadata\" associated with the documents."
      ]
    },
    {
      "cell_type": "code",
      "execution_count": 9,
      "metadata": {
        "id": "2SdFJT6Vece1"
      },
      "outputs": [],
      "source": [
        "table_name = \"netflix_titles\"\n",
        "content_columns = [\"title\", \"director\", \"cast\", \"description\"]\n",
        "loader = await AlloyDBLoader.create(\n",
        "    engine=engine,\n",
        "    query=f\"SELECT * FROM {table_name};\",\n",
        "    content_columns=content_columns,\n",
        ")"
      ]
    },
    {
      "cell_type": "markdown",
      "metadata": {
        "id": "dsL-KFrmfuS1"
      },
      "source": [
        "Use method `aload()` to pull documents from out database. You can see the first 5 documents from the database here."
      ]
    },
    {
      "cell_type": "code",
      "execution_count": 11,
      "metadata": {
        "colab": {
          "base_uri": "https://localhost:8080/"
        },
        "id": "t4zTx-HLfwmW",
        "outputId": "cb25d402-2457-479e-c240-ba00cbb2e14f"
      },
      "outputs": [
        {
          "output_type": "stream",
          "name": "stdout",
          "text": [
            "Loaded 100 from the database. 5 Examples:\n",
            "page_content='Dick Johnson Is Dead Kirsten Johnson nan As her father nears the end of his life, filmmaker Kirsten Johnson stages his death in inventive and comical ways to help them both face the inevitable.' metadata={'show_id': 's1', 'type': 'Movie', 'country': 'United States', 'date_added': 'September 25, 2021', 'release_year': 2020, 'rating': 'PG-13', 'duration': '90 min', 'listed_in': 'Documentaries'}\n",
            "page_content='Blood & Water nan Ama Qamata, Khosi Ngema, Gail Mabalane, Thabang Molaba, Dillon Windvogel, Natasha Thahane, Arno Greeff, Xolile Tshabalala, Getmore Sithole, Cindy Mahlangu, Ryle De Morny, Greteli Fincham, Sello Maake Ka-Ncube, Odwa Gwanya, Mekaila Mathys, Sandi Schultz, Duane Williams, Shamilla Miller, Patrick Mofokeng After crossing paths at a party, a Cape Town teen sets out to prove whether a private-school swimming star is her sister who was abducted at birth.' metadata={'show_id': 's2', 'type': 'TV Show', 'country': 'South Africa', 'date_added': 'September 24, 2021', 'release_year': 2021, 'rating': 'TV-MA', 'duration': '2 Seasons', 'listed_in': 'International TV Shows, TV Dramas, TV Mysteries'}\n",
            "page_content='Ganglands Julien Leclercq Sami Bouajila, Tracy Gotoas, Samuel Jouy, Nabiha Akkari, Sofia Lesaffre, Salim Kechiouche, Noureddine Farihi, Geert Van Rampelberg, Bakary Diombera To protect his family from a powerful drug lord, skilled thief Mehdi and his expert team of robbers are pulled into a violent and deadly turf war.' metadata={'show_id': 's3', 'type': 'TV Show', 'country': 'nan', 'date_added': 'September 24, 2021', 'release_year': 2021, 'rating': 'TV-MA', 'duration': '1 Season', 'listed_in': 'Crime TV Shows, International TV Shows, TV Action & Adventure'}\n"
          ]
        }
      ],
      "source": [
        "documents = await loader.aload()\n",
        "print(f\"Loaded {len(documents)} from the database. 5 Examples:\")\n",
        "for doc in documents[:3]:\n",
        "    print(doc)"
      ]
    },
    {
      "cell_type": "markdown",
      "metadata": {
        "id": "xim017o8-mRm"
      },
      "source": [
        "Nice, you just used AlloyDB for Postgres as a document loader!"
      ]
    },
    {
      "cell_type": "markdown",
      "source": [
        "# Dynamic Embedding\n",
        "\n",
        "AlloyDB offers dynamic embedding by integrating with Vertex AI. It generates and stores vector embeddings directly within the database using SQL functions. This simplifies AI applications by enabling real-time embedding generation and querying alongside transactional data.\n",
        "\n",
        "SQL Code to generate Embedding\n",
        "```\n",
        "ALTER TABLE netflix_titles ADD COLUMN IF NOT EXISTS embedding REAL[768];\n",
        "\n",
        "UPDATE \"netflix_titles\"\n",
        "SET embedding = embedding('text-embedding-005', CONCAT(title, ' ', description));\n",
        "\n",
        "```\n",
        "\n",
        "Note: If pgvector is Not Installed, Enable It:\n",
        "`CREATE EXTENSION IF NOT EXISTS vector;`"
      ],
      "metadata": {
        "id": "fNw-L3NxY0kt"
      }
    },
    {
      "cell_type": "markdown",
      "source": [
        "## Add AlloyDB extensions\n",
        "Enable an extension by connecting to a database in an AlloyDB cluster's primary instance, then running a CREATE EXTENSION command. More details can be found [here](https://cloud.google.com/alloydb/docs/reference/extensions#enable)\n",
        "\n",
        "\n",
        "\n",
        "It has some inbuild function to generate dynamic embedding."
      ],
      "metadata": {
        "id": "hMLWagK1ckuW"
      }
    },
    {
      "cell_type": "code",
      "source": [
        "# Add extensions\n",
        "google_ml_integration_cmd = sqlalchemy.text(\n",
        "    \"CREATE EXTENSION IF NOT EXISTS google_ml_integration CASCADE\"\n",
        ")\n",
        "vector_cmd = sqlalchemy.text(\"CREATE EXTENSION IF NOT EXISTS vector\")\n",
        "\n",
        "# Execute the queries\n",
        "with pool.connect() as db_conn:\n",
        "    db_conn.execute(google_ml_integration_cmd)\n",
        "    db_conn.execute(vector_cmd)\n",
        "    db_conn.commit()\n",
        "connector.close()\n"
      ],
      "metadata": {
        "id": "a0v149L1ammt"
      },
      "execution_count": 13,
      "outputs": []
    },
    {
      "cell_type": "markdown",
      "source": [
        "## Create a column that stores text embeddings and an Index using AlloyDB\n",
        "\n",
        "\n",
        "*   The Vertex AI text-embeddings API lets you create a text embedding using Generative AI on Vertex AI. Text embeddings are numerical representations of text that capture relationships between words and phrases.\n",
        "\n",
        "*   IVFFlat is a type of vector index for approximate nearest neighbor search. It is a frequently used index type that can improve performance when querying highly-dimensional vectors, like those representing embeddings.\n",
        "\n",
        "\n",
        "\n",
        "\n",
        "\n",
        "\n",
        "\n",
        "\n"
      ],
      "metadata": {
        "id": "87pgp251dovc"
      }
    },
    {
      "cell_type": "code",
      "source": [
        "embedding_column = \"embedding\"\n",
        "distance_function = \"vector_cosine_ops\"\n",
        "TABLE_NAME = 'netflix_titles'\n",
        "EMBEDDING_MODEL = 'text-embedding-005'\n",
        "DIMENSIONS = 768\n",
        "\n",
        "# Add column to store embeddings\n",
        "add_column_cmd = sqlalchemy.text(\n",
        "    f\"ALTER TABLE {TABLE_NAME} ADD COLUMN {embedding_column} vector({DIMENSIONS});\"\n",
        ")\n",
        "\n",
        "# Generate embeddings for `title` and `description` columns of the dataset\n",
        "embedding_cmd = sqlalchemy.text(\n",
        "    f\"UPDATE {TABLE_NAME} SET {embedding_column} = embedding('{EMBEDDING_MODEL}', title || ' ' || description);\"\n",
        ")\n",
        "\n",
        "# Create an IVFFlat index on the table with embedding column and cosine distance\n",
        "index_cmd = sqlalchemy.text(\n",
        "    f\"CREATE INDEX ON {TABLE_NAME} USING ivfflat ({embedding_column} {distance_function})\"\n",
        ")"
      ],
      "metadata": {
        "id": "gMalJiJaYvqE"
      },
      "execution_count": 14,
      "outputs": []
    },
    {
      "cell_type": "code",
      "source": [
        "# Execute the queries\n",
        "with pool.connect() as db_conn:\n",
        "    try:\n",
        "        db_conn.execute(add_column_cmd)\n",
        "    except:\n",
        "        print(f\"Column {embedding_column} already exists\")\n",
        "    print(\"Creating Embeddings...\")\n",
        "    db_conn.execute(embedding_cmd)\n",
        "    print(\"Creating Index...\")\n",
        "    db_conn.execute(index_cmd)\n",
        "    print(\"Committing...\")\n",
        "    db_conn.commit()\n",
        "    print(\"Done\")\n",
        "connector.close()\n"
      ],
      "metadata": {
        "colab": {
          "base_uri": "https://localhost:8080/"
        },
        "id": "cm4LCLTMe7Io",
        "outputId": "469e4e8e-eb9d-423f-b272-fb1047137882"
      },
      "execution_count": 15,
      "outputs": [
        {
          "output_type": "stream",
          "name": "stdout",
          "text": [
            "Creating Embeddings...\n",
            "Creating Index...\n",
            "Committing...\n",
            "Done\n"
          ]
        }
      ]
    },
    {
      "cell_type": "markdown",
      "source": [
        "Note : Above operation takes 12 minutes to generate dynamic embedding for 100 Row"
      ],
      "metadata": {
        "id": "uCyr8trTjFgQ"
      }
    },
    {
      "cell_type": "markdown",
      "metadata": {
        "id": "z9uLV3bs4noo"
      },
      "source": [
        "## Use case 2: AlloyDB for PostgreSQL as Vector Store"
      ]
    },
    {
      "cell_type": "markdown",
      "metadata": {
        "id": "jfH8oQJ945Ko"
      },
      "source": [
        "### Create Your Vector Store table\n",
        "\n",
        "Create a vector store table that can preserve the Document's metadata by using the method `init_vectorstore_table` and defining specific metadata columns. The vector size is required. The example shows the vector size, `768`, that corresponds with the length of the vectors computed by the model our embeddings service uses, Vertex AI's `textembedding-gecko`."
      ]
    },
    {
      "cell_type": "code",
      "execution_count": 62,
      "metadata": {
        "id": "e_rmjywG47pv"
      },
      "outputs": [],
      "source": [
        "from langchain_google_alloydb_pg import AlloyDBEngine, Column\n",
        "\n",
        "sample_vector_table_name = \"movie_vector_table_samples\"\n",
        "\n",
        "engine = AlloyDBEngine.from_instance(\n",
        "    project_id=project_id,\n",
        "    instance=instance_name,\n",
        "    region=region,\n",
        "    cluster=cluster_name,\n",
        "    database=database_name,\n",
        "    user=\"postgres\",\n",
        "    password=password,\n",
        ")\n",
        "\n",
        "engine.init_vectorstore_table(\n",
        "    sample_vector_table_name,\n",
        "    vector_size=768,\n",
        "    metadata_columns=[\n",
        "        Column(\"show_id\", \"VARCHAR\", nullable=True),\n",
        "        Column(\"type\", \"VARCHAR\", nullable=True),\n",
        "        Column(\"country\", \"VARCHAR\", nullable=True),\n",
        "        Column(\"date_added\", \"VARCHAR\", nullable=True),\n",
        "        Column(\"release_year\", \"INTEGER\", nullable=True),\n",
        "        Column(\"rating\", \"VARCHAR\", nullable=True),\n",
        "        Column(\"duration\", \"VARCHAR\", nullable=True),\n",
        "        Column(\"listed_in\", \"VARCHAR\", nullable=True),\n",
        "    ],\n",
        "    overwrite_existing=True,  # Enabling this will recreate the table if exists.\n",
        ")"
      ]
    },
    {
      "cell_type": "markdown",
      "metadata": {
        "id": "KG6rwEuJLNIo"
      },
      "source": [
        "### Try inserting the documents into the vector table\n",
        "\n",
        "Next, you will create a `AlloyDBVectorStore` object that connects to the new AlloyDB database table to store the data from the documents. Note that for each row, the embedding service will be called to compute the embeddings to store in the vector table."
      ]
    },
    {
      "cell_type": "code",
      "execution_count": 63,
      "metadata": {
        "id": "Wo4-7EYCIFF9"
      },
      "outputs": [],
      "source": [
        "from langchain_google_vertexai import VertexAIEmbeddings\n",
        "from langchain_google_alloydb_pg import AlloyDBVectorStore, AlloyDBEngine\n",
        "\n",
        "# Initialize the embedding service. In this case we are using version 003 of Vertex AI's textembedding-gecko model. In general, it is good practice to specify the model version used.\n",
        "embeddings_service = VertexAIEmbeddings(\n",
        "    model_name=\"textembedding-gecko@003\", project=project_id\n",
        ")\n",
        "\n",
        "engine = AlloyDBEngine.from_instance(\n",
        "    project_id=project_id,\n",
        "    instance=instance_name,\n",
        "    region=region,\n",
        "    cluster=cluster_name,\n",
        "    database=database_name,\n",
        "    user=\"postgres\",\n",
        "    password=password,\n",
        ")\n",
        "\n",
        "vector_store = AlloyDBVectorStore.create_sync(\n",
        "    engine=engine,\n",
        "    embedding_service=embeddings_service,\n",
        "    table_name=sample_vector_table_name,\n",
        "    metadata_columns=[\n",
        "        \"show_id\",\n",
        "        \"type\",\n",
        "        \"country\",\n",
        "        \"date_added\",\n",
        "        \"release_year\",\n",
        "        \"duration\",\n",
        "        \"listed_in\",\n",
        "    ],\n",
        ")"
      ]
    },
    {
      "cell_type": "code",
      "execution_count": 69,
      "metadata": {
        "colab": {
          "base_uri": "https://localhost:8080/"
        },
        "id": "CTks8Cy--93B",
        "outputId": "b75c959d-5407-4c15-a2f5-96da8e502652"
      },
      "outputs": [
        {
          "output_type": "execute_result",
          "data": {
            "text/plain": [
              "['2957f128-0d35-4f19-957d-ea8c52ccbf66',\n",
              " 'dbb3cf6b-5bd3-4f22-ad19-d329c801bc55']"
            ]
          },
          "metadata": {},
          "execution_count": 69
        }
      ],
      "source": [
        "import uuid\n",
        "\n",
        "documents = [\n",
        "    \"A thrilling sci-fi movie about space exploration.\",\n",
        "    \"A heartwarming animated movie about friendship.\",\n",
        "]\n",
        "\n",
        "metadata_list = [\n",
        "    {\n",
        "        \"show_id\": \"S12345\",\n",
        "        \"type\": \"Movie\",\n",
        "        \"country\": \"USA\",\n",
        "        \"date_added\": \"2024-01-01\",\n",
        "        \"release_year\": 2024,\n",
        "        \"duration\": \"120 min\",\n",
        "        \"listed_in\": \"Sci-Fi, Adventure\",\n",
        "    },\n",
        "    {\n",
        "        \"show_id\": \"S67890\",\n",
        "        \"type\": \"Movie\",\n",
        "        \"country\": \"Japan\",\n",
        "        \"date_added\": \"2023-12-15\",\n",
        "        \"release_year\": 2023,\n",
        "        \"duration\": \"95 min\",\n",
        "        \"listed_in\": \"Animation, Family\",\n",
        "    },\n",
        "]\n",
        "\n",
        "# Add documents and metadata to the vector store\n",
        "vector_store.add_texts(texts=documents, metadatas=metadata_list)\n"
      ]
    },
    {
      "cell_type": "code",
      "source": [
        "documents"
      ],
      "metadata": {
        "colab": {
          "base_uri": "https://localhost:8080/"
        },
        "id": "kHtYT5pkkXo7",
        "outputId": "231a6059-370c-471f-df64-901dd1510a1b"
      },
      "execution_count": 70,
      "outputs": [
        {
          "output_type": "execute_result",
          "data": {
            "text/plain": [
              "['A thrilling sci-fi movie about space exploration.',\n",
              " 'A heartwarming animated movie about friendship.']"
            ]
          },
          "metadata": {},
          "execution_count": 70
        }
      ]
    },
    {
      "cell_type": "code",
      "execution_count": 71,
      "metadata": {
        "colab": {
          "base_uri": "https://localhost:8080/"
        },
        "id": "umWtAjKJWY2d",
        "outputId": "f89ac4b4-367d-4add-aaaf-7db61dfa3578"
      },
      "outputs": [
        {
          "output_type": "execute_result",
          "data": {
            "text/plain": [
              "[Document(metadata={'show_id': 's1', 'type': 'Movie', 'country': 'United States', 'date_added': 'September 25, 2021', 'release_year': 2020, 'rating': 'PG-13', 'duration': '90 min', 'listed_in': 'Documentaries', 'embedding': '[-0.004203691,-0.0522748,0.053111978,-0.06233685,-0.06383984,-0.012258549,-0.060575012,0.036819942,-0.0360946,0.0018859965,-0.055891532,-0.05410877,0.0090647675,0.0104157,0.03125829,0.033553302,0.061723195,0.0007366105,-0.0030712744,0.03205989,-0.0552013,0.02458303,-0.11431108,-0.013487507,-0.05384036,-0.012834116,-0.036666915,-0.036913544,-0.0700355,0.014545764,-0.03461659,-0.05850396,0.019448737,0.043721817,-0.013609842,-0.056682914,0.009547337,-0.0070536193,0.003728365,0.028558016,0.055300128,-0.03481673,-0.12696654,0.02380002,0.09340053,0.031850036,0.0036757567,0.009705883,-0.018829778,-0.007953416,0.033455368,-0.023983445,-0.026957931,0.05083889,-0.06415244,0.06097825,0.024815412,-0.010456954,-0.054882232,0.014084277,-0.037316293,-0.068028525,-0.0031725566,0.07063094,-0.0713533,0.05408857,0.066686735,0.1041334,0.05568117,-0.01788727,-0.035019938,-0.024687532,-0.061161987,0.025090493,0.03430403,0.016733464,-0.023983251,0.011391145,0.032425124,0.013315319,-0.01728977,0.04029487,-0.020286158,-0.022867719,-0.0070323152,-0.04565942,0.071034946,-0.025288828,-0.0133475885,-0.025672667,1.7044116e-05,-0.058019236,-0.06256429,0.008276092,-0.021420566,0.0075089918,0.012297586,0.014021535,-0.016007703,0.050215,0.012998746,-0.017585644,0.00042273838,-0.101621464,-0.013260509,0.031527873,-0.059849437,-0.005104531,0.057300393,0.01773088,-0.028943837,-0.07551855,-0.022858312,-0.027738938,0.044821795,-0.025177715,-0.031572487,-0.016206011,-0.0473779,-0.071167104,-0.028284969,0.026497953,0.044825926,-0.031703465,0.04407647,0.0563434,-0.057933424,-0.0684276,-0.017386597,-0.0021068782,0.004221596,0.025090272,-0.022168227,-0.028768105,0.022663178,-0.049227517,-0.007646633,0.001721753,-0.0010073236,0.031218039,-0.021688579,-0.02152381,0.013985341,0.05389683,-0.010178409,0.020678673,-0.040509745,0.03726658,0.028080413,0.0003112031,0.052180104,0.047142703,-0.06689963,0.032151707,0.034036208,-0.0057107317,0.0021058228,-0.009500068,-0.02775481,-0.00099725,-0.01794036,-0.0054506226,-0.016622143,0.019539062,-0.023049966,0.06441376,0.09144614,-0.05481806,-0.048677564,0.0063102404,-0.025900336,0.021906327,-0.04125654,-0.015596473,0.013052077,-0.009471589,-0.015989732,-0.0050489856,0.006330906,-0.04909785,-0.07579955,-0.06864152,0.03827561,0.013520284,-0.07162573,-0.0009891462,-0.0851037,0.013247561,-0.026360784,0.06110499,-0.04696589,0.0073944964,0.014951429,0.02886554,-0.0068777446,-0.033845995,-0.074479744,-0.05931,0.025956886,0.03091393,-0.0031396195,-0.0049422267,0.06892562,-0.00060419174,-0.013107977,0.0024558362,0.05319528,-0.046956114,0.0061755264,-0.047219276,-0.0031194768,0.058083408,-0.051715005,-0.04481781,0.014783513,-0.053143285,-0.011354743,0.021105658,0.048174135,0.054524172,0.0009580011,0.017877089,-0.110748656,-0.001182346,0.03623992,0.020984149,0.03689395,0.015909366,-0.04083369,0.0031589614,0.019091561,0.007398941,0.03354462,-0.005117465,-0.025527459,0.07884019,-0.010202904,-0.0015359679,-0.03678527,0.044165105,-0.04370023,0.006478565,-0.08121067,-0.0028333198,0.006637464,-0.09533194,-0.06368172,0.0027996295,-0.044266194,-0.013478318,-0.0058635306,-0.021761883,0.02387699,0.038011733,0.008804601,-0.03007258,-0.06926424,-0.0035180617,-0.0040578153,0.05246649,0.034386426,-0.008917125,0.013925752,0.012328002,-0.028131912,0.019001381,-0.034633923,-0.031780377,0.02321791,-0.04489422,-0.030411068,0.00901442,0.04490338,0.015192445,0.02605822,0.00502352,-0.0020287891,0.05238791,0.003801439,-0.027718911,0.00033192107,0.0055091376,0.011684741,0.06573828,0.024188539,-0.0023896776,-0.025240391,0.063848995,-0.005393189,-0.0080445185,-0.031188758,-0.01895846,0.026604356,-0.005286774,0.005217066,0.0131644355,-0.0075217173,-0.02227798,-0.006479834,-0.009311186,0.02800925,0.0032911613,-0.017117228,-0.011321721,-0.032903887,-0.055908952,-0.009578894,0.0069599645,-0.0010438269,0.03685213,0.023711907,-0.10969938,-0.00048418777,0.040293116,0.006909956,0.04739117,0.0013854137,-0.000317,0.0035157516,0.002059462,0.037933353,-0.0066764895,0.054688398,-0.042170335,-0.019598568,-0.016320955,0.0022247995,0.034916554,0.009535067,-0.05792206,0.03374377,0.006247699,0.013164621,-0.0023470654,-0.08385606,0.037172366,-0.028618813,0.033450723,0.008106471,0.036718693,0.040933076,0.0092823915,-0.046819188,-0.03568615,-0.054344185,-0.022827616,-0.045437545,-0.03436127,-0.045929205,0.015022023,0.008561038,0.00011352464,0.0114287995,-0.018227438,-0.04218064,-0.050887764,-0.028096879,0.0111158835,-0.0089052105,-0.02505335,-0.010825938,0.023159845,-0.010328549,-0.007792383,-0.016398808,0.050641052,-0.043641787,0.012081255,-0.016264156,0.00028434474,-0.024036612,-0.011783331,-0.018999515,-0.0032339117,-0.033156425,-0.065607935,-0.016723251,-0.039847158,0.0076888027,-0.046052985,-0.0012045967,-0.014945136,0.000121204,-0.04677124,0.0371535,-0.008993445,0.031445332,0.014429787,-0.031112432,-0.0135999685,-0.074356936,0.07160651,0.013770061,0.023191001,-0.023313025,-0.020112079,-0.03177206,0.035866734,-0.02602511,-0.024422565,0.00498385,-0.004820307,0.030428825,-0.06009596,-0.020373201,-0.0116212545,-0.0013075734,0.0012909822,0.01913976,-0.014867114,-0.0636372,0.02730724,0.014260789,0.016259255,0.0132609205,-0.0021031457,0.04498491,-0.03605387,0.00620812,0.015819507,-0.02062898,0.06317469,0.018843103,0.008870899,-0.044914246,0.061424766,0.021955855,-0.018188324,0.07919025,-0.011771289,-0.042852953,0.031940542,0.0063775172,-0.042977527,-0.009327387,-0.020563515,-0.043519624,0.025889099,-0.0094070835,-0.012098874,-0.050892424,0.055889215,0.0035514496,0.0029892684,-0.013533884,-0.05314495,0.034684684,-0.04522661,0.03774761,0.035027757,0.048005894,0.029818805,0.04324422,0.054154884,0.026498817,-0.029083133,-0.010502019,-0.0116357915,-0.0102245025,-0.0057953033,0.041001454,-0.033935286,-0.0118980445,0.04373415,0.051277846,0.0070320736,0.018405389,-0.060440093,-0.0035315936,0.038057882,0.02795537,-0.02916579,-0.016970975,-0.015906371,-0.053923447,-0.009582415,0.018408552,-0.062385134,-0.034156546,0.030717593,-0.005819079,0.031845056,0.0020710875,-0.070432946,-0.02175687,0.05649646,-0.05121286,-0.03736013,0.025216294,-0.03803185,-0.060776953,0.020314882,0.006142088,-0.062406432,0.011593879,-0.029199962,-0.02063637,-0.0117824515,0.010520297,-0.03694362,-0.039644867,0.0390992,-0.028454112,-0.040234406,-0.05744244,-0.018771293,-0.02953349,0.02670271,0.012871925,-0.02146295,-0.0038303316,-0.020024486,-0.036074262,-0.032303683,0.052460562,0.02324709,0.017308887,-0.052223153,0.02212533,0.043729726,-0.03837348,-0.0038064173,-0.018909503,-0.038122945,0.011645982,0.03782265,-0.019601464,-0.020649312,0.03334549,0.04024204,-0.016626457,-0.014595478,-0.06371225,-0.04066135,0.046139896,-0.010759127,-0.017011499,0.030210378,0.040558595,0.036907118,0.062190965,-0.022606386,0.031511232,0.04326656,0.005195426,0.012485709,0.0022311145,-0.07266385,-0.016122358,-0.037737206,-0.02229186,0.04816288,-0.010807923,0.0094386,-0.03415684,0.013323377,0.018864054,-0.055521898,-0.042870626,0.01533419,0.0014584365,-0.02245084,-0.045176078,-0.033101693,-0.0036761847,0.0052257455,-0.0105686365,0.03559608,0.006903121,-0.035690445,-0.051737737,-0.006728518,0.017719321,-0.022417175,0.04336399,-0.0759969,-0.04909837,0.05913252,-0.027052725,0.034096505,-0.013478732,-0.033179216,-0.01849495,-0.018398944,-0.067076914,0.015987711,-0.034742467,-0.02033879,0.029593429,-0.06095919,-0.006213965,-0.018842245,0.020372812,-0.053214908,-0.026399551,-0.067009695,-0.015553722,0.005122194,0.023765206,-0.07020584,0.023341425,0.009306571,-0.03096474,0.01251968,0.031366438,-0.021054346,0.06286068,-0.020455236,-0.01084678,0.04287955,-0.014297314,-0.0006363,0.0041571204,-0.006360198,0.004937429,-0.018118305,0.031873316,0.042857014,-0.03900673,0.036146898,-0.00023257591,-0.018413492,-0.028668845,-0.022672912,-0.0037629926,-0.028607896,0.0105074085,-0.0020591763,-0.011771941,-0.045418605,0.010516728,-0.005462306,0.0010843867,0.014321056,-0.030755565,0.041114926,0.031983923,0.021628847,-0.01519322,0.071855046,-0.041948248,0.02278714,0.027358653,0.010228992,-0.045198243,-0.0029407863,-0.00089553563,0.017257698,-0.0045139533,-0.011549299,-0.00068044977,-0.0053169415,-0.010624437,0.020529263,-0.022308577,0.017708302,0.0320451,0.09705347,0.006979461,-0.015470077,0.019575004,0.03581151,-0.0011179898,-0.013518566,-0.010762017,-0.02415949,-0.030117355,0.015327574,-0.027553806,-0.096651435,-0.039835975,-0.020693656,-0.020600911,-0.03936772,0.061047964,0.037513096,-0.00522731,-0.08541237,-0.039711703,0.036373593,0.024599418,-0.0027717128,-0.014796265,-0.022753099,0.04150235,0.02082222,-0.0031038043,-0.033928815,0.039321978,0.010693866,-0.00948519,0.041805062,0.007871868,-0.119321324,-0.020887116,0.025709823,-0.041840114,0.00064721133,-0.010575665,0.032053493,0.014940261,0.055376362,0.033823084,0.030742742,0.020385064,0.027806427,0.008903191,0.013402261,-0.037581824,6.605901e-05,0.05555258,0.014472843,-0.03287817,-0.011609032,0.0029327567,0.016586358,0.03838918,-0.011771391,-0.037815526,0.015807353,0.11284975,-0.0031156072,0.003869037,-0.05168359,0.022813026,-0.0204611,-0.03641638,-0.015572426,0.017121166,0.022092022,0.00893633,-0.029209204,-0.020355562,0.025953645,-0.007833107,-0.055324975,-0.079222165,-0.07998126,-0.006836146,0.0018206792,-0.033561867,0.022574259,0.026307875,-0.041960333,-0.027482972,-0.035311267,-0.030724874,0.060082518,-0.0051651876,0.014849926,0.002565462,0.008130185,0.019670267,0.02694942,-0.0528015,0.044031978,-0.0049515693,-0.0068056486,0.0015485731,0.03919103,-0.024442205,-0.039534308,0.009446391,-0.02772066,-0.059759077,0.019216752,0.051918175,-0.035965975]'}, page_content='Dick Johnson Is Dead Kirsten Johnson nan As her father nears the end of his life, filmmaker Kirsten Johnson stages his death in inventive and comical ways to help them both face the inevitable.'),\n",
              " Document(metadata={'show_id': 's2', 'type': 'TV Show', 'country': 'South Africa', 'date_added': 'September 24, 2021', 'release_year': 2021, 'rating': 'TV-MA', 'duration': '2 Seasons', 'listed_in': 'International TV Shows, TV Dramas, TV Mysteries', 'embedding': '[-0.02285126,-0.05967429,-0.0082503045,-0.018707365,-0.052414414,-0.004350587,-0.019355383,0.04897788,-0.05026514,-0.038174167,-0.006360191,-0.0637699,-0.012527575,-0.035711464,-0.01947634,0.06130852,0.06720199,0.00017456073,-0.054826926,-0.02719748,0.03004783,-0.05205514,-0.062319,0.019077903,0.049126957,-0.06212992,0.006365447,-0.032243412,-0.040534314,-0.03325939,0.035343517,-0.0056845034,0.0046354095,-0.012732847,-0.044971984,-0.044905305,0.02124924,-0.056773357,0.016520467,-0.0018920451,-0.021524997,0.023715753,0.0039625242,-0.040140104,-0.0174544,-0.046505015,0.019840054,0.035838146,-0.093593165,-0.070861936,-0.007983882,0.025657307,-0.0067141475,0.0010078336,-0.020341782,0.04557049,-0.004516888,-0.035521153,-0.04574432,-0.04839482,0.035696644,-0.025171047,0.013199824,-0.0007051099,-0.010454119,-0.0032238385,0.0819747,0.08162908,0.023085305,-0.05843771,0.012816877,-0.09791134,0.033492226,0.0047950326,-0.026960695,-0.0019395232,0.009609123,0.03777479,-0.048312105,-0.030711917,0.024388997,0.07700186,-0.008781651,0.002946144,0.015423931,-0.003493453,-0.015690107,0.030256202,-0.039541148,-0.055510055,0.020173023,0.021884086,-0.020391475,0.0017526748,-0.005784555,0.029017339,0.037538666,0.08910892,-0.006689636,0.091337524,-0.0057696356,0.002365661,0.058420748,-0.044219412,0.00951986,-0.048470125,-0.02141819,0.035793234,-0.024100488,-0.037644356,-0.04318716,-0.02008132,-0.012388923,-0.059846297,-0.015431314,0.02695212,-0.02720771,-0.05247798,-0.070723355,-0.08812158,-0.027340606,-0.011091827,0.011480571,-0.03676923,0.0058813537,0.028357808,-0.028260298,-0.033781406,-0.0044145277,-0.027536506,0.046307046,-0.029892994,0.08297983,0.006757194,0.005400664,-0.0029250649,-0.0093423305,-0.057950795,0.054302666,0.0070944824,-0.024636818,-0.036782067,-0.026416278,-0.052456014,-0.048934393,-0.03840825,0.037435774,0.02628625,-0.017210273,-0.024665948,-0.016668515,0.002643314,0.009259451,0.094484404,0.036732886,0.013575063,-0.03053502,-0.007433911,0.00043998475,-0.011901615,-0.010455516,-0.008003608,-0.025367646,0.04415269,-0.015186082,0.00942427,0.06167615,-0.025104823,0.015597727,-0.042129643,0.014717246,-0.023957869,-0.057224676,-0.008940303,0.03241997,-0.001482267,-0.0207575,-0.012031528,0.04481307,-0.034705825,-0.07536036,0.027947308,0.041648146,0.04816594,-0.10995572,0.011764266,-0.01491058,0.017835919,-0.055121813,0.0055584772,0.030865414,-0.02880188,-0.009775382,-0.025889203,-0.010079102,0.020916533,0.0074216872,0.0024453516,0.007332954,0.037100196,0.018953715,0.031607818,-0.0119255185,-0.005229821,-0.050827492,0.059007563,0.039068814,-0.069103844,0.016300937,-0.06396973,0.01300784,0.015830236,0.0011035604,-0.043108445,-0.113756716,-0.08950594,-0.0017828721,-0.053461764,0.046366386,0.0069421027,-0.01126308,0.024389887,-0.069211945,0.037873667,0.016027497,-0.01560559,0.063301876,-0.0159566,-0.010304937,0.03332745,-0.015383273,-0.060414363,-0.036210593,0.029022103,0.0045710546,0.04883641,-0.008827515,-0.09046254,-0.04699132,0.029777655,0.006459766,0.02414001,-0.033094075,-0.042988718,-0.00036821218,-0.015427384,-0.03624341,0.07867386,-0.09479524,-0.051649295,-0.037005693,-0.007506655,0.0039880835,-0.004409924,0.009558995,-0.034017123,0.01009898,0.014400097,0.005568847,0.047601126,0.07571843,-0.008515999,0.041334778,-0.03782553,0.023367798,-0.052916165,-0.043322694,0.021284379,0.016933355,-0.022329485,-0.004601886,0.022963999,-0.016626008,0.1080367,0.016970117,0.018435687,-0.023304857,0.0076080244,-0.039427537,-0.015861506,-0.013368192,-0.013539762,-0.016684264,0.06386544,0.00015054733,-0.027925339,0.027904376,0.026844388,-0.006848673,0.0140386885,0.0006606371,0.0007194919,0.019907624,0.015302435,-0.017219553,0.018529532,0.027199436,-0.038451612,0.00018588926,-0.029974703,-0.01683614,-0.061252628,0.023671135,-0.0031913607,0.03187937,-0.044511512,0.044915356,-0.011374095,0.030284407,0.062269714,-0.03690718,-0.0568061,0.05716462,0.018904645,-0.04952976,-0.006216153,0.05054149,0.011872058,-0.0041566277,0.013731132,0.010672432,-0.007793015,0.051149476,-0.012218266,-0.026582714,-0.04010426,0.042824343,-0.0021431309,-0.018728606,0.011623293,0.0114423465,0.011555198,-0.035893794,-0.025086716,-0.0145531,0.059563376,0.0015946982,-0.012589966,-0.008023136,0.022341982,-0.04308904,0.0032853903,-0.039449677,0.077529,-0.053100318,0.06274497,-0.04377254,-0.036975615,0.0103540905,0.089262135,-0.017123038,0.022215309,-0.009284288,-0.07868157,0.028138572,-0.06874598,0.03200522,-0.024390394,-0.0017132196,-0.05373182,0.0026591124,0.061566584,0.018591259,-0.063549764,-0.029815093,0.031652596,-0.029119493,0.00057184213,0.03937674,0.05328323,0.0142991645,0.020524392,-0.042819,-0.057473645,-0.016822685,-0.014269345,-0.072260894,-0.013455096,-0.06772728,-0.0023798253,0.016644945,-0.023718517,-0.014700288,-0.043223307,0.013758455,0.0016176425,0.058173597,-0.012281272,-0.019398628,0.043506667,0.015631428,0.020284908,0.0064762975,-0.02885483,0.092382774,-0.003428112,0.05790554,0.06675204,-0.018816711,-0.027706867,-0.022519547,0.04907967,-0.0008683612,-0.0045667263,-0.031903367,-0.03317867,0.016539628,-0.013484083,-0.0024013433,0.020811142,0.02952997,-0.020187618,0.0020448253,0.03698049,0.041029822,-0.07116357,0.048203472,0.0018449853,-0.0043258048,-0.059393175,-0.037091702,0.04472373,-0.0108785955,0.084019326,-0.07620923,-0.03607421,0.01656152,-0.0026280247,0.059363745,0.028789245,-0.08403623,-0.010392381,0.015733853,-0.029682674,-0.0117028225,0.03900183,0.01871313,0.0035141169,0.02071678,-0.0024642013,0.00953579,-0.011130378,-0.037125766,-0.017346729,0.008275407,-0.06681564,-0.008376123,-0.020156672,0.0010722618,-0.02821759,0.032257285,0.043403838,-0.027484886,0.008038586,-0.02315847,-0.0009177891,0.02583046,-0.007659717,-0.020150078,-0.021366281,0.027550539,-0.040319435,0.02689695,0.04203465,0.044404224,0.027748901,0.03124451,-0.08682397,0.048530936,-0.0062162043,0.0008524988,0.010646387,-0.008911192,0.011356098,-0.0092490055,-0.039096747,0.010408181,-0.048784804,0.007029075,-0.008227038,-0.0009856011,0.040602095,0.023042027,-0.04389557,0.00083426276,-0.0051710093,-0.034646027,-0.045885693,-0.0051883035,0.005348966,-0.038445875,-0.0010454351,-0.012047731,-0.0623764,-0.01108846,-0.06225625,-0.035454877,0.048509452,-0.02391887,-0.024044659,-0.06305848,-0.022167694,-0.005849706,0.035559844,-0.03443215,-0.016433127,-0.0125324745,0.03483383,0.02132162,-0.039934877,-0.014658971,-0.03079668,-0.08605441,-0.018992087,0.005261355,0.023244089,0.044127796,-0.040794827,0.029858533,-0.024592927,-0.025208134,-0.036781684,0.013831106,0.026935996,-0.041145276,-0.008965057,-0.030514196,-0.018666374,0.05139341,0.034465715,-0.031933725,0.031552825,-0.0141619,-0.046124432,0.044387814,-0.038165282,0.017726328,0.041076127,-0.0013997296,0.03731835,0.03892794,-0.05088423,0.0085959695,-0.041062012,0.035541277,-0.057016104,-0.0059807845,-0.039731637,0.012542166,0.036451686,-0.021882646,0.048832297,0.0036595725,0.012242942,-0.0046085366,0.021407168,-0.0013118554,-0.0216702,0.006776779,0.00083498453,-0.017340396,-0.012089041,-0.0311519,-0.02468297,-0.06343661,0.011151654,0.0029947546,0.056976277,-0.03804213,-0.018810535,-0.04629758,-0.019071098,-0.041239817,0.028208608,0.026365476,-0.026315276,-0.0032185726,0.0073010074,0.01903161,-0.029591825,-0.0017381771,-0.007764717,0.035716426,-0.0062477114,6.273427e-06,0.027898941,-0.056132644,-0.026967939,0.011773364,0.033903535,-0.00981376,-0.021005454,0.052378103,-0.020668657,-0.0070217475,0.026340999,-0.019948652,0.057112668,-0.012626586,-0.00029001836,-0.026126869,-0.0053541264,-0.0008560125,0.027244471,-0.03176805,0.029459711,0.010011963,-0.023712624,-0.015198084,-0.044089932,0.010493482,-0.009547707,0.002388385,0.053189963,0.036648005,0.0008238178,0.013875901,-0.022820543,-0.057143822,0.02635112,4.4372548e-05,-0.02087494,-0.040557753,0.0040346086,0.008168619,0.021574987,0.10833095,-0.022325378,-0.06562088,-0.023395026,0.050921652,-0.00787366,-0.030433342,-0.013961138,0.049678933,0.030152336,0.049662784,0.027508244,0.0047466154,-0.00086137955,-0.041320138,-0.002771497,-0.052065205,-0.039857768,-0.011345021,-0.0025160871,-0.025842663,-0.0032791742,-0.060321502,-0.012720342,0.0751999,0.007864192,-0.023680238,0.029035969,0.024861053,0.0031582941,0.054192938,0.02315489,-0.00848774,-0.05309592,-0.050383914,-0.0007285064,-0.06912638,0.009915881,0.049778033,0.006807135,-0.0399848,-0.01657312,-0.027527258,-0.053487565,-0.04947282,0.014360968,0.024823412,-0.0869563,0.012265937,0.034611356,0.022646308,-0.0011229411,-0.008596724,-0.0031399368,-0.008273539,-0.009977214,0.018953884,-0.0014540717,0.0055087507,-0.014864375,0.025410566,0.04093813,-0.010413334,0.024005685,-0.009433897,0.04714641,0.015294263,-0.0908826,-0.029386356,-0.008361164,-0.008445772,-0.022571146,-0.0047246856,0.07319974,-0.011536975,-0.01012835,-0.040252533,0.0026937197,0.03406852,0.019171339,-0.0023897649,-0.044408616,-0.04253046,-0.023596754,0.009989481,-0.021710621,-0.04081494,-0.045907766,-0.0059015984,0.033023287,-0.0063295974,-0.066107824,-0.012183968,-0.030151168,0.085785516,0.01973875,0.038719144,-0.05611965,-0.008894518,-0.012799056,-0.010519064,0.026584666,-0.021393938,-0.011377814,-0.020438371,-0.012756352,0.018704591,-0.036061447,0.017587617,-0.10572975,-0.08951312,0.024009634,0.01884045,-0.015237133,0.013319128,-9.693762e-05,0.047896985,-0.046011124,0.005709242,-0.030564781,-0.010790332,0.014266522,-0.014694538,0.0066218646,-0.050041154,0.04604626,-0.011436105,-0.001364182,0.03725472,0.05508997,-0.037039947,-0.019309638,0.06765877,0.02549928,0.028024012,0.05757249,0.009174803,0.015948094,-0.011115285,-0.019105906,0.032236714,0.02152348]'}, page_content='Blood & Water nan Ama Qamata, Khosi Ngema, Gail Mabalane, Thabang Molaba, Dillon Windvogel, Natasha Thahane, Arno Greeff, Xolile Tshabalala, Getmore Sithole, Cindy Mahlangu, Ryle De Morny, Greteli Fincham, Sello Maake Ka-Ncube, Odwa Gwanya, Mekaila Mathys, Sandi Schultz, Duane Williams, Shamilla Miller, Patrick Mofokeng After crossing paths at a party, a Cape Town teen sets out to prove whether a private-school swimming star is her sister who was abducted at birth.')]"
            ]
          },
          "metadata": {},
          "execution_count": 71
        }
      ],
      "source": [
        "docs_to_load"
      ]
    },
    {
      "cell_type": "markdown",
      "metadata": {
        "id": "29iztdvfL2BN"
      },
      "source": [
        "### Import the rest of your data into your vector table\n",
        "\n",
        "You don't have to call the embedding service 8,800 times to load all the documents for the demo. Instead, we have prepared a CSV with the all 8,800+ rows with pre-computed embeddings in a CSV file. You can import the CSV using `gsutil`."
      ]
    },
    {
      "cell_type": "code",
      "execution_count": null,
      "metadata": {
        "colab": {
          "base_uri": "https://localhost:8080/"
        },
        "id": "4dE4oQiNyWdC",
        "outputId": "825e9100-7da6-4b68-ac1a-72b55a2ce5c5"
      },
      "outputs": [
        {
          "output_type": "stream",
          "name": "stdout",
          "text": [
            "Copying gs://cloud-samples-data/langchain/alloydb/netflix_titles_embeddings.csv...\n",
            "| [1 files][ 83.6 MiB/ 83.6 MiB]                                                \n",
            "Operation completed over 1 objects/83.6 MiB.                                     \n"
          ]
        }
      ],
      "source": [
        "!gsutil cp gs://cloud-samples-data/langchain/alloydb/netflix_titles_embeddings.csv ."
      ]
    },
    {
      "cell_type": "markdown",
      "metadata": {
        "id": "T1TXnKU_DznX"
      },
      "source": [
        "Use the following code to insert the pregenerated embeddings into your vector store."
      ]
    },
    {
      "cell_type": "code",
      "source": [
        "import pandas as pd\n",
        "netflix_data = \"/content/netflix_titles_embeddings.csv\"\n",
        "df = pd.read_csv(netflix_data)\n",
        "df = df.head(8)#insert 8 row of data"
      ],
      "metadata": {
        "id": "1SmVXpYiig4O"
      },
      "execution_count": null,
      "outputs": []
    },
    {
      "cell_type": "code",
      "execution_count": null,
      "metadata": {
        "id": "PDIRYfUyyVyI"
      },
      "outputs": [],
      "source": [
        "\n",
        "insert_data_cmd = sqlalchemy.text(\n",
        "    \"\"\"\n",
        "    INSERT INTO movie_vector_table_samples VALUES (:langchain_id, :content, :embedding, :show_id,\n",
        "      :type, :country, :date_added, :release_year, :rating,\n",
        "      :duration, :listed_in, :langchain_metadata)\n",
        "    \"\"\"\n",
        ")\n",
        "\n",
        "parameter_map = [\n",
        "    {\n",
        "        \"langchain_id\": row[\"langchain_id\"],\n",
        "        \"content\": row[\"content\"],\n",
        "        \"embedding\": row[\"embedding\"],\n",
        "        \"show_id\": row[\"show_id\"],\n",
        "        \"type\": row[\"type\"],\n",
        "        \"country\": row[\"country\"],\n",
        "        \"date_added\": row[\"date_added\"],\n",
        "        \"release_year\": row[\"release_year\"],\n",
        "        \"rating\": row[\"rating\"],\n",
        "        \"duration\": row[\"duration\"],\n",
        "        \"listed_in\": row[\"listed_in\"],\n",
        "        \"langchain_metadata\": row[\"langchain_metadata\"],\n",
        "    }\n",
        "    for index, row in df.iterrows()\n",
        "]\n",
        "\n",
        "with pool.connect() as db_conn:\n",
        "    db_conn.execute(\n",
        "        insert_data_cmd,\n",
        "        parameter_map,\n",
        "    )\n",
        "    db_conn.commit()\n",
        "connector.close()"
      ]
    },
    {
      "cell_type": "markdown",
      "metadata": {
        "id": "ZM_OFzZrQEPs"
      },
      "source": [
        "# Use case 3: AlloyDB for PostgreSQL as Chat Memory"
      ]
    },
    {
      "cell_type": "markdown",
      "metadata": {
        "id": "dxqIPQtjDquk"
      },
      "source": [
        "Next you will add chat history (called “memory” in the context of LangChain) to our application so the LLM can retain context and information across multiple interactions, leading to more coherent and sophisticated conversations or text generation. You can use AlloyDB for PostgreSQL as “memory” storage in our application so that the LLM can use context from prior conversations to better answer the user’s prompts."
      ]
    },
    {
      "cell_type": "code",
      "execution_count": null,
      "metadata": {
        "id": "vyYQILyoEAqg"
      },
      "outputs": [],
      "source": [
        "from langchain_google_alloydb_pg import AlloyDBChatMessageHistory, AlloyDBEngine\n",
        "from langchain_google_alloydb_pg import AlloyDBVectorStore, AlloyDBEngine\n",
        "from langchain_google_alloydb_pg import AlloyDBEngine, Column\n",
        "\n",
        "engine = AlloyDBEngine.from_instance(\n",
        "    project_id=project_id,\n",
        "    instance=instance_name,\n",
        "    region=region,\n",
        "    cluster=cluster_name,\n",
        "    database=database_name,\n",
        "    user=\"postgres\",\n",
        "    password=password,\n",
        ")\n",
        "message_table_name = \"message_store\"\n",
        "\n",
        "engine.init_chat_history_table(table_name=message_table_name)\n",
        "\n",
        "chat_history = AlloyDBChatMessageHistory.create_sync(\n",
        "    engine,\n",
        "    session_id=\"my-test-session\",\n",
        "    table_name=message_table_name,\n",
        ")"
      ]
    },
    {
      "cell_type": "markdown",
      "metadata": {
        "id": "2yuXYLTCl2K1"
      },
      "source": [
        "Here is an example of how you would add a user message and how you would add an AI message."
      ]
    },
    {
      "cell_type": "code",
      "execution_count": null,
      "metadata": {
        "colab": {
          "base_uri": "https://localhost:8080/"
        },
        "id": "qDVoTWZal0ZF",
        "outputId": "eb55e9d2-1bc0-48c9-b434-e7e5ae30a75f"
      },
      "outputs": [
        {
          "output_type": "execute_result",
          "data": {
            "text/plain": [
              "[HumanMessage(content='What movie was Brad Pitt in?', additional_kwargs={}, response_metadata={}),\n",
              " AIMessage(content='From the provided context, Brad Pitt was in the following movies:\\n\\n- Inglourious Basterds\\n- By the Sea\\n- Killing Them Softly\\n- Babel', additional_kwargs={}, response_metadata={}),\n",
              " HumanMessage(content='How about Jonny Depp?', additional_kwargs={}, response_metadata={}),\n",
              " AIMessage(content=\"From the vector search results, Johnny Depp was in the following movies:\\n\\n- Charlie and the Chocolate Factory\\n- The Rum Diary\\n- The Imaginarium of Doctor Parnassus\\n- What's Eating Gilbert Grape\", additional_kwargs={}, response_metadata={}),\n",
              " HumanMessage(content='Are there movies about animals?', additional_kwargs={}, response_metadata={}),\n",
              " AIMessage(content='Yes, there are movies about animals. Here are some examples from the vector search results:\\n\\n* **Open Season:** This movie is about a domesticated grizzly bear who finds himself unprepared for the real world after being relocated to the wild.\\n* **DreamWorks Holiday Classics:** This collection of holiday specials features animals from DreamWorks films, including Shrek and Donkey, Hiccup and Toothless, and the animals from Madagascar.\\n* **Animals on the Loose: A You vs. Wild Movie:** This interactive special features Bear Grylls helping to capture escaped animals from a sanctuary.\\n* **The Animal People:** This film tells the story of animal rights protesters trying to shut down a facility that conducts animal testing.\\n', additional_kwargs={}, response_metadata={}),\n",
              " HumanMessage(content='in which year My Little Pony was released?', additional_kwargs={}, response_metadata={}),\n",
              " AIMessage(content=\"I didn't find the answer to the year that My Little Pony was released in the previous conversation. However, I can tell you that the following My Little Pony movies were released in these years:\\n\\n* My Little Pony: Friendship Is Magic (2010)\\n* My Little Pony Friendship Is Magic: Best Gift Ever (2015)\\n* My Little Pony Equestria Girls: Rainbow Rocks (2014)\\n* Equestria Girls: Tales of Canterlot High (2012) \\n\", additional_kwargs={}, response_metadata={}),\n",
              " HumanMessage(content='what is the story of My Little Pony', additional_kwargs={}, response_metadata={}),\n",
              " AIMessage(content=\"My Little Pony: A new generation follows Sunny Starscout, an optimistic young Earth Pony who dreams of a world where ponies from different species can be friends. When she discovers an old diary about the legend of the three pony races living together in harmony, Sunny sets off on a mission to bring the races back together. Along the way, she meets Izzy Moonbow, a unicorn with a passion for arts and crafts; Pipp Petals, a pegasus with a love of singing and dancing; and Zipp Storm and Hitch Trailblazer, two earth ponies with a knack for adventure. Together, the five friends embark on a journey to discover the magic of friendship and heal Equestria's divisions. \\n\", additional_kwargs={}, response_metadata={}),\n",
              " HumanMessage(content='is Midnight Mass movie or web series', additional_kwargs={}, response_metadata={}),\n",
              " AIMessage(content=\"According to the information I found, Midnight Mass is a web series, not a movie. It was released on Netflix in 2021. It's a horror-drama miniseries created by Mike Flanagan.\", additional_kwargs={}, response_metadata={}),\n",
              " HumanMessage(content='Hi!', additional_kwargs={}, response_metadata={}),\n",
              " AIMessage(content=\"Hello there. I'm a model and am happy to help!\", additional_kwargs={}, response_metadata={})]"
            ]
          },
          "metadata": {},
          "execution_count": 9
        }
      ],
      "source": [
        "chat_history.add_user_message(\"Hi!\")\n",
        "chat_history.add_ai_message(\"Hello there. I'm a model and am happy to help!\")\n",
        "\n",
        "chat_history.messages"
      ]
    },
    {
      "cell_type": "markdown",
      "metadata": {
        "id": "k0O9mta8RQ0v"
      },
      "source": [
        "## Conversational RAG Chain backed by AlloyDB\n"
      ]
    },
    {
      "cell_type": "markdown",
      "metadata": {
        "id": "j2OxF3JoNA7J"
      },
      "source": [
        "Try using all 3 integrations with the `ConversationalRetrievalChain`.\n",
        "\n",
        "You will build a chatbot that can answer movie related questions based on the vector search results."
      ]
    },
    {
      "cell_type": "code",
      "execution_count": null,
      "metadata": {
        "id": "9ukjOO-sNQ8_"
      },
      "outputs": [],
      "source": [
        "from langchain_google_vertexai import VertexAIEmbeddings, VertexAI\n",
        "from langchain_core.messages import AIMessage, HumanMessage\n",
        "from langchain.chains import ConversationalRetrievalChain\n",
        "from langchain.memory import ConversationSummaryBufferMemory\n",
        "from langchain_core.prompts import PromptTemplate\n",
        "from langchain_google_alloydb_pg import (\n",
        "    AlloyDBEngine,\n",
        "    AlloyDBVectorStore,\n",
        "    AlloyDBChatMessageHistory,\n",
        ")\n",
        "\n",
        "sample_vector_table_name = \"movie_vector_table_samples\"\n",
        "\n",
        "# Intialize the embedding service\n",
        "embeddings_service = VertexAIEmbeddings(\n",
        "    model_name=\"textembedding-gecko@003\", project=project_id\n",
        ")\n",
        "\n",
        "# Intialize the engine\n",
        "engine = AlloyDBEngine.from_instance(\n",
        "    project_id=project_id,\n",
        "    instance=instance_name,\n",
        "    region=region,\n",
        "    cluster=cluster_name,\n",
        "    database=database_name,\n",
        "    user=\"postgres\",\n",
        "    password=password,\n",
        ")\n",
        "# Intialize the Vector Store\n",
        "vector_store = AlloyDBVectorStore.create_sync(\n",
        "    engine=engine,\n",
        "    embedding_service=embeddings_service,\n",
        "    table_name=sample_vector_table_name,\n",
        "    metadata_columns=[\n",
        "        \"show_id\",\n",
        "        \"type\",\n",
        "        \"country\",\n",
        "        \"date_added\",\n",
        "        \"release_year\",\n",
        "        \"duration\",\n",
        "        \"listed_in\",\n",
        "    ],\n",
        ")\n",
        "\n",
        "# Intialize the AlloyDBChatMessageHistory\n",
        "chat_history = AlloyDBChatMessageHistory.create_sync(\n",
        "    engine,\n",
        "    session_id=\"my-test-session\",\n",
        "    table_name=\"message_store\",\n",
        ")"
      ]
    },
    {
      "cell_type": "markdown",
      "metadata": {
        "id": "Ytlz9D3LmcU7"
      },
      "source": [
        "Create a prompt for the LLM. Here we can add instructions specific to our application, such as \"Don't make things up\"."
      ]
    },
    {
      "cell_type": "code",
      "execution_count": null,
      "metadata": {
        "id": "LoAHNdrWmW9W"
      },
      "outputs": [],
      "source": [
        "# Prepare some prompt templates for the ConversationalRetrievalChain\n",
        "prompt = PromptTemplate(\n",
        "    template=\"\"\"Use all the information from the context and the conversation history to answer new question. If you see the answer in previous conversation history or the context. \\\n",
        "Answer it with clarifying the source information. If you don't see it in the context or the chat history, just say you \\\n",
        "didn't find the answer in the given data. Don't make things up.\n",
        "\n",
        "Previous conversation history from the questioner. \"Human\" was the user who's asking the new question. \"Assistant\" was you as the assistant:\n",
        "```{chat_history}\n",
        "```\n",
        "\n",
        "Vector search result of the new question:\n",
        "```{context}\n",
        "```\n",
        "\n",
        "New Question:\n",
        "```{question}```\n",
        "\n",
        "Answer:\"\"\",\n",
        "    input_variables=[\"context\", \"question\", \"chat_history\"],\n",
        ")\n",
        "condense_question_prompt_passthrough = PromptTemplate(\n",
        "    template=\"\"\"Repeat the following question:\n",
        "{question}\n",
        "\"\"\",\n",
        "    input_variables=[\"question\"],\n",
        ")"
      ]
    },
    {
      "cell_type": "markdown",
      "metadata": {
        "id": "rsGe-bW5m0H1"
      },
      "source": [
        "Next, create a retriever from the vector store in order to retrieve similar documents via a vector search."
      ]
    },
    {
      "cell_type": "code",
      "execution_count": null,
      "metadata": {
        "id": "1nI0xkJamvXt"
      },
      "outputs": [],
      "source": [
        "# Initialize retriever, llm and memory for the chain\n",
        "retriever = vector_store.as_retriever(\n",
        "    search_type=\"mmr\", search_kwargs={\"k\": 5, \"lambda_mult\": 0.8}\n",
        ")"
      ]
    },
    {
      "cell_type": "markdown",
      "metadata": {
        "id": "3maZ8SLlneYJ"
      },
      "source": [
        "Next, initialize our LLM, in this case we are using Vertex AI's \"gemini-pro\"."
      ]
    },
    {
      "cell_type": "code",
      "execution_count": null,
      "metadata": {
        "id": "VBWhg-ihnnxF"
      },
      "outputs": [],
      "source": [
        "#gemini-pro\n",
        "llm = VertexAI(model_name=\"gemini-pro\", project=project_id)\n",
        "#Gemini 1.0 Pro\n"
      ]
    },
    {
      "cell_type": "markdown",
      "metadata": {
        "id": "hN8mpXdtnocg"
      },
      "source": [
        "Clear your chat history, so that our application starts without any prior context to other conversations we have had with the application."
      ]
    },
    {
      "cell_type": "code",
      "execution_count": null,
      "metadata": {
        "id": "1UkPcEpJno5Y"
      },
      "outputs": [],
      "source": [
        "chat_history.clear()\n",
        "\n",
        "memory = ConversationSummaryBufferMemory(\n",
        "    llm=llm,\n",
        "    chat_memory=chat_history,\n",
        "    output_key=\"answer\",\n",
        "    memory_key=\"chat_history\",\n",
        "    return_messages=True,\n",
        ")"
      ]
    },
    {
      "cell_type": "markdown",
      "metadata": {
        "id": "BDAT2koSn8Mz"
      },
      "source": [
        "Now, create a conversational retrieval chain. This will allow the LLM to use chat history in it's responses, meaning we can ask it follow up questions to our questions instead of having to start from scratch after each inquiry."
      ]
    },
    {
      "cell_type": "code",
      "execution_count": null,
      "metadata": {
        "colab": {
          "base_uri": "https://localhost:8080/"
        },
        "id": "7Fu8fKdEn8h8",
        "outputId": "172baec7-f604-49d9-9026-d656009b721f"
      },
      "outputs": [
        {
          "output_type": "stream",
          "name": "stderr",
          "text": [
            "<ipython-input-16-8710e06fe420>:13: LangChainDeprecationWarning: The method `Chain.__call__` was deprecated in langchain 0.1.0 and will be removed in 1.0. Use :meth:`~invoke` instead.\n",
            "  ans = rag_chain({\"question\": q, \"chat_history\": chat_history})[\"answer\"]\n"
          ]
        },
        {
          "output_type": "stream",
          "name": "stdout",
          "text": [
            "Question: What movie was Brad Pitt in?\n",
            "Answer: I found several movies that Brad Pitt starred in the previous conversation history: Inglourious Basterds, By the Sea, Killing Them Softly, and Babel.\n",
            "\n",
            "Question: How about Jonny Depp?\n",
            "Answer: According to my search results, Johnny Depp starred in several movies:\n",
            "\n",
            "* **Charlie and the Chocolate Factory (2005)**, directed by Tim Burton. He played the role of Willy Wonka.\n",
            "* **The Rum Diary (2011)**, directed by Bruce Robinson, based on the novel by Hunter S. Thompson. He played the role of Paul Kemp.\n",
            "* **The Imaginarium of Doctor Parnassus (2009)**, directed by Terry Gilliam. He played the role of Tony, one of the three men who help Dr. Parnassus fulfill his deal with the devil.\n",
            "* **What's Eating Gilbert Grape (1993)**, directed by Lasse Hallström. He played the role of Gilbert Grape.\n",
            "\n",
            "Question: Are there movies about animals?\n",
            "Answer: Yes, there are many movies about animals. In our previous conversation, I mentioned the DreamWorks Holiday Classics which has animals as central characters: Shrek and Donkey from Shrek, Hiccup and Toothless from How to Train Your Dragon, and the animals from Madagascar. \n",
            "\n",
            "There are also these other movies with animals in it:\n",
            "* Open Season: an animated film about a domesticated grizzly bear facing difficulties after being relocated to the wild.\n",
            "* Animals on the Loose: A You vs. Wild Movie: an interactive film featuring real-life wildlife expert Bear Grylls trying to capture escaped animals from a sanctuary.\n",
            "* The Animal People: a film about a group of animal rights protesters fighting against a facility that conducts animal testing.\n",
            "\n"
          ]
        },
        {
          "output_type": "execute_result",
          "data": {
            "text/plain": [
              "[HumanMessage(content='What movie was Brad Pitt in?', additional_kwargs={}, response_metadata={}),\n",
              " AIMessage(content='I found several movies that Brad Pitt starred in the previous conversation history: Inglourious Basterds, By the Sea, Killing Them Softly, and Babel.', additional_kwargs={}, response_metadata={}),\n",
              " HumanMessage(content='How about Jonny Depp?', additional_kwargs={}, response_metadata={}),\n",
              " AIMessage(content=\"According to my search results, Johnny Depp starred in several movies:\\n\\n* **Charlie and the Chocolate Factory (2005)**, directed by Tim Burton. He played the role of Willy Wonka.\\n* **The Rum Diary (2011)**, directed by Bruce Robinson, based on the novel by Hunter S. Thompson. He played the role of Paul Kemp.\\n* **The Imaginarium of Doctor Parnassus (2009)**, directed by Terry Gilliam. He played the role of Tony, one of the three men who help Dr. Parnassus fulfill his deal with the devil.\\n* **What's Eating Gilbert Grape (1993)**, directed by Lasse Hallström. He played the role of Gilbert Grape.\", additional_kwargs={}, response_metadata={}),\n",
              " HumanMessage(content='Are there movies about animals?', additional_kwargs={}, response_metadata={}),\n",
              " AIMessage(content='Yes, there are many movies about animals. In our previous conversation, I mentioned the DreamWorks Holiday Classics which has animals as central characters: Shrek and Donkey from Shrek, Hiccup and Toothless from How to Train Your Dragon, and the animals from Madagascar. \\n\\nThere are also these other movies with animals in it:\\n* Open Season: an animated film about a domesticated grizzly bear facing difficulties after being relocated to the wild.\\n* Animals on the Loose: A You vs. Wild Movie: an interactive film featuring real-life wildlife expert Bear Grylls trying to capture escaped animals from a sanctuary.\\n* The Animal People: a film about a group of animal rights protesters fighting against a facility that conducts animal testing.', additional_kwargs={}, response_metadata={})]"
            ]
          },
          "metadata": {},
          "execution_count": 16
        }
      ],
      "source": [
        "# create the ConversationalRetrievalChain\n",
        "rag_chain = ConversationalRetrievalChain.from_llm(\n",
        "    llm=llm,\n",
        "    retriever=retriever,\n",
        "    verbose=False,\n",
        "    memory=memory,\n",
        "    condense_question_prompt=condense_question_prompt_passthrough,\n",
        "    combine_docs_chain_kwargs={\"prompt\": prompt},\n",
        ")\n",
        "\n",
        "# ask some questions\n",
        "q = \"What movie was Brad Pitt in?\"\n",
        "ans = rag_chain({\"question\": q, \"chat_history\": chat_history})[\"answer\"]\n",
        "print(f\"Question: {q}\\nAnswer: {ans}\\n\")\n",
        "\n",
        "q = \"How about Jonny Depp?\"\n",
        "ans = rag_chain({\"question\": q, \"chat_history\": chat_history})[\"answer\"]\n",
        "print(f\"Question: {q}\\nAnswer: {ans}\\n\")\n",
        "\n",
        "q = \"Are there movies about animals?\"\n",
        "ans = rag_chain({\"question\": q, \"chat_history\": chat_history})[\"answer\"]\n",
        "print(f\"Question: {q}\\nAnswer: {ans}\\n\")\n",
        "\n",
        "# browser the chat history\n",
        "chat_history.messages"
      ]
    },
    {
      "cell_type": "code",
      "source": [
        "chat_history.clear()"
      ],
      "metadata": {
        "id": "5BeNnCPw2tcN"
      },
      "execution_count": null,
      "outputs": []
    },
    {
      "cell_type": "code",
      "source": [
        "q = \"in which year My Little Pony was released?\"\n",
        "ans = rag_chain({\"question\": q, \"chat_history\": chat_history})[\"answer\"]\n",
        "print(f\"Question: {q}\\nAnswer: {ans}\\n\")"
      ],
      "metadata": {
        "colab": {
          "base_uri": "https://localhost:8080/"
        },
        "id": "rYjDFmBb_KnM",
        "outputId": "9517b138-c39d-4a42-e06c-daaa38584634"
      },
      "execution_count": null,
      "outputs": [
        {
          "output_type": "stream",
          "name": "stdout",
          "text": [
            "Question: in which year My Little Pony was released?\n",
            "Answer: I'm sorry, I cannot answer your question about the release year of My Little Pony as the information provided to me does not contain that detail.\n",
            "\n"
          ]
        }
      ]
    },
    {
      "cell_type": "code",
      "source": [
        "q = \"what is the story of My Little Pony\"\n",
        "ans = rag_chain({\"question\": q, \"chat_history\": chat_history})[\"answer\"]\n",
        "print(f\"Question: {q}\\nAnswer: {ans}\\n\")"
      ],
      "metadata": {
        "colab": {
          "base_uri": "https://localhost:8080/"
        },
        "id": "IxgidGjo_wtX",
        "outputId": "cb4e74cb-3522-45b1-85da-6987e24892b8"
      },
      "execution_count": null,
      "outputs": [
        {
          "output_type": "stream",
          "name": "stdout",
          "text": [
            "Question: what is the story of My Little Pony\n",
            "Answer: I believe the stories you're asking about are based on the My Little Pony animated television series. There have been several iterations of the show, each with its own unique storyline. \n",
            "\n",
            "Here's a summary of the stories from the provided information:\n",
            "\n",
            "- **My Little Pony: Friendship Is Magic:** This series takes place in the magical land of Equestria and follows Twilight Sparkle, a young unicorn who studies the magic of friendship with her five pony friends: Applejack, Pinkie Pie, Rarity, Fluttershy, and Rainbow Dash. They go on various adventures and learn valuable lessons about friendship along the way.\n",
            "- **Equestria Girls: Tales of Canterlot High:** This series takes place in an alternate universe where the ponies are teenage girls attending Canterlot High. They must learn what it means to be human and face the challenges of high school life while maintaining their friendships.\n",
            "- **My Little Pony: A New Generation:** This series takes place in a time when Equestria is divided between Earth Ponies, Pegasi, and Unicorns. Sunny Starscout, a bright-eyed Earth Pony, believes that the three pony types should be friends and sets out to prove it.\n",
            "- **My Little Pony Equestria Girls: Rainbow Rocks:** This series follows the five ponies as they form a band and compete in the Canterlot High musical showcase. They face challenges and learn the importance of teamwork and following their dreams.\n",
            "\n",
            "Please let me know if you'd like more information about any of these specific series or if you have another question. \n",
            "\n",
            "\n"
          ]
        }
      ]
    },
    {
      "cell_type": "code",
      "source": [
        "q = \"is Midnight Mass movie or web series\"\n",
        "ans = rag_chain({\"question\": q, \"chat_history\": chat_history})[\"answer\"]\n",
        "print(f\"Question: {q}\\nAnswer: {ans}\\n\")"
      ],
      "metadata": {
        "colab": {
          "base_uri": "https://localhost:8080/"
        },
        "id": "amTFiAYG__4Y",
        "outputId": "84dc4241-6576-44e5-d6c1-db3bb67b88f2"
      },
      "execution_count": null,
      "outputs": [
        {
          "output_type": "stream",
          "name": "stdout",
          "text": [
            "Question: is Midnight Mass movie or web series\n",
            "Answer: The vector search results show that \"Midnight Mass\" is a **web series**.\n",
            "\n"
          ]
        }
      ]
    },
    {
      "cell_type": "code",
      "source": [
        "q = \"Tell me deatils about The Great British Baking Show\"\n",
        "ans = rag_chain({\"question\": q, \"chat_history\": chat_history})[\"answer\"]\n",
        "print(f\"Question: {q}\\nAnswer: {ans}\\n\")"
      ],
      "metadata": {
        "colab": {
          "base_uri": "https://localhost:8080/"
        },
        "id": "q0cxKeUAArM_",
        "outputId": "8910af7a-e9e9-4aee-dda1-cbb9c2ea6c40"
      },
      "execution_count": null,
      "outputs": [
        {
          "output_type": "stream",
          "name": "stdout",
          "text": [
            "Question: Tell me deatils about The Great British Baking Show\n",
            "Answer: ##  The Great British Baking Show: A Delightful Baking Competition  \n",
            "\n",
            "**What is it?**\n",
            "\n",
            "* The Great British Baking Show (also known as The Great British Bake Off) is a popular television baking competition. \n",
            "* Amateur bakers from across the UK compete in weekly challenges showcasing their baking skills. \n",
            "* Judges Paul Hollywood and Prue Leith assess the contestants' efforts, offering constructive feedback and ultimately deciding who stays and who leaves each week. \n",
            "* The winner is crowned Britain's Best Amateur Baker.\n",
            "\n",
            "**Where did it originate?**\n",
            "\n",
            "* The first episode was aired in 2010, quickly gaining immense popularity in the UK. \n",
            "* Its international success led to numerous adaptations around the world, including The Great American Baking Show in the US, The Great Canadian Baking Show, and many more.\n",
            "\n",
            "**What makes it so special?**\n",
            "\n",
            "* **Warm atmosphere:** It's known for its warm and friendly atmosphere, where contestants support and encourage each other throughout the competition. \n",
            "* **Celebrating diversity:** Bakers of all ages and backgrounds come together, sharing their cultural heritage through baking. \n",
            "* **High production value:** The meticulously filmed preparation process is a visual treat. \n",
            "* **Focus on learning:** Viewers enjoy seeing the baking techniques, understanding different ingredients, and picking up valuable tips for their own baking ventures. \n",
            "* **Humor & entertainment:** The witty commentary of hosts Matt Lucas and Noel Fielding, coupled with the occasional baking disasters, provides humor and light entertainment.\n",
            "\n",
            "**Additional facts:**\n",
            "\n",
            "* You'll be delighted with multiple variations like The Great British Baking Show: The Beginnings, Holidays, and Masterclass, offering different experiences and focusing on festive treats, baking basics, and professional techniques respectively.\n",
            "\n",
            "Do you wish to delve deeper into any particular aspect of The Great British Baking Show, or perhaps explore the different versions? Just tell me what interests you most and I'll gladly assist you!\n",
            "\n",
            "\n"
          ]
        }
      ]
    }
  ],
  "metadata": {
    "colab": {
      "provenance": []
    },
    "kernelspec": {
      "display_name": "Python 3",
      "name": "python3"
    },
    "language_info": {
      "name": "python"
    }
  },
  "nbformat": 4,
  "nbformat_minor": 0
}
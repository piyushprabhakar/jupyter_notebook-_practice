{
 "cells": [
  {
   "cell_type": "code",
   "execution_count": 23,
   "id": "0a22f1ed-7449-49a9-90af-15a2b4632585",
   "metadata": {
    "tags": []
   },
   "outputs": [
    {
     "name": "stderr",
     "output_type": "stream",
     "text": [
      "huggingface/tokenizers: The current process just got forked, after parallelism has already been used. Disabling parallelism to avoid deadlocks...\n",
      "To disable this warning, you can either:\n",
      "\t- Avoid using `tokenizers` before the fork if possible\n",
      "\t- Explicitly set the environment variable TOKENIZERS_PARALLELISM=(true | false)\n"
     ]
    },
    {
     "name": "stdout",
     "output_type": "stream",
     "text": [
      "Requirement already satisfied: langchain in /usr/local/python/3.12.1/lib/python3.12/site-packages (0.3.3)\n",
      "Requirement already satisfied: PyYAML>=5.3 in /home/codespace/.local/lib/python3.12/site-packages (from langchain) (6.0.2)\n",
      "Requirement already satisfied: SQLAlchemy<3,>=1.4 in /usr/local/python/3.12.1/lib/python3.12/site-packages (from langchain) (2.0.35)\n",
      "Requirement already satisfied: aiohttp<4.0.0,>=3.8.3 in /usr/local/python/3.12.1/lib/python3.12/site-packages (from langchain) (3.10.10)\n",
      "Requirement already satisfied: langchain-core<0.4.0,>=0.3.10 in /usr/local/python/3.12.1/lib/python3.12/site-packages (from langchain) (0.3.10)\n",
      "Requirement already satisfied: langchain-text-splitters<0.4.0,>=0.3.0 in /usr/local/python/3.12.1/lib/python3.12/site-packages (from langchain) (0.3.0)\n",
      "Requirement already satisfied: langsmith<0.2.0,>=0.1.17 in /usr/local/python/3.12.1/lib/python3.12/site-packages (from langchain) (0.1.135)\n",
      "Requirement already satisfied: numpy<2.0.0,>=1.26.0 in /usr/local/python/3.12.1/lib/python3.12/site-packages (from langchain) (1.26.4)\n",
      "Requirement already satisfied: pydantic<3.0.0,>=2.7.4 in /usr/local/python/3.12.1/lib/python3.12/site-packages (from langchain) (2.9.2)\n",
      "Requirement already satisfied: requests<3,>=2 in /home/codespace/.local/lib/python3.12/site-packages (from langchain) (2.32.3)\n",
      "Requirement already satisfied: tenacity!=8.4.0,<9.0.0,>=8.1.0 in /usr/local/python/3.12.1/lib/python3.12/site-packages (from langchain) (8.5.0)\n",
      "Requirement already satisfied: aiohappyeyeballs>=2.3.0 in /usr/local/python/3.12.1/lib/python3.12/site-packages (from aiohttp<4.0.0,>=3.8.3->langchain) (2.4.3)\n",
      "Requirement already satisfied: aiosignal>=1.1.2 in /usr/local/python/3.12.1/lib/python3.12/site-packages (from aiohttp<4.0.0,>=3.8.3->langchain) (1.3.1)\n",
      "Requirement already satisfied: attrs>=17.3.0 in /home/codespace/.local/lib/python3.12/site-packages (from aiohttp<4.0.0,>=3.8.3->langchain) (24.2.0)\n",
      "Requirement already satisfied: frozenlist>=1.1.1 in /usr/local/python/3.12.1/lib/python3.12/site-packages (from aiohttp<4.0.0,>=3.8.3->langchain) (1.4.1)\n",
      "Requirement already satisfied: multidict<7.0,>=4.5 in /usr/local/python/3.12.1/lib/python3.12/site-packages (from aiohttp<4.0.0,>=3.8.3->langchain) (6.1.0)\n",
      "Requirement already satisfied: yarl<2.0,>=1.12.0 in /usr/local/python/3.12.1/lib/python3.12/site-packages (from aiohttp<4.0.0,>=3.8.3->langchain) (1.15.2)\n",
      "Requirement already satisfied: jsonpatch<2.0,>=1.33 in /usr/local/python/3.12.1/lib/python3.12/site-packages (from langchain-core<0.4.0,>=0.3.10->langchain) (1.33)\n",
      "Requirement already satisfied: packaging<25,>=23.2 in /home/codespace/.local/lib/python3.12/site-packages (from langchain-core<0.4.0,>=0.3.10->langchain) (24.1)\n",
      "Requirement already satisfied: typing-extensions>=4.7 in /home/codespace/.local/lib/python3.12/site-packages (from langchain-core<0.4.0,>=0.3.10->langchain) (4.9.0)\n",
      "Requirement already satisfied: httpx<1,>=0.23.0 in /home/codespace/.local/lib/python3.12/site-packages (from langsmith<0.2.0,>=0.1.17->langchain) (0.27.2)\n",
      "Requirement already satisfied: orjson<4.0.0,>=3.9.14 in /usr/local/python/3.12.1/lib/python3.12/site-packages (from langsmith<0.2.0,>=0.1.17->langchain) (3.10.7)\n",
      "Requirement already satisfied: requests-toolbelt<2.0.0,>=1.0.0 in /usr/local/python/3.12.1/lib/python3.12/site-packages (from langsmith<0.2.0,>=0.1.17->langchain) (1.0.0)\n",
      "Requirement already satisfied: annotated-types>=0.6.0 in /usr/local/python/3.12.1/lib/python3.12/site-packages (from pydantic<3.0.0,>=2.7.4->langchain) (0.7.0)\n",
      "Requirement already satisfied: pydantic-core==2.23.4 in /usr/local/python/3.12.1/lib/python3.12/site-packages (from pydantic<3.0.0,>=2.7.4->langchain) (2.23.4)\n",
      "Requirement already satisfied: charset-normalizer<4,>=2 in /home/codespace/.local/lib/python3.12/site-packages (from requests<3,>=2->langchain) (3.3.2)\n",
      "Requirement already satisfied: idna<4,>=2.5 in /home/codespace/.local/lib/python3.12/site-packages (from requests<3,>=2->langchain) (3.10)\n",
      "Requirement already satisfied: urllib3<3,>=1.21.1 in /home/codespace/.local/lib/python3.12/site-packages (from requests<3,>=2->langchain) (2.2.3)\n",
      "Requirement already satisfied: certifi>=2017.4.17 in /home/codespace/.local/lib/python3.12/site-packages (from requests<3,>=2->langchain) (2024.8.30)\n",
      "Requirement already satisfied: greenlet!=0.4.17 in /usr/local/python/3.12.1/lib/python3.12/site-packages (from SQLAlchemy<3,>=1.4->langchain) (3.1.1)\n",
      "Requirement already satisfied: anyio in /home/codespace/.local/lib/python3.12/site-packages (from httpx<1,>=0.23.0->langsmith<0.2.0,>=0.1.17->langchain) (4.6.0)\n",
      "Requirement already satisfied: httpcore==1.* in /home/codespace/.local/lib/python3.12/site-packages (from httpx<1,>=0.23.0->langsmith<0.2.0,>=0.1.17->langchain) (1.0.5)\n",
      "Requirement already satisfied: sniffio in /home/codespace/.local/lib/python3.12/site-packages (from httpx<1,>=0.23.0->langsmith<0.2.0,>=0.1.17->langchain) (1.3.1)\n",
      "Requirement already satisfied: h11<0.15,>=0.13 in /home/codespace/.local/lib/python3.12/site-packages (from httpcore==1.*->httpx<1,>=0.23.0->langsmith<0.2.0,>=0.1.17->langchain) (0.14.0)\n",
      "Requirement already satisfied: jsonpointer>=1.9 in /home/codespace/.local/lib/python3.12/site-packages (from jsonpatch<2.0,>=1.33->langchain-core<0.4.0,>=0.3.10->langchain) (3.0.0)\n",
      "Requirement already satisfied: propcache>=0.2.0 in /usr/local/python/3.12.1/lib/python3.12/site-packages (from yarl<2.0,>=1.12.0->aiohttp<4.0.0,>=3.8.3->langchain) (0.2.0)\n"
     ]
    },
    {
     "name": "stderr",
     "output_type": "stream",
     "text": [
      "huggingface/tokenizers: The current process just got forked, after parallelism has already been used. Disabling parallelism to avoid deadlocks...\n",
      "To disable this warning, you can either:\n",
      "\t- Avoid using `tokenizers` before the fork if possible\n",
      "\t- Explicitly set the environment variable TOKENIZERS_PARALLELISM=(true | false)\n"
     ]
    },
    {
     "name": "stdout",
     "output_type": "stream",
     "text": [
      "Requirement already satisfied: langchain-community in /usr/local/python/3.12.1/lib/python3.12/site-packages (0.3.2)\n",
      "Requirement already satisfied: PyYAML>=5.3 in /home/codespace/.local/lib/python3.12/site-packages (from langchain-community) (6.0.2)\n",
      "Requirement already satisfied: SQLAlchemy<3,>=1.4 in /usr/local/python/3.12.1/lib/python3.12/site-packages (from langchain-community) (2.0.35)\n",
      "Requirement already satisfied: aiohttp<4.0.0,>=3.8.3 in /usr/local/python/3.12.1/lib/python3.12/site-packages (from langchain-community) (3.10.10)\n",
      "Requirement already satisfied: dataclasses-json<0.7,>=0.5.7 in /usr/local/python/3.12.1/lib/python3.12/site-packages (from langchain-community) (0.6.7)\n",
      "Requirement already satisfied: langchain<0.4.0,>=0.3.3 in /usr/local/python/3.12.1/lib/python3.12/site-packages (from langchain-community) (0.3.3)\n",
      "Requirement already satisfied: langchain-core<0.4.0,>=0.3.10 in /usr/local/python/3.12.1/lib/python3.12/site-packages (from langchain-community) (0.3.10)\n",
      "Requirement already satisfied: langsmith<0.2.0,>=0.1.125 in /usr/local/python/3.12.1/lib/python3.12/site-packages (from langchain-community) (0.1.135)\n",
      "Requirement already satisfied: numpy<2.0.0,>=1.26.0 in /usr/local/python/3.12.1/lib/python3.12/site-packages (from langchain-community) (1.26.4)\n",
      "Requirement already satisfied: pydantic-settings<3.0.0,>=2.4.0 in /usr/local/python/3.12.1/lib/python3.12/site-packages (from langchain-community) (2.5.2)\n",
      "Requirement already satisfied: requests<3,>=2 in /home/codespace/.local/lib/python3.12/site-packages (from langchain-community) (2.32.3)\n",
      "Requirement already satisfied: tenacity!=8.4.0,<9.0.0,>=8.1.0 in /usr/local/python/3.12.1/lib/python3.12/site-packages (from langchain-community) (8.5.0)\n",
      "Requirement already satisfied: aiohappyeyeballs>=2.3.0 in /usr/local/python/3.12.1/lib/python3.12/site-packages (from aiohttp<4.0.0,>=3.8.3->langchain-community) (2.4.3)\n",
      "Requirement already satisfied: aiosignal>=1.1.2 in /usr/local/python/3.12.1/lib/python3.12/site-packages (from aiohttp<4.0.0,>=3.8.3->langchain-community) (1.3.1)\n",
      "Requirement already satisfied: attrs>=17.3.0 in /home/codespace/.local/lib/python3.12/site-packages (from aiohttp<4.0.0,>=3.8.3->langchain-community) (24.2.0)\n",
      "Requirement already satisfied: frozenlist>=1.1.1 in /usr/local/python/3.12.1/lib/python3.12/site-packages (from aiohttp<4.0.0,>=3.8.3->langchain-community) (1.4.1)\n",
      "Requirement already satisfied: multidict<7.0,>=4.5 in /usr/local/python/3.12.1/lib/python3.12/site-packages (from aiohttp<4.0.0,>=3.8.3->langchain-community) (6.1.0)\n",
      "Requirement already satisfied: yarl<2.0,>=1.12.0 in /usr/local/python/3.12.1/lib/python3.12/site-packages (from aiohttp<4.0.0,>=3.8.3->langchain-community) (1.15.2)\n",
      "Requirement already satisfied: marshmallow<4.0.0,>=3.18.0 in /usr/local/python/3.12.1/lib/python3.12/site-packages (from dataclasses-json<0.7,>=0.5.7->langchain-community) (3.22.0)\n",
      "Requirement already satisfied: typing-inspect<1,>=0.4.0 in /usr/local/python/3.12.1/lib/python3.12/site-packages (from dataclasses-json<0.7,>=0.5.7->langchain-community) (0.9.0)\n",
      "Requirement already satisfied: langchain-text-splitters<0.4.0,>=0.3.0 in /usr/local/python/3.12.1/lib/python3.12/site-packages (from langchain<0.4.0,>=0.3.3->langchain-community) (0.3.0)\n",
      "Requirement already satisfied: pydantic<3.0.0,>=2.7.4 in /usr/local/python/3.12.1/lib/python3.12/site-packages (from langchain<0.4.0,>=0.3.3->langchain-community) (2.9.2)\n",
      "Requirement already satisfied: jsonpatch<2.0,>=1.33 in /usr/local/python/3.12.1/lib/python3.12/site-packages (from langchain-core<0.4.0,>=0.3.10->langchain-community) (1.33)\n",
      "Requirement already satisfied: packaging<25,>=23.2 in /home/codespace/.local/lib/python3.12/site-packages (from langchain-core<0.4.0,>=0.3.10->langchain-community) (24.1)\n",
      "Requirement already satisfied: typing-extensions>=4.7 in /home/codespace/.local/lib/python3.12/site-packages (from langchain-core<0.4.0,>=0.3.10->langchain-community) (4.9.0)\n",
      "Requirement already satisfied: httpx<1,>=0.23.0 in /home/codespace/.local/lib/python3.12/site-packages (from langsmith<0.2.0,>=0.1.125->langchain-community) (0.27.2)\n",
      "Requirement already satisfied: orjson<4.0.0,>=3.9.14 in /usr/local/python/3.12.1/lib/python3.12/site-packages (from langsmith<0.2.0,>=0.1.125->langchain-community) (3.10.7)\n",
      "Requirement already satisfied: requests-toolbelt<2.0.0,>=1.0.0 in /usr/local/python/3.12.1/lib/python3.12/site-packages (from langsmith<0.2.0,>=0.1.125->langchain-community) (1.0.0)\n",
      "Requirement already satisfied: python-dotenv>=0.21.0 in /usr/local/python/3.12.1/lib/python3.12/site-packages (from pydantic-settings<3.0.0,>=2.4.0->langchain-community) (1.0.1)\n",
      "Requirement already satisfied: charset-normalizer<4,>=2 in /home/codespace/.local/lib/python3.12/site-packages (from requests<3,>=2->langchain-community) (3.3.2)\n",
      "Requirement already satisfied: idna<4,>=2.5 in /home/codespace/.local/lib/python3.12/site-packages (from requests<3,>=2->langchain-community) (3.10)\n",
      "Requirement already satisfied: urllib3<3,>=1.21.1 in /home/codespace/.local/lib/python3.12/site-packages (from requests<3,>=2->langchain-community) (2.2.3)\n",
      "Requirement already satisfied: certifi>=2017.4.17 in /home/codespace/.local/lib/python3.12/site-packages (from requests<3,>=2->langchain-community) (2024.8.30)\n",
      "Requirement already satisfied: greenlet!=0.4.17 in /usr/local/python/3.12.1/lib/python3.12/site-packages (from SQLAlchemy<3,>=1.4->langchain-community) (3.1.1)\n",
      "Requirement already satisfied: anyio in /home/codespace/.local/lib/python3.12/site-packages (from httpx<1,>=0.23.0->langsmith<0.2.0,>=0.1.125->langchain-community) (4.6.0)\n",
      "Requirement already satisfied: httpcore==1.* in /home/codespace/.local/lib/python3.12/site-packages (from httpx<1,>=0.23.0->langsmith<0.2.0,>=0.1.125->langchain-community) (1.0.5)\n",
      "Requirement already satisfied: sniffio in /home/codespace/.local/lib/python3.12/site-packages (from httpx<1,>=0.23.0->langsmith<0.2.0,>=0.1.125->langchain-community) (1.3.1)\n",
      "Requirement already satisfied: h11<0.15,>=0.13 in /home/codespace/.local/lib/python3.12/site-packages (from httpcore==1.*->httpx<1,>=0.23.0->langsmith<0.2.0,>=0.1.125->langchain-community) (0.14.0)\n",
      "Requirement already satisfied: jsonpointer>=1.9 in /home/codespace/.local/lib/python3.12/site-packages (from jsonpatch<2.0,>=1.33->langchain-core<0.4.0,>=0.3.10->langchain-community) (3.0.0)\n",
      "Requirement already satisfied: annotated-types>=0.6.0 in /usr/local/python/3.12.1/lib/python3.12/site-packages (from pydantic<3.0.0,>=2.7.4->langchain<0.4.0,>=0.3.3->langchain-community) (0.7.0)\n",
      "Requirement already satisfied: pydantic-core==2.23.4 in /usr/local/python/3.12.1/lib/python3.12/site-packages (from pydantic<3.0.0,>=2.7.4->langchain<0.4.0,>=0.3.3->langchain-community) (2.23.4)\n",
      "Requirement already satisfied: mypy-extensions>=0.3.0 in /usr/local/python/3.12.1/lib/python3.12/site-packages (from typing-inspect<1,>=0.4.0->dataclasses-json<0.7,>=0.5.7->langchain-community) (1.0.0)\n",
      "Requirement already satisfied: propcache>=0.2.0 in /usr/local/python/3.12.1/lib/python3.12/site-packages (from yarl<2.0,>=1.12.0->aiohttp<4.0.0,>=3.8.3->langchain-community) (0.2.0)\n"
     ]
    },
    {
     "name": "stderr",
     "output_type": "stream",
     "text": [
      "huggingface/tokenizers: The current process just got forked, after parallelism has already been used. Disabling parallelism to avoid deadlocks...\n",
      "To disable this warning, you can either:\n",
      "\t- Avoid using `tokenizers` before the fork if possible\n",
      "\t- Explicitly set the environment variable TOKENIZERS_PARALLELISM=(true | false)\n"
     ]
    },
    {
     "name": "stdout",
     "output_type": "stream",
     "text": [
      "Requirement already satisfied: huggingface_hub in /usr/local/python/3.12.1/lib/python3.12/site-packages (0.25.2)\n",
      "Requirement already satisfied: filelock in /home/codespace/.local/lib/python3.12/site-packages (from huggingface_hub) (3.13.1)\n",
      "Requirement already satisfied: fsspec>=2023.5.0 in /home/codespace/.local/lib/python3.12/site-packages (from huggingface_hub) (2024.2.0)\n",
      "Requirement already satisfied: packaging>=20.9 in /home/codespace/.local/lib/python3.12/site-packages (from huggingface_hub) (24.1)\n",
      "Requirement already satisfied: pyyaml>=5.1 in /home/codespace/.local/lib/python3.12/site-packages (from huggingface_hub) (6.0.2)\n",
      "Requirement already satisfied: requests in /home/codespace/.local/lib/python3.12/site-packages (from huggingface_hub) (2.32.3)\n",
      "Requirement already satisfied: tqdm>=4.42.1 in /usr/local/python/3.12.1/lib/python3.12/site-packages (from huggingface_hub) (4.66.5)\n",
      "Requirement already satisfied: typing-extensions>=3.7.4.3 in /home/codespace/.local/lib/python3.12/site-packages (from huggingface_hub) (4.9.0)\n",
      "Requirement already satisfied: charset-normalizer<4,>=2 in /home/codespace/.local/lib/python3.12/site-packages (from requests->huggingface_hub) (3.3.2)\n",
      "Requirement already satisfied: idna<4,>=2.5 in /home/codespace/.local/lib/python3.12/site-packages (from requests->huggingface_hub) (3.10)\n",
      "Requirement already satisfied: urllib3<3,>=1.21.1 in /home/codespace/.local/lib/python3.12/site-packages (from requests->huggingface_hub) (2.2.3)\n",
      "Requirement already satisfied: certifi>=2017.4.17 in /home/codespace/.local/lib/python3.12/site-packages (from requests->huggingface_hub) (2024.8.30)\n"
     ]
    }
   ],
   "source": [
    "!pip install langchain\n",
    "!pip install -U langchain-community\n",
    "!pip install huggingface_hub\n"
   ]
  },
  {
   "cell_type": "code",
   "execution_count": 24,
   "id": "537860bb-4bd4-476c-be5e-8b7abb5b5059",
   "metadata": {
    "tags": []
   },
   "outputs": [
    {
     "name": "stdout",
     "output_type": "stream",
     "text": [
      "The token has not been saved to the git credentials helper. Pass `add_to_git_credential=True` in this function directly or `--add-to-git-credential` if using via `huggingface-cli` if you want to set the git credential as well.\n",
      "Token is valid (permission: fineGrained).\n",
      "Your token has been saved to /home/codespace/.cache/huggingface/token\n",
      "Login successful\n",
      "Successfully logged in to Hugging Face!\n"
     ]
    }
   ],
   "source": [
    "!pip install langchain\n",
    "!pip install -U langchain-community"
   ]
  },
  {
   "cell_type": "code",
   "execution_count": 1,
   "id": "537860bb-4bd4-476c-be5e-8b7abb5b5059",
   "metadata": {
    "tags": []
   },
   "outputs": [
    {
     "name": "stdout",
     "output_type": "stream",
     "text": [
      "The token has not been saved to the git credentials helper. Pass `add_to_git_credential=True` in this function directly or `--add-to-git-credential` if using via `huggingface-cli` if you want to set the git credential as well.\n"
     ]
    }
   ],
   "source": [
    "from huggingface_hub import login\n",
    "import getpass\n",
    "\n",
    "# Prompt the user to input their Hugging Face API token\n",
    "huggingface_token = getpass.getpass(\"Enter your Hugging Face API token: \")\n",
    "\n",
    "# Login to Hugging Face\n",
    "login(token=huggingface_token)\n",
    "\n",
    "print(\"Successfully logged in to Hugging Face!\")"
   ]
  },
  {
   "cell_type": "code",
   "execution_count": 25,
   "id": "6555fce4",
   "metadata": {},
   "outputs": [
    {
     "name": "stderr",
     "output_type": "stream",
     "text": [
      "huggingface/tokenizers: The current process just got forked, after parallelism has already been used. Disabling parallelism to avoid deadlocks...\n",
      "To disable this warning, you can either:\n",
      "\t- Avoid using `tokenizers` before the fork if possible\n",
      "\t- Explicitly set the environment variable TOKENIZERS_PARALLELISM=(true | false)\n"
     ]
    },
    {
     "name": "stdout",
     "output_type": "stream",
     "text": [
      "Requirement already satisfied: sentence-transformers in /usr/local/python/3.12.1/lib/python3.12/site-packages (3.2.0)\n",
      "Requirement already satisfied: transformers<5.0.0,>=4.41.0 in /usr/local/python/3.12.1/lib/python3.12/site-packages (from sentence-transformers) (4.45.2)\n",
      "Requirement already satisfied: tqdm in /usr/local/python/3.12.1/lib/python3.12/site-packages (from sentence-transformers) (4.66.5)\n",
      "Requirement already satisfied: torch>=1.11.0 in /home/codespace/.local/lib/python3.12/site-packages (from sentence-transformers) (2.4.1+cpu)\n",
      "Requirement already satisfied: scikit-learn in /home/codespace/.local/lib/python3.12/site-packages (from sentence-transformers) (1.5.2)\n",
      "Requirement already satisfied: scipy in /home/codespace/.local/lib/python3.12/site-packages (from sentence-transformers) (1.14.1)\n",
      "Requirement already satisfied: huggingface-hub>=0.20.0 in /usr/local/python/3.12.1/lib/python3.12/site-packages (from sentence-transformers) (0.25.2)\n",
      "Requirement already satisfied: Pillow in /home/codespace/.local/lib/python3.12/site-packages (from sentence-transformers) (10.4.0)\n",
      "Requirement already satisfied: filelock in /home/codespace/.local/lib/python3.12/site-packages (from huggingface-hub>=0.20.0->sentence-transformers) (3.13.1)\n",
      "Requirement already satisfied: fsspec>=2023.5.0 in /home/codespace/.local/lib/python3.12/site-packages (from huggingface-hub>=0.20.0->sentence-transformers) (2024.2.0)\n",
      "Requirement already satisfied: packaging>=20.9 in /home/codespace/.local/lib/python3.12/site-packages (from huggingface-hub>=0.20.0->sentence-transformers) (24.1)\n",
      "Requirement already satisfied: pyyaml>=5.1 in /home/codespace/.local/lib/python3.12/site-packages (from huggingface-hub>=0.20.0->sentence-transformers) (6.0.2)\n",
      "Requirement already satisfied: requests in /home/codespace/.local/lib/python3.12/site-packages (from huggingface-hub>=0.20.0->sentence-transformers) (2.32.3)\n",
      "Requirement already satisfied: typing-extensions>=3.7.4.3 in /home/codespace/.local/lib/python3.12/site-packages (from huggingface-hub>=0.20.0->sentence-transformers) (4.9.0)\n",
      "Requirement already satisfied: sympy in /home/codespace/.local/lib/python3.12/site-packages (from torch>=1.11.0->sentence-transformers) (1.12)\n",
      "Requirement already satisfied: networkx in /home/codespace/.local/lib/python3.12/site-packages (from torch>=1.11.0->sentence-transformers) (3.2.1)\n",
      "Requirement already satisfied: jinja2 in /home/codespace/.local/lib/python3.12/site-packages (from torch>=1.11.0->sentence-transformers) (3.1.4)\n",
      "Requirement already satisfied: setuptools in /home/codespace/.local/lib/python3.12/site-packages (from torch>=1.11.0->sentence-transformers) (75.1.0)\n",
      "Requirement already satisfied: numpy>=1.17 in /usr/local/python/3.12.1/lib/python3.12/site-packages (from transformers<5.0.0,>=4.41.0->sentence-transformers) (1.26.4)\n",
      "Requirement already satisfied: regex!=2019.12.17 in /usr/local/python/3.12.1/lib/python3.12/site-packages (from transformers<5.0.0,>=4.41.0->sentence-transformers) (2024.9.11)\n",
      "Requirement already satisfied: safetensors>=0.4.1 in /usr/local/python/3.12.1/lib/python3.12/site-packages (from transformers<5.0.0,>=4.41.0->sentence-transformers) (0.4.5)\n",
      "Requirement already satisfied: tokenizers<0.21,>=0.20 in /usr/local/python/3.12.1/lib/python3.12/site-packages (from transformers<5.0.0,>=4.41.0->sentence-transformers) (0.20.1)\n",
      "Requirement already satisfied: joblib>=1.2.0 in /home/codespace/.local/lib/python3.12/site-packages (from scikit-learn->sentence-transformers) (1.4.2)\n",
      "Requirement already satisfied: threadpoolctl>=3.1.0 in /home/codespace/.local/lib/python3.12/site-packages (from scikit-learn->sentence-transformers) (3.5.0)\n",
      "Requirement already satisfied: MarkupSafe>=2.0 in /home/codespace/.local/lib/python3.12/site-packages (from jinja2->torch>=1.11.0->sentence-transformers) (2.1.5)\n",
      "Requirement already satisfied: charset-normalizer<4,>=2 in /home/codespace/.local/lib/python3.12/site-packages (from requests->huggingface-hub>=0.20.0->sentence-transformers) (3.3.2)\n",
      "Requirement already satisfied: idna<4,>=2.5 in /home/codespace/.local/lib/python3.12/site-packages (from requests->huggingface-hub>=0.20.0->sentence-transformers) (3.10)\n",
      "Requirement already satisfied: urllib3<3,>=1.21.1 in /home/codespace/.local/lib/python3.12/site-packages (from requests->huggingface-hub>=0.20.0->sentence-transformers) (2.2.3)\n",
      "Requirement already satisfied: certifi>=2017.4.17 in /home/codespace/.local/lib/python3.12/site-packages (from requests->huggingface-hub>=0.20.0->sentence-transformers) (2024.8.30)\n",
      "Requirement already satisfied: mpmath>=0.19 in /home/codespace/.local/lib/python3.12/site-packages (from sympy->torch>=1.11.0->sentence-transformers) (1.3.0)\n"
     ]
    },
    {
     "name": "stderr",
     "output_type": "stream",
     "text": [
      "huggingface/tokenizers: The current process just got forked, after parallelism has already been used. Disabling parallelism to avoid deadlocks...\n",
      "To disable this warning, you can either:\n",
      "\t- Avoid using `tokenizers` before the fork if possible\n",
      "\t- Explicitly set the environment variable TOKENIZERS_PARALLELISM=(true | false)\n"
     ]
    },
    {
     "name": "stdout",
     "output_type": "stream",
     "text": [
      "Requirement already satisfied: faiss-cpu in /usr/local/python/3.12.1/lib/python3.12/site-packages (1.9.0)\n",
      "Requirement already satisfied: numpy<3.0,>=1.25.0 in /usr/local/python/3.12.1/lib/python3.12/site-packages (from faiss-cpu) (1.26.4)\n",
      "Requirement already satisfied: packaging in /home/codespace/.local/lib/python3.12/site-packages (from faiss-cpu) (24.1)\n"
     ]
    }
   ],
   "source": [
    "!pip install sentence-transformers\n",
    "!pip install faiss-cpu"
   ]
  },
  {
   "cell_type": "code",
   "execution_count": 26,
   "id": "60aa56e7-61c9-4aa6-8648-a72b03e5e177",
   "metadata": {
    "tags": []
   },
   "outputs": [],
   "source": [
    "from langchain.embeddings import HuggingFaceEmbeddings\n",
    "embeddings = HuggingFaceEmbeddings(model_name=\"sentence-transformers/all-MiniLM-L6-v2\")"
   ]
  },
  {
   "cell_type": "markdown",
   "id": "1ec769a6-753d-4e42-b8d5-1e8c5e63bed6",
   "metadata": {},
   "source": [
    "## FAISS"
   ]
  },
  {
   "cell_type": "code",
   "execution_count": 27,
   "id": "d1cd002c-4f00-47c4-9f9f-0b0339c9dd65",
   "metadata": {},
   "outputs": [],
   "source": [
    "from langchain_community.vectorstores import FAISS"
   ]
  },
  {
   "cell_type": "code",
   "execution_count": 28,
   "id": "dc207de6-8905-4b03-a762-144e251f68a0",
   "metadata": {
    "tags": []
   },
   "outputs": [],
   "source": [
    "local_db=FAISS.load_local(\"faiss_index\",embeddings,allow_dangerous_deserialization=True)"
   ]
  },
  {
   "cell_type": "code",
   "execution_count": 29,
   "id": "73cee86f-11d9-4811-b084-f4dad1079596",
   "metadata": {
    "tags": []
   },
   "outputs": [
    {
     "data": {
      "text/plain": [
       "\"movie_id: 24448645\\nplot: Despite Lucy's reservations, she agrees to her husband’s request to attend a wild party of lust and sexual exploration on a remote island. Their passion soon turns to terror when they discover that one of the group has disappeared. Some start to believe there is something evil lurking in the forest while others begin to suspect each other. Lucy's biggest fear was that the weekend could ruin her marriage, she didn't realize it could cost her her life too.\\nmovie_name: Forest of the Damned 2\\ngenre: ['Horror']\""
      ]
     },
     "execution_count": 29,
     "metadata": {},
     "output_type": "execute_result"
    }
   ],
   "source": [
    "query=\"Plot for movie Forest of the Damned 2\"\n",
    "docs=local_db.similarity_search(query)\n",
    "docs[0].page_content"
   ]
  },
  {
   "cell_type": "markdown",
   "id": "6dd8053a-6158-47e2-8b1e-5a54881c6e55",
   "metadata": {},
   "source": [
    "#### As a Retriever\n",
    "We can also convert the vectorstore into a Retriever class. This allows us to easily use it in other LangChain methods, which largely work with retrievers"
   ]
  },
  {
   "cell_type": "code",
   "execution_count": 30,
   "id": "959afe03-7ec5-49a6-b003-ae2150d99bb0",
   "metadata": {
    "tags": []
   },
   "outputs": [
    {
     "data": {
      "text/plain": [
       "\"movie_id: 24448645\\nplot: Despite Lucy's reservations, she agrees to her husband’s request to attend a wild party of lust and sexual exploration on a remote island. Their passion soon turns to terror when they discover that one of the group has disappeared. Some start to believe there is something evil lurking in the forest while others begin to suspect each other. Lucy's biggest fear was that the weekend could ruin her marriage, she didn't realize it could cost her her life too.\\nmovie_name: Forest of the Damned 2\\ngenre: ['Horror']\""
      ]
     },
     "execution_count": 30,
     "metadata": {},
     "output_type": "execute_result"
    }
   ],
   "source": [
    "retriever=local_db.as_retriever()\n",
    "docs=retriever.invoke(query)\n",
    "docs[0].page_content"
   ]
  },
  {
   "cell_type": "code",
   "execution_count": 31,
   "id": "2212ee50-4156-408d-82d5-d7a9371e1efb",
   "metadata": {},
   "outputs": [
    {
     "data": {
      "text/plain": [
       "[(Document(metadata={'source': '/content/sample_data/movies_cleaned_data.csv', 'row': 15}, page_content=\"movie_id: 24448645\\nplot: Despite Lucy's reservations, she agrees to her husband’s request to attend a wild party of lust and sexual exploration on a remote island. Their passion soon turns to terror when they discover that one of the group has disappeared. Some start to believe there is something evil lurking in the forest while others begin to suspect each other. Lucy's biggest fear was that the weekend could ruin her marriage, she didn't realize it could cost her her life too.\\nmovie_name: Forest of the Damned 2\\ngenre: ['Horror']\"),\n",
       "  0.6751416),\n",
       " (Document(metadata={'source': '/content/sample_data/movies_cleaned_data.csv', 'row': 25052}, page_content=\"movie_id: 10538836\\nplot: A forest full of fallen angels who seduce their victims first, and then kill them. Five friends have a car accident and get into their catches. It flares up a deadly battle in which fear and seduction lay a trail of blood. These angels have an insatiable appetite for human flesh and drag you straight to hell!\\nmovie_name: Forest of the damned\\ngenre: ['Zombie Film', 'Horror']\"),\n",
       "  0.73339427),\n",
       " (Document(metadata={'source': '/content/sample_data/movies_cleaned_data.csv', 'row': 1064}, page_content='movie_id: 17776753\\nplot: The plot involves an antagonist, Mrs. D\\'Abondo, who wants the forest in which characters such as Furi and Oak the Tree live to be cut down to make way for a highway.\\nmovie_name: Spirit of the Forest\\ngenre: [\\'Family Film\\', \"Children\\'s/Family\", \\'Fairy tale\\', \\'Comedy\\', \\'Animation\\']'),\n",
       "  0.74853337),\n",
       " (Document(metadata={'source': '/content/sample_data/movies_cleaned_data.csv', 'row': 35719}, page_content=\"movie_id: 11650705\\nplot: Two groups of friends find themselves stranded at an isolated campground. When the first group is slaughtered overnight by an unseen evil, the second group arrives. Relentless terror begins as campers are transformed into bloodthirsty cannibalistic zombies that stalk, chase and eat their own friends.\\nmovie_name: Forest Of The Dead\\ngenre: ['Horror', 'Slasher']\"),\n",
       "  0.75971115)]"
      ]
     },
     "execution_count": 31,
     "metadata": {},
     "output_type": "execute_result"
    }
   ],
   "source": [
    "#### Similarity Search with score\n",
    "docs_and_score=local_db.similarity_search_with_score(query)\n",
    "docs_and_score"
   ]
  },
  {
   "cell_type": "code",
   "execution_count": 32,
   "id": "4699cbe6",
   "metadata": {},
   "outputs": [
    {
     "data": {
      "text/plain": [
       "[Document(metadata={'source': '/content/sample_data/movies_cleaned_data.csv', 'row': 15}, page_content=\"movie_id: 24448645\\nplot: Despite Lucy's reservations, she agrees to her husband’s request to attend a wild party of lust and sexual exploration on a remote island. Their passion soon turns to terror when they discover that one of the group has disappeared. Some start to believe there is something evil lurking in the forest while others begin to suspect each other. Lucy's biggest fear was that the weekend could ruin her marriage, she didn't realize it could cost her her life too.\\nmovie_name: Forest of the Damned 2\\ngenre: ['Horror']\"),\n",
       " Document(metadata={'source': '/content/sample_data/movies_cleaned_data.csv', 'row': 25052}, page_content=\"movie_id: 10538836\\nplot: A forest full of fallen angels who seduce their victims first, and then kill them. Five friends have a car accident and get into their catches. It flares up a deadly battle in which fear and seduction lay a trail of blood. These angels have an insatiable appetite for human flesh and drag you straight to hell!\\nmovie_name: Forest of the damned\\ngenre: ['Zombie Film', 'Horror']\"),\n",
       " Document(metadata={'source': '/content/sample_data/movies_cleaned_data.csv', 'row': 1064}, page_content='movie_id: 17776753\\nplot: The plot involves an antagonist, Mrs. D\\'Abondo, who wants the forest in which characters such as Furi and Oak the Tree live to be cut down to make way for a highway.\\nmovie_name: Spirit of the Forest\\ngenre: [\\'Family Film\\', \"Children\\'s/Family\", \\'Fairy tale\\', \\'Comedy\\', \\'Animation\\']'),\n",
       " Document(metadata={'source': '/content/sample_data/movies_cleaned_data.csv', 'row': 35719}, page_content=\"movie_id: 11650705\\nplot: Two groups of friends find themselves stranded at an isolated campground. When the first group is slaughtered overnight by an unseen evil, the second group arrives. Relentless terror begins as campers are transformed into bloodthirsty cannibalistic zombies that stalk, chase and eat their own friends.\\nmovie_name: Forest Of The Dead\\ngenre: ['Horror', 'Slasher']\")]"
      ]
     },
     "execution_count": 32,
     "metadata": {},
     "output_type": "execute_result"
    }
   ],
   "source": [
    "embedding_vector=embeddings.embed_query(query)\n",
    "docs_score=local_db.similarity_search_by_vector(embedding_vector)\n",
    "docs_score"
   ]
  },
  {
   "cell_type": "markdown",
   "id": "31b440e9",
   "metadata": {},
   "source": [
    "## Mixtral"
   ]
  },
  {
   "cell_type": "code",
   "execution_count": null,
   "id": "8b46ab53",
   "metadata": {},
   "outputs": [],
   "source": []
  },
  {
   "cell_type": "code",
   "execution_count": 36,
   "id": "4bf6f5e9",
   "metadata": {},
   "outputs": [],
   "source": [
    "from langchain.llms import HuggingFaceHub\n",
    "\n",
    "# Define the Hugging Face model repo ID (Mixtral)\n",
    "repo_id = \"mistralai/Mistral-Small-Instruct-2409\"\n",
    "# Initialize HuggingFaceHub with your API token and model settings\n",
    "llm = HuggingFaceHub(\n",
    "    repo_id=repo_id, \n",
    "    model_kwargs={\"temperature\": 0.8, \"top_k\": 50}, \n",
    "    huggingfacehub_api_token=huggingface_token  # Replace with your API token\n",
    ")"
   ]
  },
  {
   "cell_type": "code",
   "execution_count": 37,
   "id": "681e5661",
   "metadata": {},
   "outputs": [
    {
     "name": "stdout",
     "output_type": "stream",
     "text": [
      "Hello, how are you?\n",
      "\n",
      "I'm good, thank you! How can I assist you today?\n"
     ]
    }
   ],
   "source": [
    "# Example usage: Generate a response with the LLM\n",
    "response = llm(\"Hello, how are you?\")\n",
    "print(response)"
   ]
  },
  {
   "cell_type": "markdown",
   "id": "675108bb",
   "metadata": {},
   "source": [
    "## Prompt Engineering"
   ]
  },
  {
   "cell_type": "code",
   "execution_count": 43,
   "id": "c606e193",
   "metadata": {},
   "outputs": [],
   "source": [
    "from langchain import PromptTemplate\n",
    "\n",
    "template = \"\"\"\n",
    "You are a Expert about movie. you will be asked about plot or genre based on movie name. \n",
    "Use following piece of context to answer the question. \n",
    "If you don't know the answer, just say you don't know. \n",
    "Keep the answer within 2 sentences and concise.\n",
    "\n",
    "Context: {context}\n",
    "Question: {question}\n",
    "Answer: \n",
    "\n",
    "\"\"\"\n",
    "\n",
    "prompt = PromptTemplate(\n",
    "  template=template, \n",
    "  input_variables=[\"context\", \"question\"]\n",
    ")"
   ]
  },
  {
   "cell_type": "code",
   "execution_count": 44,
   "id": "8d410899",
   "metadata": {},
   "outputs": [],
   "source": [
    "from langchain.schema.runnable import RunnablePassthrough\n",
    "from langchain.schema.output_parser import StrOutputParser\n",
    "\n",
    "rag_chain = (\n",
    "  {\"context\": local_db.as_retriever(),  \"question\": RunnablePassthrough()} \n",
    "  | prompt \n",
    "  | llm\n",
    "  | StrOutputParser() \n",
    ")"
   ]
  },
  {
   "cell_type": "code",
   "execution_count": 45,
   "id": "35e6860f",
   "metadata": {},
   "outputs": [
    {
     "name": "stdout",
     "output_type": "stream",
     "text": [
      "\n",
      "You are a Expert about movie. you will be asked about plot or genre based on movie name. \n",
      "Use following piece of context to answer the question. \n",
      "If you don't know the answer, just say you don't know. \n",
      "Keep the answer within 2 sentences and concise.\n",
      "\n",
      "Context: [Document(metadata={'source': '/content/sample_data/movies_cleaned_data.csv', 'row': 15}, page_content=\"movie_id: 24448645\\nplot: Despite Lucy's reservations, she agrees to her husband’s request to attend a wild party of lust and sexual exploration on a remote island. Their passion soon turns to terror when they discover that one of the group has disappeared. Some start to believe there is something evil lurking in the forest while others begin to suspect each other. Lucy's biggest fear was that the weekend could ruin her marriage, she didn't realize it could cost her her life too.\\nmovie_name: Forest of the Damned 2\\ngenre: ['Horror']\"), Document(metadata={'source': '/content/sample_data/movies_cleaned_data.csv', 'row': 25052}, page_content=\"movie_id: 10538836\\nplot: A forest full of fallen angels who seduce their victims first, and then kill them. Five friends have a car accident and get into their catches. It flares up a deadly battle in which fear and seduction lay a trail of blood. These angels have an insatiable appetite for human flesh and drag you straight to hell!\\nmovie_name: Forest of the damned\\ngenre: ['Zombie Film', 'Horror']\"), Document(metadata={'source': '/content/sample_data/movies_cleaned_data.csv', 'row': 35719}, page_content=\"movie_id: 11650705\\nplot: Two groups of friends find themselves stranded at an isolated campground. When the first group is slaughtered overnight by an unseen evil, the second group arrives. Relentless terror begins as campers are transformed into bloodthirsty cannibalistic zombies that stalk, chase and eat their own friends.\\nmovie_name: Forest Of The Dead\\ngenre: ['Horror', 'Slasher']\"), Document(metadata={'source': '/content/sample_data/movies_cleaned_data.csv', 'row': 1064}, page_content='movie_id: 17776753\\nplot: The plot involves an antagonist, Mrs. D\\'Abondo, who wants the forest in which characters such as Furi and Oak the Tree live to be cut down to make way for a highway.\\nmovie_name: Spirit of the Forest\\ngenre: [\\'Family Film\\', \"Children\\'s/Family\", \\'Fairy tale\\', \\'Comedy\\', \\'Animation\\']')]\n",
      "Question: what is the plot for movie Forest of the Damned 2\n",
      "Answer: \n",
      "\n",
      "The plot of \"Forest of the Damned 2\" involves Lucy and her husband attending a wild party on a remote island, where things turn terrifying when someone goes missing. Suspicions and fears arise, and Lucy realizes that the weekend could cost her life.\n"
     ]
    }
   ],
   "source": [
    "result = rag_chain.invoke(\"what is the plot for movie Forest of the Damned 2\")\n",
    "print(result)"
   ]
  },
  {
   "cell_type": "code",
   "execution_count": 46,
   "id": "41e77d65",
   "metadata": {},
   "outputs": [
    {
     "name": "stdout",
     "output_type": "stream",
     "text": [
      "\n",
      "You are a Expert about movie. you will be asked about plot or genre based on movie name. \n",
      "Use following piece of context to answer the question. \n",
      "If you don't know the answer, just say you don't know. \n",
      "Keep the answer within 2 sentences and concise.\n",
      "\n",
      "Context: [Document(metadata={'source': '/content/sample_data/movies_cleaned_data.csv', 'row': 15}, page_content=\"movie_id: 24448645\\nplot: Despite Lucy's reservations, she agrees to her husband’s request to attend a wild party of lust and sexual exploration on a remote island. Their passion soon turns to terror when they discover that one of the group has disappeared. Some start to believe there is something evil lurking in the forest while others begin to suspect each other. Lucy's biggest fear was that the weekend could ruin her marriage, she didn't realize it could cost her her life too.\\nmovie_name: Forest of the Damned 2\\ngenre: ['Horror']\"), Document(metadata={'source': '/content/sample_data/movies_cleaned_data.csv', 'row': 25052}, page_content=\"movie_id: 10538836\\nplot: A forest full of fallen angels who seduce their victims first, and then kill them. Five friends have a car accident and get into their catches. It flares up a deadly battle in which fear and seduction lay a trail of blood. These angels have an insatiable appetite for human flesh and drag you straight to hell!\\nmovie_name: Forest of the damned\\ngenre: ['Zombie Film', 'Horror']\"), Document(metadata={'source': '/content/sample_data/movies_cleaned_data.csv', 'row': 35719}, page_content=\"movie_id: 11650705\\nplot: Two groups of friends find themselves stranded at an isolated campground. When the first group is slaughtered overnight by an unseen evil, the second group arrives. Relentless terror begins as campers are transformed into bloodthirsty cannibalistic zombies that stalk, chase and eat their own friends.\\nmovie_name: Forest Of The Dead\\ngenre: ['Horror', 'Slasher']\"), Document(metadata={'source': '/content/sample_data/movies_cleaned_data.csv', 'row': 41517}, page_content='movie_id: 5105411\\nplot: Main character John McKenna  is a spiritual being who is able to transform into bear, wolf or eagle. He lives in the forests of Tanglewood and has dedicated his life to protect them. One day a gang of evil loggers led by Travis Thorne  arrive in Tanglewood to chop the forest down. McKenna cannot let this happen, and together with his new friends - Lords of the Tanglewood, a band of children who love to play in the forest - he battles against Thorne and his evil gang.\\nmovie_name: Forest Warrior\\ngenre: [\\'Adventure\\', \"Children\\'s/Family\", \\'Action/Adventure\\', \\'Fantasy\\', \\'Comedy\\', \\'Action\\', \\'Family-Oriented Adventure\\', \"Children\\'s Fantasy\"]')]\n",
      "Question: what is genre for movie Forest of the Damned 2\n",
      "Answer: \n",
      "\n",
      "Horror\n"
     ]
    }
   ],
   "source": [
    "result = rag_chain.invoke(\"what is genre for movie Forest of the Damned 2\") #['Action', 'Drama', 'Adventure']\n",
    "print(result)"
   ]
  },
  {
   "cell_type": "code",
   "execution_count": 47,
   "id": "93f58e80",
   "metadata": {},
   "outputs": [
    {
     "name": "stdout",
     "output_type": "stream",
     "text": [
      "\n",
      "You are a Expert about movie. you will be asked about plot or genre based on movie name. \n",
      "Use following piece of context to answer the question. \n",
      "If you don't know the answer, just say you don't know. \n",
      "Keep the answer within 2 sentences and concise.\n",
      "\n",
      "Context: [Document(metadata={'source': '/content/sample_data/movies_cleaned_data.csv', 'row': 3039}, page_content=\"movie_id: 36012788\\nplot: The Hunger Games: Catching Fire begins as Katniss Everdeen  has returned home safe after winning the 74th Annual Hunger Games along with fellow tribute Peeta Mellark . Winning means that they must turn around and leave their family and close friends, embarking on a Victor's Tour of the districts. Along the way Katniss senses that a rebellion is simmering, but the Capitol is still very much in control as President Snow  prepares the 75th Annual Hunger Games  – a competition that could change Panem forever.{{cite web}}\\nmovie_name: The Hunger Games: Catching Fire\\ngenre: []\"), Document(metadata={'source': '/content/sample_data/movies_cleaned_data.csv', 'row': 18905}, page_content=\"movie_id: 27804251\\nplot: The movie, based upon the novel of the same name by Naguib Mahfouz, examines the social conditions of Cairenes during the first decade of the twentieth century. In doing so, both the movie and novel deal extensively with the themes of poverty and death.\\nmovie_name: The Hunger\\ngenre: ['Romance Film', 'Drama']\"), Document(metadata={'source': '/content/sample_data/movies_cleaned_data.csv', 'row': 1}, page_content='movie_id: 31186339\\nplot: The nation of Panem consists of a wealthy Capitol and twelve poorer districts. As punishment for a past rebellion, each district must provide a boy and girl  between the ages of 12 and 18 selected by lottery  for the annual Hunger Games. The tributes must fight to the death in an arena; the sole survivor is rewarded with fame and wealth. In her first Reaping, 12-year-old Primrose Everdeen is chosen from District 12. Her older sister Katniss volunteers to take her place. Peeta Mellark, a baker\\'s son who once gave Katniss bread when she was starving, is the other District 12 tribute. Katniss and Peeta are taken to the Capitol, accompanied by their frequently drunk mentor, past victor Haymitch Abernathy. He warns them about the \"Career\" tributes who train intensively at special academies and almost always win. During a TV interview with Caesar Flickerman, Peeta unexpectedly reveals his love for Katniss. She is outraged, believing it to be a ploy to gain audience support, as \"sponsors\" may provide in-Games gifts of food, medicine, and tools. However, she discovers Peeta meant what he said. The televised Games begin with half of the tributes killed in the first few minutes; Katniss barely survives ignoring Haymitch\\'s advice to run away from the melee over the tempting supplies and weapons strewn in front of a structure called the Cornucopia. Peeta forms an uneasy alliance with the four Careers. They later find Katniss and corner her up a tree. Rue, hiding in a nearby tree, draws her attention to a poisonous tracker jacker nest hanging from a branch. Katniss drops it on her sleeping besiegers. They all scatter, except for Glimmer, who is killed by the insects. Hallucinating due to tracker jacker venom, Katniss is warned to run away by Peeta. Rue cares for Katniss for a couple of days until she recovers. Meanwhile, the alliance has gathered all the supplies into a pile. Katniss has Rue draw them off, then destroys the stockpile by setting off the mines planted around it. Furious, Cato kills the boy assigned to guard it. As Katniss runs from the scene, she hears Rue calling her name. She finds Rue trapped and releases her. Marvel, a tribute from District 1, throws a spear at Katniss, but she dodges the spear, causing it to stab Rue in the stomach instead. Katniss shoots him dead with an arrow. She then comforts the dying Rue with a song. Afterward, she gathers and arranges flowers around Rue\\'s body. When this is televised, it sparks a riot in Rue\\'s District 11. President Snow summons Seneca Crane, the Gamemaker, to express his displeasure at the way the Games are turning out. Since Katniss and Peeta have been presented to the public as \"star-crossed lovers\", Haymitch is able to convince Crane to make a rule change to avoid inciting further riots. It is announced that tributes from the same district can win as a pair. Upon hearing this, Katniss searches for Peeta and finds him with an infected sword wound in the leg. She portrays herself as deeply in love with him and gains a sponsor\\'s gift of soup. An announcer proclaims a feast, where the thing each survivor needs most will be provided. Peeta begs her not to risk getting him medicine. Katniss promises not to go, but after he falls asleep, she heads to the feast. Clove ambushes her and pins her down. As Clove gloats, Thresh, the other District 11 tribute, kills Clove after overhearing her tormenting Katniss about killing Rue. He spares Katniss \"just this time...for Rue\". The medicine works, keeping Peeta mobile. Foxface, the girl from District 5, dies from eating nightlock berries she stole from Peeta; neither knew they are highly poisonous. Crane changes the time of day in the arena to late at night and unleashes a pack of hound-like creatures to speed things up. They kill Thresh and force Katniss and Peeta to flee to the roof of the Cornucopia, where they encounter Cato. After a battle, Katniss wounds Cato with an arrow and Peeta hurls him to the creatures below. Katniss shoots Cato to spare him a prolonged death. With Peeta and Katniss apparently victorious, the rule change allowing two winners is suddenly revoked. Peeta tells Katniss to shoot him. Instead, she gives him half of the nightlock. However, before they can commit suicide, they are hastily proclaimed the victors of the 74th Hunger Games. Haymitch warns Katniss that she has made powerful enemies after her display of defiance. She and Peeta return to District 12, while Crane is locked in a room with a bowl of nightlock berries, and President Snow considers the situation.\\nmovie_name: The Hunger Games\\ngenre: [\\'Action/Adventure\\', \\'Science Fiction\\', \\'Action\\', \\'Drama\\']'), Document(metadata={'source': '/content/sample_data/movies_cleaned_data.csv', 'row': 11091}, page_content=\"movie_id: 19999286\\nplot: The movie focuses heavily on decisions made by the four main characters , which ultimately lead to the climax of the movie.\\nmovie_name: Casino Raiders\\ngenre: ['Crime Fiction', 'Crime Thriller', 'Chinese Movies']\")]\n",
      "Question: what is genre for movie The Hunger Games\n",
      "Answer: \n",
      "\n",
      "The Hunger Games belongs to the genres of Action/Adventure, Science Fiction, Action, and Drama.\n"
     ]
    }
   ],
   "source": [
    "result = rag_chain.invoke(\"what is genre for movie The Hunger Games\") #['Action', 'Drama', 'Adventure']\n",
    "print(result)"
   ]
  }
 ],
 "metadata": {
  "kernelspec": {
   "display_name": "Python 3",
   "language": "python",
   "name": "python3"
  },
  "language_info": {
   "codemirror_mode": {
    "name": "ipython",
    "version": 3
   },
   "file_extension": ".py",
   "mimetype": "text/x-python",
   "name": "python",
   "nbconvert_exporter": "python",
   "pygments_lexer": "ipython3",
   "version": "3.12.1"
  }
 },
 "nbformat": 4,
 "nbformat_minor": 5
}

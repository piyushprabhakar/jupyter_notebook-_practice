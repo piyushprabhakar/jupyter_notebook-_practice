{
 "cells": [
  {
   "cell_type": "code",
   "execution_count": 3,
   "id": "4d1a7929-44c5-4374-97dd-5818e65d220d",
   "metadata": {
    "tags": []
   },
   "outputs": [
    {
     "name": "stdout",
     "output_type": "stream",
     "text": [
      "Requirement already satisfied: langchain in /Users/piyushprabhakar/anaconda3/lib/python3.11/site-packages (0.2.16)\n",
      "Requirement already satisfied: PyYAML>=5.3 in /Users/piyushprabhakar/anaconda3/lib/python3.11/site-packages (from langchain) (6.0)\n",
      "Requirement already satisfied: SQLAlchemy<3,>=1.4 in /Users/piyushprabhakar/anaconda3/lib/python3.11/site-packages (from langchain) (1.4.39)\n",
      "Requirement already satisfied: aiohttp<4.0.0,>=3.8.3 in /Users/piyushprabhakar/anaconda3/lib/python3.11/site-packages (from langchain) (3.8.5)\n",
      "Collecting langchain-core<0.3.0,>=0.2.38 (from langchain)\n",
      "  Obtaining dependency information for langchain-core<0.3.0,>=0.2.38 from https://files.pythonhosted.org/packages/bc/02/2b2cf9550cee1a7ffa42fe60c55e2d0e7d397535609b42562611fb40e78d/langchain_core-0.2.41-py3-none-any.whl.metadata\n",
      "  Downloading langchain_core-0.2.41-py3-none-any.whl.metadata (6.2 kB)\n",
      "Requirement already satisfied: langchain-text-splitters<0.3.0,>=0.2.0 in /Users/piyushprabhakar/anaconda3/lib/python3.11/site-packages (from langchain) (0.2.4)\n",
      "Requirement already satisfied: langsmith<0.2.0,>=0.1.17 in /Users/piyushprabhakar/anaconda3/lib/python3.11/site-packages (from langchain) (0.1.129)\n",
      "Requirement already satisfied: numpy<2,>=1 in /Users/piyushprabhakar/anaconda3/lib/python3.11/site-packages (from langchain) (1.24.3)\n",
      "Requirement already satisfied: pydantic<3,>=1 in /Users/piyushprabhakar/anaconda3/lib/python3.11/site-packages (from langchain) (2.9.1)\n",
      "Requirement already satisfied: requests<3,>=2 in /Users/piyushprabhakar/anaconda3/lib/python3.11/site-packages (from langchain) (2.32.3)\n",
      "Requirement already satisfied: tenacity!=8.4.0,<9.0.0,>=8.1.0 in /Users/piyushprabhakar/anaconda3/lib/python3.11/site-packages (from langchain) (8.5.0)\n",
      "Requirement already satisfied: attrs>=17.3.0 in /Users/piyushprabhakar/anaconda3/lib/python3.11/site-packages (from aiohttp<4.0.0,>=3.8.3->langchain) (22.1.0)\n",
      "Requirement already satisfied: charset-normalizer<4.0,>=2.0 in /Users/piyushprabhakar/anaconda3/lib/python3.11/site-packages (from aiohttp<4.0.0,>=3.8.3->langchain) (2.0.4)\n",
      "Requirement already satisfied: multidict<7.0,>=4.5 in /Users/piyushprabhakar/anaconda3/lib/python3.11/site-packages (from aiohttp<4.0.0,>=3.8.3->langchain) (6.0.2)\n",
      "Requirement already satisfied: async-timeout<5.0,>=4.0.0a3 in /Users/piyushprabhakar/anaconda3/lib/python3.11/site-packages (from aiohttp<4.0.0,>=3.8.3->langchain) (4.0.2)\n",
      "Requirement already satisfied: yarl<2.0,>=1.0 in /Users/piyushprabhakar/anaconda3/lib/python3.11/site-packages (from aiohttp<4.0.0,>=3.8.3->langchain) (1.8.1)\n",
      "Requirement already satisfied: frozenlist>=1.1.1 in /Users/piyushprabhakar/anaconda3/lib/python3.11/site-packages (from aiohttp<4.0.0,>=3.8.3->langchain) (1.3.3)\n",
      "Requirement already satisfied: aiosignal>=1.1.2 in /Users/piyushprabhakar/anaconda3/lib/python3.11/site-packages (from aiohttp<4.0.0,>=3.8.3->langchain) (1.2.0)\n",
      "Requirement already satisfied: jsonpatch<2.0,>=1.33 in /Users/piyushprabhakar/anaconda3/lib/python3.11/site-packages (from langchain-core<0.3.0,>=0.2.38->langchain) (1.33)\n",
      "Requirement already satisfied: packaging<25,>=23.2 in /Users/piyushprabhakar/anaconda3/lib/python3.11/site-packages (from langchain-core<0.3.0,>=0.2.38->langchain) (24.1)\n",
      "Requirement already satisfied: typing-extensions>=4.7 in /Users/piyushprabhakar/anaconda3/lib/python3.11/site-packages (from langchain-core<0.3.0,>=0.2.38->langchain) (4.12.2)\n",
      "Requirement already satisfied: httpx<1,>=0.23.0 in /Users/piyushprabhakar/anaconda3/lib/python3.11/site-packages (from langsmith<0.2.0,>=0.1.17->langchain) (0.27.2)\n",
      "Requirement already satisfied: orjson<4.0.0,>=3.9.14 in /Users/piyushprabhakar/anaconda3/lib/python3.11/site-packages (from langsmith<0.2.0,>=0.1.17->langchain) (3.10.7)\n",
      "Requirement already satisfied: annotated-types>=0.6.0 in /Users/piyushprabhakar/anaconda3/lib/python3.11/site-packages (from pydantic<3,>=1->langchain) (0.7.0)\n",
      "Requirement already satisfied: pydantic-core==2.23.3 in /Users/piyushprabhakar/anaconda3/lib/python3.11/site-packages (from pydantic<3,>=1->langchain) (2.23.3)\n",
      "Requirement already satisfied: idna<4,>=2.5 in /Users/piyushprabhakar/anaconda3/lib/python3.11/site-packages (from requests<3,>=2->langchain) (3.4)\n",
      "Requirement already satisfied: urllib3<3,>=1.21.1 in /Users/piyushprabhakar/anaconda3/lib/python3.11/site-packages (from requests<3,>=2->langchain) (2.2.2)\n",
      "Requirement already satisfied: certifi>=2017.4.17 in /Users/piyushprabhakar/anaconda3/lib/python3.11/site-packages (from requests<3,>=2->langchain) (2024.7.4)\n",
      "Requirement already satisfied: greenlet!=0.4.17 in /Users/piyushprabhakar/anaconda3/lib/python3.11/site-packages (from SQLAlchemy<3,>=1.4->langchain) (2.0.1)\n",
      "Requirement already satisfied: anyio in /Users/piyushprabhakar/anaconda3/lib/python3.11/site-packages (from httpx<1,>=0.23.0->langsmith<0.2.0,>=0.1.17->langchain) (3.5.0)\n",
      "Requirement already satisfied: httpcore==1.* in /Users/piyushprabhakar/anaconda3/lib/python3.11/site-packages (from httpx<1,>=0.23.0->langsmith<0.2.0,>=0.1.17->langchain) (1.0.5)\n",
      "Requirement already satisfied: sniffio in /Users/piyushprabhakar/anaconda3/lib/python3.11/site-packages (from httpx<1,>=0.23.0->langsmith<0.2.0,>=0.1.17->langchain) (1.2.0)\n",
      "Requirement already satisfied: h11<0.15,>=0.13 in /Users/piyushprabhakar/anaconda3/lib/python3.11/site-packages (from httpcore==1.*->httpx<1,>=0.23.0->langsmith<0.2.0,>=0.1.17->langchain) (0.14.0)\n",
      "Requirement already satisfied: jsonpointer>=1.9 in /Users/piyushprabhakar/anaconda3/lib/python3.11/site-packages (from jsonpatch<2.0,>=1.33->langchain-core<0.3.0,>=0.2.38->langchain) (2.1)\n",
      "Downloading langchain_core-0.2.41-py3-none-any.whl (397 kB)\n",
      "\u001b[2K   \u001b[90m━━━━━━━━━━━━━━━━━━━━━━━━━━━━━━━━━━━━━━━━\u001b[0m \u001b[32m397.0/397.0 kB\u001b[0m \u001b[31m2.0 MB/s\u001b[0m eta \u001b[36m0:00:00\u001b[0m00:01\u001b[0m00:01\u001b[0mm\n",
      "\u001b[?25hInstalling collected packages: langchain-core\n",
      "  Attempting uninstall: langchain-core\n",
      "    Found existing installation: langchain-core 0.3.7\n",
      "    Uninstalling langchain-core-0.3.7:\n",
      "      Successfully uninstalled langchain-core-0.3.7\n",
      "\u001b[31mERROR: pip's dependency resolver does not currently take into account all the packages that are installed. This behaviour is the source of the following dependency conflicts.\n",
      "langchain-ollama 0.2.0 requires langchain-core<0.4.0,>=0.3.0, but you have langchain-core 0.2.41 which is incompatible.\u001b[0m\u001b[31m\n",
      "\u001b[0mSuccessfully installed langchain-core-0.2.41\n",
      "Requirement already satisfied: faiss-cpu in /Users/piyushprabhakar/anaconda3/lib/python3.11/site-packages (1.8.0.post1)\n",
      "Requirement already satisfied: numpy<2.0,>=1.0 in /Users/piyushprabhakar/anaconda3/lib/python3.11/site-packages (from faiss-cpu) (1.24.3)\n",
      "Requirement already satisfied: packaging in /Users/piyushprabhakar/anaconda3/lib/python3.11/site-packages (from faiss-cpu) (24.1)\n",
      "Requirement already satisfied: sentence-transformers in /Users/piyushprabhakar/anaconda3/lib/python3.11/site-packages (3.1.1)\n",
      "Requirement already satisfied: transformers<5.0.0,>=4.38.0 in /Users/piyushprabhakar/anaconda3/lib/python3.11/site-packages (from sentence-transformers) (4.44.2)\n",
      "Requirement already satisfied: tqdm in /Users/piyushprabhakar/anaconda3/lib/python3.11/site-packages (from sentence-transformers) (4.66.5)\n",
      "Requirement already satisfied: torch>=1.11.0 in /Users/piyushprabhakar/anaconda3/lib/python3.11/site-packages (from sentence-transformers) (2.2.2)\n",
      "Requirement already satisfied: scikit-learn in /Users/piyushprabhakar/anaconda3/lib/python3.11/site-packages (from sentence-transformers) (1.5.1)\n",
      "Requirement already satisfied: scipy in /Users/piyushprabhakar/anaconda3/lib/python3.11/site-packages (from sentence-transformers) (1.11.1)\n",
      "Requirement already satisfied: huggingface-hub>=0.19.3 in /Users/piyushprabhakar/anaconda3/lib/python3.11/site-packages (from sentence-transformers) (0.24.7)\n",
      "Requirement already satisfied: Pillow in /Users/piyushprabhakar/anaconda3/lib/python3.11/site-packages (from sentence-transformers) (9.4.0)\n",
      "Requirement already satisfied: filelock in /Users/piyushprabhakar/anaconda3/lib/python3.11/site-packages (from huggingface-hub>=0.19.3->sentence-transformers) (3.9.0)\n",
      "Requirement already satisfied: fsspec>=2023.5.0 in /Users/piyushprabhakar/anaconda3/lib/python3.11/site-packages (from huggingface-hub>=0.19.3->sentence-transformers) (2024.6.1)\n",
      "Requirement already satisfied: packaging>=20.9 in /Users/piyushprabhakar/anaconda3/lib/python3.11/site-packages (from huggingface-hub>=0.19.3->sentence-transformers) (24.1)\n",
      "Requirement already satisfied: pyyaml>=5.1 in /Users/piyushprabhakar/anaconda3/lib/python3.11/site-packages (from huggingface-hub>=0.19.3->sentence-transformers) (6.0)\n",
      "Requirement already satisfied: requests in /Users/piyushprabhakar/anaconda3/lib/python3.11/site-packages (from huggingface-hub>=0.19.3->sentence-transformers) (2.32.3)\n",
      "Requirement already satisfied: typing-extensions>=3.7.4.3 in /Users/piyushprabhakar/anaconda3/lib/python3.11/site-packages (from huggingface-hub>=0.19.3->sentence-transformers) (4.12.2)\n",
      "Requirement already satisfied: sympy in /Users/piyushprabhakar/anaconda3/lib/python3.11/site-packages (from torch>=1.11.0->sentence-transformers) (1.11.1)\n",
      "Requirement already satisfied: networkx in /Users/piyushprabhakar/anaconda3/lib/python3.11/site-packages (from torch>=1.11.0->sentence-transformers) (3.1)\n",
      "Requirement already satisfied: jinja2 in /Users/piyushprabhakar/anaconda3/lib/python3.11/site-packages (from torch>=1.11.0->sentence-transformers) (3.1.2)\n",
      "Requirement already satisfied: numpy>=1.17 in /Users/piyushprabhakar/anaconda3/lib/python3.11/site-packages (from transformers<5.0.0,>=4.38.0->sentence-transformers) (1.24.3)\n",
      "Requirement already satisfied: regex!=2019.12.17 in /Users/piyushprabhakar/anaconda3/lib/python3.11/site-packages (from transformers<5.0.0,>=4.38.0->sentence-transformers) (2022.7.9)\n",
      "Requirement already satisfied: safetensors>=0.4.1 in /Users/piyushprabhakar/anaconda3/lib/python3.11/site-packages (from transformers<5.0.0,>=4.38.0->sentence-transformers) (0.4.5)\n",
      "Requirement already satisfied: tokenizers<0.20,>=0.19 in /Users/piyushprabhakar/anaconda3/lib/python3.11/site-packages (from transformers<5.0.0,>=4.38.0->sentence-transformers) (0.19.1)\n",
      "Requirement already satisfied: joblib>=1.2.0 in /Users/piyushprabhakar/anaconda3/lib/python3.11/site-packages (from scikit-learn->sentence-transformers) (1.2.0)\n",
      "Requirement already satisfied: threadpoolctl>=3.1.0 in /Users/piyushprabhakar/anaconda3/lib/python3.11/site-packages (from scikit-learn->sentence-transformers) (3.5.0)\n",
      "Requirement already satisfied: MarkupSafe>=2.0 in /Users/piyushprabhakar/anaconda3/lib/python3.11/site-packages (from jinja2->torch>=1.11.0->sentence-transformers) (2.1.1)\n",
      "Requirement already satisfied: charset-normalizer<4,>=2 in /Users/piyushprabhakar/anaconda3/lib/python3.11/site-packages (from requests->huggingface-hub>=0.19.3->sentence-transformers) (2.0.4)\n",
      "Requirement already satisfied: idna<4,>=2.5 in /Users/piyushprabhakar/anaconda3/lib/python3.11/site-packages (from requests->huggingface-hub>=0.19.3->sentence-transformers) (3.4)\n",
      "Requirement already satisfied: urllib3<3,>=1.21.1 in /Users/piyushprabhakar/anaconda3/lib/python3.11/site-packages (from requests->huggingface-hub>=0.19.3->sentence-transformers) (2.2.2)\n",
      "Requirement already satisfied: certifi>=2017.4.17 in /Users/piyushprabhakar/anaconda3/lib/python3.11/site-packages (from requests->huggingface-hub>=0.19.3->sentence-transformers) (2024.7.4)\n",
      "Requirement already satisfied: mpmath>=0.19 in /Users/piyushprabhakar/anaconda3/lib/python3.11/site-packages (from sympy->torch>=1.11.0->sentence-transformers) (1.3.0)\n"
     ]
    }
   ],
   "source": [
    "!pip install langchain\n",
    "!pip install faiss-cpu\n",
    "!pip install -U sentence-transformers\n",
    "!pip install -U langchain-openai"
   ]
  },
  {
   "cell_type": "markdown",
   "id": "7597a64e-92b1-4ebc-9ad7-c95f099d2c65",
   "metadata": {
    "tags": []
   },
   "source": [
    "## EDA"
   ]
  },
  {
   "cell_type": "code",
   "execution_count": 4,
   "id": "c2adbe62-40a5-47c7-817f-1c8a3ccd5da7",
   "metadata": {
    "tags": []
   },
   "outputs": [],
   "source": [
    "import pandas as pd"
   ]
  },
  {
   "cell_type": "code",
   "execution_count": 5,
   "id": "5e7e58c0-3bad-4885-bc71-24a9393221e7",
   "metadata": {
    "tags": []
   },
   "outputs": [
    {
     "data": {
      "text/html": [
       "<div>\n",
       "<style scoped>\n",
       "    .dataframe tbody tr th:only-of-type {\n",
       "        vertical-align: middle;\n",
       "    }\n",
       "\n",
       "    .dataframe tbody tr th {\n",
       "        vertical-align: top;\n",
       "    }\n",
       "\n",
       "    .dataframe thead th {\n",
       "        text-align: right;\n",
       "    }\n",
       "</style>\n",
       "<table border=\"1\" class=\"dataframe\">\n",
       "  <thead>\n",
       "    <tr style=\"text-align: right;\">\n",
       "      <th></th>\n",
       "      <th>Unnamed: 0</th>\n",
       "      <th>label</th>\n",
       "      <th>text</th>\n",
       "    </tr>\n",
       "  </thead>\n",
       "  <tbody>\n",
       "    <tr>\n",
       "      <th>0</th>\n",
       "      <td>0</td>\n",
       "      <td>Psoriasis</td>\n",
       "      <td>I have been experiencing a skin rash on my arm...</td>\n",
       "    </tr>\n",
       "    <tr>\n",
       "      <th>1</th>\n",
       "      <td>1</td>\n",
       "      <td>Psoriasis</td>\n",
       "      <td>My skin has been peeling, especially on my kne...</td>\n",
       "    </tr>\n",
       "    <tr>\n",
       "      <th>2</th>\n",
       "      <td>2</td>\n",
       "      <td>Psoriasis</td>\n",
       "      <td>I have been experiencing joint pain in my fing...</td>\n",
       "    </tr>\n",
       "    <tr>\n",
       "      <th>3</th>\n",
       "      <td>3</td>\n",
       "      <td>Psoriasis</td>\n",
       "      <td>There is a silver like dusting on my skin, esp...</td>\n",
       "    </tr>\n",
       "    <tr>\n",
       "      <th>4</th>\n",
       "      <td>4</td>\n",
       "      <td>Psoriasis</td>\n",
       "      <td>My nails have small dents or pits in them, and...</td>\n",
       "    </tr>\n",
       "  </tbody>\n",
       "</table>\n",
       "</div>"
      ],
      "text/plain": [
       "   Unnamed: 0      label                                               text\n",
       "0           0  Psoriasis  I have been experiencing a skin rash on my arm...\n",
       "1           1  Psoriasis  My skin has been peeling, especially on my kne...\n",
       "2           2  Psoriasis  I have been experiencing joint pain in my fing...\n",
       "3           3  Psoriasis  There is a silver like dusting on my skin, esp...\n",
       "4           4  Psoriasis  My nails have small dents or pits in them, and..."
      ]
     },
     "execution_count": 5,
     "metadata": {},
     "output_type": "execute_result"
    }
   ],
   "source": [
    "df= pd.read_csv(\"Symptom2Disease.csv\")\n",
    "df.head()"
   ]
  },
  {
   "cell_type": "code",
   "execution_count": 6,
   "id": "c731748b-6f7d-4bd7-bb80-474ca11ed8f2",
   "metadata": {},
   "outputs": [],
   "source": [
    "df.drop('Unnamed: 0',axis=1,inplace=True)"
   ]
  },
  {
   "cell_type": "code",
   "execution_count": 7,
   "id": "7a919886-bb45-404c-bdb8-850e917a7fe2",
   "metadata": {
    "tags": []
   },
   "outputs": [],
   "source": [
    "df.rename(columns={'label': 'label_name', 'text':'text'},inplace=True)"
   ]
  },
  {
   "cell_type": "code",
   "execution_count": 8,
   "id": "f2300c04-ca25-47d7-89cc-0d75abe01520",
   "metadata": {
    "tags": []
   },
   "outputs": [
    {
     "data": {
      "text/html": [
       "<div>\n",
       "<style scoped>\n",
       "    .dataframe tbody tr th:only-of-type {\n",
       "        vertical-align: middle;\n",
       "    }\n",
       "\n",
       "    .dataframe tbody tr th {\n",
       "        vertical-align: top;\n",
       "    }\n",
       "\n",
       "    .dataframe thead th {\n",
       "        text-align: right;\n",
       "    }\n",
       "</style>\n",
       "<table border=\"1\" class=\"dataframe\">\n",
       "  <thead>\n",
       "    <tr style=\"text-align: right;\">\n",
       "      <th></th>\n",
       "      <th>label_name</th>\n",
       "      <th>text</th>\n",
       "    </tr>\n",
       "  </thead>\n",
       "  <tbody>\n",
       "    <tr>\n",
       "      <th>0</th>\n",
       "      <td>Psoriasis</td>\n",
       "      <td>I have been experiencing a skin rash on my arm...</td>\n",
       "    </tr>\n",
       "    <tr>\n",
       "      <th>1</th>\n",
       "      <td>Psoriasis</td>\n",
       "      <td>My skin has been peeling, especially on my kne...</td>\n",
       "    </tr>\n",
       "    <tr>\n",
       "      <th>2</th>\n",
       "      <td>Psoriasis</td>\n",
       "      <td>I have been experiencing joint pain in my fing...</td>\n",
       "    </tr>\n",
       "    <tr>\n",
       "      <th>3</th>\n",
       "      <td>Psoriasis</td>\n",
       "      <td>There is a silver like dusting on my skin, esp...</td>\n",
       "    </tr>\n",
       "    <tr>\n",
       "      <th>4</th>\n",
       "      <td>Psoriasis</td>\n",
       "      <td>My nails have small dents or pits in them, and...</td>\n",
       "    </tr>\n",
       "  </tbody>\n",
       "</table>\n",
       "</div>"
      ],
      "text/plain": [
       "  label_name                                               text\n",
       "0  Psoriasis  I have been experiencing a skin rash on my arm...\n",
       "1  Psoriasis  My skin has been peeling, especially on my kne...\n",
       "2  Psoriasis  I have been experiencing joint pain in my fing...\n",
       "3  Psoriasis  There is a silver like dusting on my skin, esp...\n",
       "4  Psoriasis  My nails have small dents or pits in them, and..."
      ]
     },
     "execution_count": 8,
     "metadata": {},
     "output_type": "execute_result"
    }
   ],
   "source": [
    "df.head()"
   ]
  },
  {
   "cell_type": "code",
   "execution_count": 9,
   "id": "91cfec67-5b9b-4ac4-b405-4c7fe2b0604d",
   "metadata": {
    "tags": []
   },
   "outputs": [
    {
     "name": "stdout",
     "output_type": "stream",
     "text": [
      "['Psoriasis' 'Varicose Veins' 'Typhoid' 'Chicken pox' 'Impetigo' 'Dengue'\n",
      " 'Fungal infection' 'Common Cold' 'Pneumonia' 'Dimorphic Hemorrhoids'\n",
      " 'Arthritis' 'Acne' 'Bronchial Asthma' 'Hypertension' 'Migraine'\n",
      " 'Cervical spondylosis' 'Jaundice' 'Malaria' 'urinary tract infection'\n",
      " 'allergy' 'gastroesophageal reflux disease' 'drug reaction'\n",
      " 'peptic ulcer disease' 'diabetes']\n",
      "<class 'numpy.ndarray'>\n"
     ]
    }
   ],
   "source": [
    "a = df['label_name'].unique()\n",
    "print(a)\n",
    "print(type(a))"
   ]
  },
  {
   "cell_type": "code",
   "execution_count": 10,
   "id": "75bcb357-6038-4e7b-873c-355a460bcb7c",
   "metadata": {
    "tags": []
   },
   "outputs": [
    {
     "data": {
      "text/plain": [
       "['Acne',\n",
       " 'Arthritis',\n",
       " 'Bronchial Asthma',\n",
       " 'Cervical spondylosis',\n",
       " 'Chicken pox',\n",
       " 'Common Cold',\n",
       " 'Dengue',\n",
       " 'Dimorphic Hemorrhoids',\n",
       " 'Fungal infection',\n",
       " 'Hypertension',\n",
       " 'Impetigo',\n",
       " 'Jaundice',\n",
       " 'Malaria',\n",
       " 'Migraine',\n",
       " 'Pneumonia',\n",
       " 'Psoriasis',\n",
       " 'Typhoid',\n",
       " 'Varicose Veins',\n",
       " 'allergy',\n",
       " 'diabetes',\n",
       " 'drug reaction',\n",
       " 'gastroesophageal reflux disease',\n",
       " 'peptic ulcer disease',\n",
       " 'urinary tract infection']"
      ]
     },
     "execution_count": 10,
     "metadata": {},
     "output_type": "execute_result"
    }
   ],
   "source": [
    "# sort target data\n",
    "target=['Psoriasis', 'Varicose Veins', 'Typhoid', 'Chicken pox',\n",
    "       'Impetigo', 'Dengue', 'Fungal infection', 'Common Cold',\n",
    "       'Pneumonia', 'Dimorphic Hemorrhoids', 'Arthritis', 'Acne',\n",
    "       'Bronchial Asthma', 'Hypertension', 'Migraine',\n",
    "       'Cervical spondylosis', 'Jaundice', 'Malaria',\n",
    "       'urinary tract infection', 'allergy',\n",
    "       'gastroesophageal reflux disease', 'drug reaction',\n",
    "       'peptic ulcer disease', 'diabetes']\n",
    "real_target= sorted(target)\n",
    "real_target"
   ]
  },
  {
   "cell_type": "markdown",
   "id": "321adfff-1f8b-4dfa-827d-2bdcbc1d4500",
   "metadata": {
    "tags": []
   },
   "source": [
    "## Data ingestion"
   ]
  },
  {
   "cell_type": "code",
   "execution_count": 12,
   "id": "6479afac-fcaf-4ba0-b506-1efb01e87fcd",
   "metadata": {
    "tags": []
   },
   "outputs": [],
   "source": [
    "from langchain.document_loaders import CSVLoader\n",
    "from langchain.text_splitter import CharacterTextSplitter\n",
    "\n",
    "# Load the CSV document\n",
    "loader = CSVLoader(file_path=\"Symptom2Disease.csv\")\n",
    "documents = loader.load()\n",
    "# Split documents into smaller chunks (optional)\n",
    "text_splitter = CharacterTextSplitter(chunk_size=400, chunk_overlap=0)\n",
    "docs = text_splitter.split_documents(documents)\n",
    "\n",
    "# Use the documents in your LangChain application\n",
    "#print(docs)  # Output: List of Document objects\n"
   ]
  },
  {
   "cell_type": "code",
   "execution_count": 13,
   "id": "8570227a-9c96-4a35-afe0-0fd98e65577a",
   "metadata": {
    "tags": []
   },
   "outputs": [
    {
     "data": {
      "text/plain": [
       "Document(metadata={'source': 'Symptom2Disease.csv', 'row': 0}, page_content=': 0\\nlabel: Psoriasis\\ntext: I have been experiencing a skin rash on my arms, legs, and torso for the past few weeks. It is red, itchy, and covered in dry, scaly patches.')"
      ]
     },
     "execution_count": 13,
     "metadata": {},
     "output_type": "execute_result"
    }
   ],
   "source": [
    "docs[0]"
   ]
  },
  {
   "cell_type": "code",
   "execution_count": 77,
   "id": "ec9281ed-8385-4cfd-bd81-3275d0f9e068",
   "metadata": {
    "tags": []
   },
   "outputs": [
    {
     "data": {
      "text/plain": [
       "'\\nfrom langchain_community.embeddings import OllamaEmbeddings\\n\\nembeddings=(\\n    OllamaEmbeddings(model=\"llama3.2:1b\") #llama3.2:1b #llama3.1\\n)\\n'"
      ]
     },
     "execution_count": 77,
     "metadata": {},
     "output_type": "execute_result"
    }
   ],
   "source": [
    "from langchain_community.embeddings import OllamaEmbeddings\n",
    "\n",
    "embeddings=(\n",
    "    OllamaEmbeddings(model=\"llama3.2:1b\") #llama3.2:1b #llama3.1\n",
    ")\n",
    "# Refrence doc : https://ollama.com/blog/embedding-models\n",
    "\n",
    "#db=FAISS.from_documents(docs,embeddings)\n",
    "#db # Takes lot of time my laptop is not able to process it \n"
   ]
  },
  {
   "cell_type": "code",
   "execution_count": 9,
   "id": "09a61ea2-3e22-4793-953c-68a4c676eab9",
   "metadata": {
    "tags": []
   },
   "outputs": [
    {
     "data": {
      "text/plain": [
       "OllamaEmbeddings(base_url='http://localhost:11434', model='llama3.2:1b', embed_instruction='passage: ', query_instruction='query: ', mirostat=None, mirostat_eta=None, mirostat_tau=None, num_ctx=None, num_gpu=None, num_thread=None, repeat_last_n=None, repeat_penalty=None, temperature=None, stop=None, tfs_z=None, top_k=None, top_p=None, show_progress=False, headers=None, model_kwargs=None)"
      ]
     },
     "execution_count": 9,
     "metadata": {},
     "output_type": "execute_result"
    }
   ],
   "source": [
    "embeddings"
   ]
  },
  {
   "cell_type": "code",
   "execution_count": 14,
   "id": "55687e61-ca6d-443f-8e07-f5e75431650e",
   "metadata": {
    "tags": []
   },
   "outputs": [
    {
     "name": "stderr",
     "output_type": "stream",
     "text": [
      "/var/folders/k0/r9q8frbj00n77npfmkp_j3xm0000gn/T/ipykernel_17615/3419084168.py:2: LangChainDeprecationWarning: The class `HuggingFaceEmbeddings` was deprecated in LangChain 0.2.2 and will be removed in 1.0. An updated version of the class exists in the :class:`~langchain-huggingface package and should be used instead. To use it run `pip install -U :class:`~langchain-huggingface` and import as `from :class:`~langchain_huggingface import HuggingFaceEmbeddings``.\n",
      "  embeddings = HuggingFaceEmbeddings(model_name=\"sentence-transformers/all-MiniLM-L6-v2\")\n",
      "/Users/piyushprabhakar/anaconda3/lib/python3.11/site-packages/sentence_transformers/cross_encoder/CrossEncoder.py:13: TqdmExperimentalWarning: Using `tqdm.autonotebook.tqdm` in notebook mode. Use `tqdm.tqdm` instead to force console mode (e.g. in jupyter console)\n",
      "  from tqdm.autonotebook import tqdm, trange\n",
      "2024-10-02 17:55:15.470303: I tensorflow/core/platform/cpu_feature_guard.cc:210] This TensorFlow binary is optimized to use available CPU instructions in performance-critical operations.\n",
      "To enable the following instructions: AVX2 FMA, in other operations, rebuild TensorFlow with the appropriate compiler flags.\n",
      "/Users/piyushprabhakar/anaconda3/lib/python3.11/site-packages/transformers/tokenization_utils_base.py:1601: FutureWarning: `clean_up_tokenization_spaces` was not set. It will be set to `True` by default. This behavior will be depracted in transformers v4.45, and will be then set to `False` by default. For more details check this issue: https://github.com/huggingface/transformers/issues/31884\n",
      "  warnings.warn(\n"
     ]
    }
   ],
   "source": [
    "from langchain.embeddings import HuggingFaceEmbeddings\n",
    "embeddings = HuggingFaceEmbeddings(model_name=\"sentence-transformers/all-MiniLM-L6-v2\")"
   ]
  },
  {
   "cell_type": "code",
   "execution_count": 48,
   "id": "3d292e41-4b76-4243-a1ea-da5e5399b1c1",
   "metadata": {
    "tags": []
   },
   "outputs": [
    {
     "data": {
      "text/plain": [
       "HuggingFaceEmbeddings(client=SentenceTransformer(\n",
       "  (0): Transformer({'max_seq_length': 256, 'do_lower_case': False}) with Transformer model: BertModel \n",
       "  (1): Pooling({'word_embedding_dimension': 384, 'pooling_mode_cls_token': False, 'pooling_mode_mean_tokens': True, 'pooling_mode_max_tokens': False, 'pooling_mode_mean_sqrt_len_tokens': False, 'pooling_mode_weightedmean_tokens': False, 'pooling_mode_lasttoken': False, 'include_prompt': True})\n",
       "  (2): Normalize()\n",
       "), model_name='sentence-transformers/all-MiniLM-L6-v2', cache_folder=None, model_kwargs={}, encode_kwargs={}, multi_process=False, show_progress=False)"
      ]
     },
     "execution_count": 48,
     "metadata": {},
     "output_type": "execute_result"
    }
   ],
   "source": [
    "embeddings"
   ]
  },
  {
   "cell_type": "raw",
   "id": "20982b7d-ff38-4963-895e-00abf2fe2905",
   "metadata": {},
   "source": [
    "## Open AI Embedding\n",
    "from langchain_openai import OpenAIEmbeddings\n",
    "embeddings=OpenAIEmbeddings(model=\"text-embedding-3-large\")\n",
    "embeddings\n",
    "\n",
    "text=\"This is a tutorial on OPENAI embedding\"\n",
    "query_result=embeddings.embed_query(text)\n",
    "query_result"
   ]
  },
  {
   "cell_type": "markdown",
   "id": "d1ba8c39-d832-4a5f-8616-232ad1ccb54e",
   "metadata": {},
   "source": [
    "## FAISS"
   ]
  },
  {
   "cell_type": "code",
   "execution_count": 15,
   "id": "b83b5155-0927-41e2-81a7-f4d22b6df110",
   "metadata": {
    "tags": []
   },
   "outputs": [],
   "source": [
    "from langchain_community.vectorstores import FAISS"
   ]
  },
  {
   "cell_type": "code",
   "execution_count": 16,
   "id": "31aa47d7-bd24-4d7b-bea8-b3471cf09e86",
   "metadata": {
    "tags": []
   },
   "outputs": [
    {
     "data": {
      "text/plain": [
       "<langchain_community.vectorstores.faiss.FAISS at 0x16b07fd90>"
      ]
     },
     "execution_count": 16,
     "metadata": {},
     "output_type": "execute_result"
    }
   ],
   "source": [
    "db=FAISS.from_documents(docs,embeddings)\n",
    "db # Takes less time with hugging face embedding # System hang with Olama embedding"
   ]
  },
  {
   "cell_type": "code",
   "execution_count": 17,
   "id": "59af6c53-daa0-4de5-8ce8-b441917a7cd9",
   "metadata": {},
   "outputs": [
    {
     "data": {
      "text/plain": [
       "': 1\\nlabel: Psoriasis\\ntext: My skin has been peeling, especially on my knees, elbows, and scalp. This peeling is often accompanied by a burning or stinging sensation.'"
      ]
     },
     "execution_count": 17,
     "metadata": {},
     "output_type": "execute_result"
    }
   ],
   "source": [
    "### querying \n",
    "query=\"My skin has been peeling, especially on my knees, elbows, and scalp. This peeling is often accompanied by a burning or stinging sensation.\"\n",
    "docs=db.similarity_search(query)\n",
    "docs[0].page_content"
   ]
  },
  {
   "cell_type": "markdown",
   "id": "7c25703c-0403-40bc-bc87-4a1961e13457",
   "metadata": {
    "tags": []
   },
   "source": [
    "#### As a Retriever\n",
    "We can also convert the vectorstore into a Retriever class. This allows us to easily use it in other LangChain methods, which largely work with retrievers"
   ]
  },
  {
   "cell_type": "code",
   "execution_count": 18,
   "id": "5b37eb48-6e0c-4ceb-bc69-4979dd4ad1fe",
   "metadata": {},
   "outputs": [
    {
     "data": {
      "text/plain": [
       "': 1\\nlabel: Psoriasis\\ntext: My skin has been peeling, especially on my knees, elbows, and scalp. This peeling is often accompanied by a burning or stinging sensation.'"
      ]
     },
     "execution_count": 18,
     "metadata": {},
     "output_type": "execute_result"
    }
   ],
   "source": [
    "retriever=db.as_retriever()\n",
    "docs=retriever.invoke(query)\n",
    "docs[0].page_content"
   ]
  },
  {
   "cell_type": "markdown",
   "id": "fdd389eb-a5d2-47af-bc2d-ec3f6c88fba8",
   "metadata": {},
   "source": [
    "#### Similarity Search with score\n",
    "There are some FAISS specific methods. One of them is similarity_search_with_score, which allows you to return not only the documents but also the distance score of the query to them. The returned distance score is L2 distance. Therefore, a lower score is better."
   ]
  },
  {
   "cell_type": "code",
   "execution_count": 19,
   "id": "77158a3a-4ee7-4c32-a90c-8114d8d7e263",
   "metadata": {},
   "outputs": [
    {
     "data": {
      "text/plain": [
       "[(Document(metadata={'source': 'Symptom2Disease.csv', 'row': 1}, page_content=': 1\\nlabel: Psoriasis\\ntext: My skin has been peeling, especially on my knees, elbows, and scalp. This peeling is often accompanied by a burning or stinging sensation.'),\n",
       "  0.2501623),\n",
       " (Document(metadata={'source': 'Symptom2Disease.csv', 'row': 22}, page_content=': 22\\nlabel: Psoriasis\\ntext: My skin is peeling, particularly on my knees, elbows, and scalp. This peeling is frequently accompanied by a stinging or burning feeling.'),\n",
       "  0.287296),\n",
       " (Document(metadata={'source': 'Symptom2Disease.csv', 'row': 39}, page_content=': 39\\nlabel: Psoriasis\\ntext: My skin is peeling in places, especially on my knees, elbows, and arms. This peeling is often accompanied by a painful or burning sensation. I am also developing small dents on my nails, which is really concerning.'),\n",
       "  0.40929204),\n",
       " (Document(metadata={'source': 'Symptom2Disease.csv', 'row': 8}, page_content=': 8\\nlabel: Psoriasis\\ntext: I have noticed a sudden peeling of skin at different parts of my body, mainly arms, legs and back. Also, I face severe joint pain and skin rashes.'),\n",
       "  0.5747305)]"
      ]
     },
     "execution_count": 19,
     "metadata": {},
     "output_type": "execute_result"
    }
   ],
   "source": [
    "docs_and_score=db.similarity_search_with_score(query)\n",
    "docs_and_score"
   ]
  },
  {
   "cell_type": "code",
   "execution_count": 20,
   "id": "bfed8493-6cc7-4a99-a620-5ccf57b3f2bc",
   "metadata": {},
   "outputs": [],
   "source": [
    "embedding_vector=embeddings.embed_query(query)\n",
    "#embedding_vector"
   ]
  },
  {
   "cell_type": "code",
   "execution_count": 21,
   "id": "ed936d52-b1de-4ee5-87df-6d6ca1fe5965",
   "metadata": {},
   "outputs": [],
   "source": [
    "docs_score=db.similarity_search_by_vector(embedding_vector)\n",
    "#docs_score"
   ]
  },
  {
   "cell_type": "code",
   "execution_count": 22,
   "id": "f456678d-720e-47e4-8360-f9db37eab7ef",
   "metadata": {},
   "outputs": [],
   "source": [
    "### Saving And Loading\n",
    "db.save_local(\"faiss_index\")"
   ]
  },
  {
   "cell_type": "code",
   "execution_count": 24,
   "id": "f55a8ec4-7796-4d04-b427-7d3ec5abc571",
   "metadata": {},
   "outputs": [
    {
     "data": {
      "text/plain": [
       "[Document(metadata={'source': 'Symptom2Disease.csv', 'row': 1}, page_content=': 1\\nlabel: Psoriasis\\ntext: My skin has been peeling, especially on my knees, elbows, and scalp. This peeling is often accompanied by a burning or stinging sensation.'),\n",
       " Document(metadata={'source': 'Symptom2Disease.csv', 'row': 22}, page_content=': 22\\nlabel: Psoriasis\\ntext: My skin is peeling, particularly on my knees, elbows, and scalp. This peeling is frequently accompanied by a stinging or burning feeling.'),\n",
       " Document(metadata={'source': 'Symptom2Disease.csv', 'row': 39}, page_content=': 39\\nlabel: Psoriasis\\ntext: My skin is peeling in places, especially on my knees, elbows, and arms. This peeling is often accompanied by a painful or burning sensation. I am also developing small dents on my nails, which is really concerning.'),\n",
       " Document(metadata={'source': 'Symptom2Disease.csv', 'row': 8}, page_content=': 8\\nlabel: Psoriasis\\ntext: I have noticed a sudden peeling of skin at different parts of my body, mainly arms, legs and back. Also, I face severe joint pain and skin rashes.')]"
      ]
     },
     "execution_count": 24,
     "metadata": {},
     "output_type": "execute_result"
    }
   ],
   "source": [
    "local_db=FAISS.load_local(\"faiss_index\",embeddings,allow_dangerous_deserialization=True)\n",
    "docs=local_db.similarity_search(query)\n",
    "docs"
   ]
  },
  {
   "cell_type": "code",
   "execution_count": 25,
   "id": "e2488516-9d32-4e80-9526-1b04eaa092a1",
   "metadata": {
    "tags": []
   },
   "outputs": [
    {
     "data": {
      "text/plain": [
       "Document(metadata={'source': 'Symptom2Disease.csv', 'row': 1}, page_content=': 1\\nlabel: Psoriasis\\ntext: My skin has been peeling, especially on my knees, elbows, and scalp. This peeling is often accompanied by a burning or stinging sensation.')"
      ]
     },
     "execution_count": 25,
     "metadata": {},
     "output_type": "execute_result"
    }
   ],
   "source": [
    "docs[0]"
   ]
  },
  {
   "cell_type": "markdown",
   "id": "ae247603-2632-46e5-afaf-af08b0723eb8",
   "metadata": {
    "tags": []
   },
   "source": [
    "### Intent Classification"
   ]
  },
  {
   "cell_type": "code",
   "execution_count": 151,
   "id": "19e8df41-09bb-4ec8-b962-2955d8257db4",
   "metadata": {
    "tags": []
   },
   "outputs": [],
   "source": [
    "class TopicClassifier:\n",
    "    def __init__(self, llm):\n",
    "        self.llm = llm\n",
    "        self.topics = real_target\n",
    "\n",
    "    def classify(self, query):\n",
    "        prompt = f\"Classify the following question into one of these topics: '{','.join(self.topics)}': '{query}'\"\n",
    "        response = self.llm.predict(text=prompt, max_tokens=500)\n",
    "        topic = response.strip().lower()\n",
    "        return topic"
   ]
  },
  {
   "cell_type": "markdown",
   "id": "164c319a-4700-4edf-8ca8-7cef2c5cd864",
   "metadata": {
    "jp-MarkdownHeadingCollapsed": true,
    "tags": []
   },
   "source": [
    "### Using GPT-3.5 as LLM"
   ]
  },
  {
   "cell_type": "code",
   "execution_count": 38,
   "id": "2657044e-289a-49d2-b0d4-bb095152cbe9",
   "metadata": {
    "tags": []
   },
   "outputs": [
    {
     "name": "stdin",
     "output_type": "stream",
     "text": [
      "Enter the OPENAI_API_KEY key:  ········\n"
     ]
    }
   ],
   "source": [
    "import getpass\n",
    "api_key = getpass.getpass(\"Enter the OPENAI_API_KEY key: \")\n"
   ]
  },
  {
   "cell_type": "code",
   "execution_count": 116,
   "id": "7160d470-a5e0-4710-a943-dd51565d1616",
   "metadata": {
    "tags": []
   },
   "outputs": [],
   "source": [
    "import os\n",
    "from langchain_openai import ChatOpenAI\n",
    "\n",
    "llm = ChatOpenAI(openai_api_key=api_key,\n",
    "                  model_name=\"gpt-3.5-turbo\",\n",
    "                  temperature=0.0)"
   ]
  },
  {
   "cell_type": "code",
   "execution_count": 83,
   "id": "00663cd1-cc2b-4adc-af71-33c7e2e206fa",
   "metadata": {
    "tags": []
   },
   "outputs": [],
   "source": [
    "classification = TopicClassifier(llm)"
   ]
  },
  {
   "cell_type": "code",
   "execution_count": 84,
   "id": "ba14ed3a-c624-4a2e-a5f9-ebe61ad853cc",
   "metadata": {
    "tags": []
   },
   "outputs": [
    {
     "name": "stdout",
     "output_type": "stream",
     "text": [
      "varicose veins\n"
     ]
    }
   ],
   "source": [
    "query = \"The veins on my legs are very noticeable and cause me discomfort. It seems like there is a major bruise \"#and I get cramps when I run.\n",
    "answer = classification.classify(query)\n",
    "print(answer)"
   ]
  },
  {
   "cell_type": "code",
   "execution_count": 85,
   "id": "d43ae614-f9e5-4ad3-9fce-1fdc12dd9f92",
   "metadata": {
    "tags": []
   },
   "outputs": [
    {
     "name": "stdout",
     "output_type": "stream",
     "text": [
      "chicken pox\n"
     ]
    }
   ],
   "source": [
    "answer = classification.classify(\"No energy, no appetite, sick, red spots.\")\n",
    "print(answer)"
   ]
  },
  {
   "cell_type": "code",
   "execution_count": 87,
   "id": "61670e5b-5f46-4f97-bb9d-41ca27a6e6d5",
   "metadata": {
    "tags": []
   },
   "outputs": [
    {
     "name": "stdout",
     "output_type": "stream",
     "text": [
      "chicken pox\n"
     ]
    }
   ],
   "source": [
    "answer = classification.classify(\"suffering from severe body pain, a headache, and vomiting. Red spots have covered my entire body, causing intense itching.\")\n",
    "print(answer) #dengue-\"I'm suffering from severe body pain, a headache, and vomiting. Red spots have covered my entire body, causing intense itching.\""
   ]
  },
  {
   "cell_type": "code",
   "execution_count": 89,
   "id": "0fce99bb-44d9-4cba-b9d7-6a670469381f",
   "metadata": {
    "tags": []
   },
   "outputs": [
    {
     "name": "stdout",
     "output_type": "stream",
     "text": [
      "fungal infection\n"
     ]
    }
   ],
   "source": [
    "answer = classification.classify(\"i have had a rash on my skin that looks like dischromic patches, and I also have a lot of nodular eruptions and really bad itching. During the previous week, it has become worse.\")\n",
    "print(answer)"
   ]
  },
  {
   "cell_type": "code",
   "execution_count": 91,
   "id": "bbee5658-c314-4089-9a7c-77ec2ceaeadb",
   "metadata": {
    "tags": []
   },
   "outputs": [
    {
     "name": "stdout",
     "output_type": "stream",
     "text": [
      "this question falls under the topic of 'fungal infection'.\n"
     ]
    }
   ],
   "source": [
    "answer = classification.classify(\"rash with discolored patches and numerous bumps and its eaching\")\n",
    "print(answer) #Common cold"
   ]
  },
  {
   "cell_type": "markdown",
   "id": "d7e2d3e4-1448-4021-bca1-6a232ebd61f6",
   "metadata": {
    "tags": []
   },
   "source": [
    "### Using Ollama"
   ]
  },
  {
   "cell_type": "code",
   "execution_count": 76,
   "id": "18f74039-1541-43be-a200-a49ba65557dd",
   "metadata": {
    "tags": []
   },
   "outputs": [],
   "source": [
    "from langchain_ollama.chat_models import ChatOllama\n",
    "ollamaLLM = ChatOllama(\n",
    "    model=\"llama3.2\",\n",
    "    temperature=0,\n",
    "    # other params...\n",
    ")\n"
   ]
  },
  {
   "cell_type": "code",
   "execution_count": 77,
   "id": "8ff39ef3-bf23-4305-8b77-6420f176d90a",
   "metadata": {},
   "outputs": [
    {
     "data": {
      "text/plain": [
       "ChatOllama(model='llama3.2', temperature=0.0)"
      ]
     },
     "execution_count": 77,
     "metadata": {},
     "output_type": "execute_result"
    }
   ],
   "source": [
    "ollamaLLM"
   ]
  },
  {
   "cell_type": "code",
   "execution_count": 92,
   "id": "a719aa34-8baa-43a8-9978-afce4d5aeca7",
   "metadata": {
    "tags": []
   },
   "outputs": [],
   "source": [
    "classification = TopicClassifier(ollamaLLM)"
   ]
  },
  {
   "cell_type": "code",
   "execution_count": 80,
   "id": "245e9469-bca9-4150-a15d-84c678be8922",
   "metadata": {
    "tags": []
   },
   "outputs": [
    {
     "name": "stdout",
     "output_type": "stream",
     "text": [
      "i would classify the question into the topic of: \"varicose veins\" or more specifically, \"vein problems\" or \"leg vein issues\".\n"
     ]
    }
   ],
   "source": [
    "query = \"The veins on my legs are very noticeable and cause me discomfort. It seems like there is a major bruise \"#and I get cramps when I run.\n",
    "answer = classification.classify(query)\n",
    "print(answer) #takes very long time"
   ]
  },
  {
   "cell_type": "code",
   "execution_count": 81,
   "id": "dd02fac6-2158-43cc-8366-e8d30968755e",
   "metadata": {
    "tags": []
   },
   "outputs": [
    {
     "name": "stdout",
     "output_type": "stream",
     "text": [
      "the question can be classified under the topic of \"symptoms\" or more specifically, \"common symptoms\". it is a general description of symptoms that could be associated with various medical conditions.\n"
     ]
    }
   ],
   "source": [
    "answer = classification.classify(\"No energy, no appetite, sick, red spots.\")\n",
    "print(answer) #takes very long time"
   ]
  },
  {
   "cell_type": "code",
   "execution_count": 93,
   "id": "edbff3f7-e362-441b-a3ca-caacf1a91d95",
   "metadata": {
    "tags": []
   },
   "outputs": [
    {
     "name": "stdout",
     "output_type": "stream",
     "text": [
      "based on the symptoms described (severe body pain, headache, vomiting, red spots covering the entire body with intense itching), i would classify this question into the following topics:\n",
      "\n",
      "1. dermatology (skin conditions): the presence of red spots covering the entire body and intense itching suggests a skin condition.\n",
      "2. allergy: the intense itching could be related to an allergic reaction.\n",
      "\n",
      "more specifically, the symptoms described are consistent with a severe case of impetigo, which is a bacterial infection that causes red sores on the skin, often accompanied by intense itching and discomfort.\n"
     ]
    }
   ],
   "source": [
    "answer = classification.classify(\"suffering from severe body pain, a headache, and vomiting. Red spots have covered my entire body, causing intense itching.\")\n",
    "print(answer)"
   ]
  },
  {
   "cell_type": "code",
   "execution_count": 94,
   "id": "7d4d0fcc-c3b8-4357-935f-ca86234664b7",
   "metadata": {
    "tags": []
   },
   "outputs": [
    {
     "name": "stdout",
     "output_type": "stream",
     "text": [
      "i would classify the question into the following topics:\n",
      "\n",
      "1. skin conditions:\n",
      " * rash\n",
      " * discolored patches\n",
      " * bumps\n",
      " * impetigo (implied by \"bumps\")\n",
      "2. infections:\n",
      " * fungal infection (implied by \"rash with discolored patches and numerous bumps\")\n",
      "3. allergic reactions:\n",
      " * allergy (implied by the presence of a rash)\n",
      "4. general medical conditions:\n",
      " * hypertension (not directly related, but could be a contributing factor)\n",
      "\n",
      "however, without more specific information about the nature of the rash or the \"bumps\", it's difficult to pinpoint an exact diagnosis.\n"
     ]
    }
   ],
   "source": [
    "answer = classification.classify(\"rash with discolored patches and numerous bumps and its eaching\")\n",
    "print(answer) #Common cold"
   ]
  },
  {
   "cell_type": "markdown",
   "id": "3c9d7c12-1f25-4226-8551-2fb4df05d67d",
   "metadata": {
    "tags": []
   },
   "source": [
    "## Using Prompt"
   ]
  },
  {
   "cell_type": "code",
   "execution_count": 95,
   "id": "a4bacb69-9a14-4842-a8fb-ad0e8c8cd4cb",
   "metadata": {
    "tags": []
   },
   "outputs": [
    {
     "data": {
      "text/html": [
       "<div>\n",
       "<style scoped>\n",
       "    .dataframe tbody tr th:only-of-type {\n",
       "        vertical-align: middle;\n",
       "    }\n",
       "\n",
       "    .dataframe tbody tr th {\n",
       "        vertical-align: top;\n",
       "    }\n",
       "\n",
       "    .dataframe thead th {\n",
       "        text-align: right;\n",
       "    }\n",
       "</style>\n",
       "<table border=\"1\" class=\"dataframe\">\n",
       "  <thead>\n",
       "    <tr style=\"text-align: right;\">\n",
       "      <th></th>\n",
       "      <th>label_name</th>\n",
       "      <th>text</th>\n",
       "    </tr>\n",
       "  </thead>\n",
       "  <tbody>\n",
       "    <tr>\n",
       "      <th>0</th>\n",
       "      <td>Psoriasis</td>\n",
       "      <td>I have been experiencing a skin rash on my arm...</td>\n",
       "    </tr>\n",
       "    <tr>\n",
       "      <th>1</th>\n",
       "      <td>Psoriasis</td>\n",
       "      <td>My skin has been peeling, especially on my kne...</td>\n",
       "    </tr>\n",
       "    <tr>\n",
       "      <th>2</th>\n",
       "      <td>Psoriasis</td>\n",
       "      <td>I have been experiencing joint pain in my fing...</td>\n",
       "    </tr>\n",
       "    <tr>\n",
       "      <th>3</th>\n",
       "      <td>Psoriasis</td>\n",
       "      <td>There is a silver like dusting on my skin, esp...</td>\n",
       "    </tr>\n",
       "    <tr>\n",
       "      <th>4</th>\n",
       "      <td>Psoriasis</td>\n",
       "      <td>My nails have small dents or pits in them, and...</td>\n",
       "    </tr>\n",
       "  </tbody>\n",
       "</table>\n",
       "</div>"
      ],
      "text/plain": [
       "  label_name                                               text\n",
       "0  Psoriasis  I have been experiencing a skin rash on my arm...\n",
       "1  Psoriasis  My skin has been peeling, especially on my kne...\n",
       "2  Psoriasis  I have been experiencing joint pain in my fing...\n",
       "3  Psoriasis  There is a silver like dusting on my skin, esp...\n",
       "4  Psoriasis  My nails have small dents or pits in them, and..."
      ]
     },
     "execution_count": 95,
     "metadata": {},
     "output_type": "execute_result"
    }
   ],
   "source": [
    "df.head()"
   ]
  },
  {
   "cell_type": "code",
   "execution_count": 99,
   "id": "c14c552c-43c5-4683-aa89-e3725c388eea",
   "metadata": {
    "tags": []
   },
   "outputs": [
    {
     "data": {
      "text/html": [
       "<div>\n",
       "<style scoped>\n",
       "    .dataframe tbody tr th:only-of-type {\n",
       "        vertical-align: middle;\n",
       "    }\n",
       "\n",
       "    .dataframe tbody tr th {\n",
       "        vertical-align: top;\n",
       "    }\n",
       "\n",
       "    .dataframe thead th {\n",
       "        text-align: right;\n",
       "    }\n",
       "</style>\n",
       "<table border=\"1\" class=\"dataframe\">\n",
       "  <thead>\n",
       "    <tr style=\"text-align: right;\">\n",
       "      <th></th>\n",
       "      <th>label_name</th>\n",
       "      <th>text</th>\n",
       "    </tr>\n",
       "  </thead>\n",
       "  <tbody>\n",
       "    <tr>\n",
       "      <th>1195</th>\n",
       "      <td>diabetes</td>\n",
       "      <td>I'm shaking and trembling all over. I've lost ...</td>\n",
       "    </tr>\n",
       "    <tr>\n",
       "      <th>1196</th>\n",
       "      <td>diabetes</td>\n",
       "      <td>Particularly in the crevices of my skin, I hav...</td>\n",
       "    </tr>\n",
       "    <tr>\n",
       "      <th>1197</th>\n",
       "      <td>diabetes</td>\n",
       "      <td>I regularly experience these intense urges and...</td>\n",
       "    </tr>\n",
       "    <tr>\n",
       "      <th>1198</th>\n",
       "      <td>diabetes</td>\n",
       "      <td>I have trouble breathing, especially outside. ...</td>\n",
       "    </tr>\n",
       "    <tr>\n",
       "      <th>1199</th>\n",
       "      <td>diabetes</td>\n",
       "      <td>I constantly sneeze and have a dry cough. My i...</td>\n",
       "    </tr>\n",
       "  </tbody>\n",
       "</table>\n",
       "</div>"
      ],
      "text/plain": [
       "     label_name                                               text\n",
       "1195   diabetes  I'm shaking and trembling all over. I've lost ...\n",
       "1196   diabetes  Particularly in the crevices of my skin, I hav...\n",
       "1197   diabetes  I regularly experience these intense urges and...\n",
       "1198   diabetes  I have trouble breathing, especially outside. ...\n",
       "1199   diabetes  I constantly sneeze and have a dry cough. My i..."
      ]
     },
     "execution_count": 99,
     "metadata": {},
     "output_type": "execute_result"
    }
   ],
   "source": [
    "df.tail()"
   ]
  },
  {
   "cell_type": "code",
   "execution_count": 103,
   "id": "23d732a6-a964-46d9-9b01-315e698b2a25",
   "metadata": {
    "tags": []
   },
   "outputs": [],
   "source": [
    "newData_frame = pd.concat([df.head(), df.tail()])\n"
   ]
  },
  {
   "cell_type": "code",
   "execution_count": 104,
   "id": "b5bcb1f6-c160-4821-a6ae-2566c525fe7d",
   "metadata": {
    "tags": []
   },
   "outputs": [
    {
     "data": {
      "text/html": [
       "<div>\n",
       "<style scoped>\n",
       "    .dataframe tbody tr th:only-of-type {\n",
       "        vertical-align: middle;\n",
       "    }\n",
       "\n",
       "    .dataframe tbody tr th {\n",
       "        vertical-align: top;\n",
       "    }\n",
       "\n",
       "    .dataframe thead th {\n",
       "        text-align: right;\n",
       "    }\n",
       "</style>\n",
       "<table border=\"1\" class=\"dataframe\">\n",
       "  <thead>\n",
       "    <tr style=\"text-align: right;\">\n",
       "      <th></th>\n",
       "      <th>label_name</th>\n",
       "      <th>text</th>\n",
       "    </tr>\n",
       "  </thead>\n",
       "  <tbody>\n",
       "    <tr>\n",
       "      <th>0</th>\n",
       "      <td>Psoriasis</td>\n",
       "      <td>I have been experiencing a skin rash on my arm...</td>\n",
       "    </tr>\n",
       "    <tr>\n",
       "      <th>1</th>\n",
       "      <td>Psoriasis</td>\n",
       "      <td>My skin has been peeling, especially on my kne...</td>\n",
       "    </tr>\n",
       "    <tr>\n",
       "      <th>2</th>\n",
       "      <td>Psoriasis</td>\n",
       "      <td>I have been experiencing joint pain in my fing...</td>\n",
       "    </tr>\n",
       "    <tr>\n",
       "      <th>3</th>\n",
       "      <td>Psoriasis</td>\n",
       "      <td>There is a silver like dusting on my skin, esp...</td>\n",
       "    </tr>\n",
       "    <tr>\n",
       "      <th>4</th>\n",
       "      <td>Psoriasis</td>\n",
       "      <td>My nails have small dents or pits in them, and...</td>\n",
       "    </tr>\n",
       "    <tr>\n",
       "      <th>1195</th>\n",
       "      <td>diabetes</td>\n",
       "      <td>I'm shaking and trembling all over. I've lost ...</td>\n",
       "    </tr>\n",
       "    <tr>\n",
       "      <th>1196</th>\n",
       "      <td>diabetes</td>\n",
       "      <td>Particularly in the crevices of my skin, I hav...</td>\n",
       "    </tr>\n",
       "    <tr>\n",
       "      <th>1197</th>\n",
       "      <td>diabetes</td>\n",
       "      <td>I regularly experience these intense urges and...</td>\n",
       "    </tr>\n",
       "    <tr>\n",
       "      <th>1198</th>\n",
       "      <td>diabetes</td>\n",
       "      <td>I have trouble breathing, especially outside. ...</td>\n",
       "    </tr>\n",
       "    <tr>\n",
       "      <th>1199</th>\n",
       "      <td>diabetes</td>\n",
       "      <td>I constantly sneeze and have a dry cough. My i...</td>\n",
       "    </tr>\n",
       "  </tbody>\n",
       "</table>\n",
       "</div>"
      ],
      "text/plain": [
       "     label_name                                               text\n",
       "0     Psoriasis  I have been experiencing a skin rash on my arm...\n",
       "1     Psoriasis  My skin has been peeling, especially on my kne...\n",
       "2     Psoriasis  I have been experiencing joint pain in my fing...\n",
       "3     Psoriasis  There is a silver like dusting on my skin, esp...\n",
       "4     Psoriasis  My nails have small dents or pits in them, and...\n",
       "1195   diabetes  I'm shaking and trembling all over. I've lost ...\n",
       "1196   diabetes  Particularly in the crevices of my skin, I hav...\n",
       "1197   diabetes  I regularly experience these intense urges and...\n",
       "1198   diabetes  I have trouble breathing, especially outside. ...\n",
       "1199   diabetes  I constantly sneeze and have a dry cough. My i..."
      ]
     },
     "execution_count": 104,
     "metadata": {},
     "output_type": "execute_result"
    }
   ],
   "source": [
    "newData_frame"
   ]
  },
  {
   "cell_type": "code",
   "execution_count": 129,
   "id": "8db8e7e6-87fe-44ad-b872-e005dca4d0e9",
   "metadata": {
    "tags": []
   },
   "outputs": [
    {
     "data": {
      "text/plain": [
       "{'Psoriasis': 'My nails have small dents or pits in them, and they often feel inflammatory and tender to the touch. Even there are minor rashes on my arms.',\n",
       " 'diabetes': \"I constantly sneeze and have a dry cough. My infections don't seem to be healing, and I have palpitations. My throat does ache occasionally, but it usually gets better.\"}"
      ]
     },
     "execution_count": 129,
     "metadata": {},
     "output_type": "execute_result"
    }
   ],
   "source": [
    "questionAnsDict = {}\n",
    "\n",
    "for index, row in newData_frame.iterrows():\n",
    "       print(index, row['label_name'], row['text'])\n"
   ]
  },
  {
   "cell_type": "code",
   "execution_count": 142,
   "id": "c6ce3679-18d2-4d80-ab62-569a6c3bb7c7",
   "metadata": {
    "tags": []
   },
   "outputs": [
    {
     "data": {
      "text/plain": [
       "[Document(metadata={'label_name': 'Psoriasis'}, page_content='I have been experiencing a skin rash on my arms, legs, and torso for the past few weeks. It is red, itchy, and covered in dry, scaly patches.'),\n",
       " Document(metadata={'label_name': 'Psoriasis'}, page_content='My skin has been peeling, especially on my knees, elbows, and scalp. This peeling is often accompanied by a burning or stinging sensation.'),\n",
       " Document(metadata={'label_name': 'Psoriasis'}, page_content='I have been experiencing joint pain in my fingers, wrists, and knees. The pain is often achy and throbbing, and it gets worse when I move my joints.'),\n",
       " Document(metadata={'label_name': 'Psoriasis'}, page_content='There is a silver like dusting on my skin, especially on my lower back and scalp. This dusting is made up of small scales that flake off easily when I scratch them.'),\n",
       " Document(metadata={'label_name': 'Psoriasis'}, page_content='My nails have small dents or pits in them, and they often feel inflammatory and tender to the touch. Even there are minor rashes on my arms.'),\n",
       " Document(metadata={'label_name': 'diabetes'}, page_content=\"I'm shaking and trembling all over. I've lost my sense of taste and smell, and I'm exhausted. I occasionally get palpitations or a speeding heart.\"),\n",
       " Document(metadata={'label_name': 'diabetes'}, page_content='Particularly in the crevices of my skin, I have skin rashes and irritations. My skin bruises and cuts take a while to heal as well.'),\n",
       " Document(metadata={'label_name': 'diabetes'}, page_content=\"I regularly experience these intense urges and the want to urinate. I frequently feel drowsy and lost. I've also significantly lost my vision.\"),\n",
       " Document(metadata={'label_name': 'diabetes'}, page_content='I have trouble breathing, especially outside. I start to feel hot and start to sweat. I frequently have urinary tract infections and yeast infections.'),\n",
       " Document(metadata={'label_name': 'diabetes'}, page_content=\"I constantly sneeze and have a dry cough. My infections don't seem to be healing, and I have palpitations. My throat does ache occasionally, but it usually gets better.\")]"
      ]
     },
     "execution_count": 142,
     "metadata": {},
     "output_type": "execute_result"
    }
   ],
   "source": [
    "from langchain_community.document_loaders import DataFrameLoader\n",
    "loader = DataFrameLoader(newData_frame, page_content_column=\"text\")\n",
    "contextDoc = loader.load()\n",
    "contextDoc"
   ]
  },
  {
   "cell_type": "code",
   "execution_count": 163,
   "id": "7e356162-4a19-4ffd-8f36-1640b4612680",
   "metadata": {
    "tags": []
   },
   "outputs": [
    {
     "data": {
      "text/plain": [
       "Document(metadata={'label_name': 'Psoriasis'}, page_content='I have been experiencing a skin rash on my arms, legs, and torso for the past few weeks. It is red, itchy, and covered in dry, scaly patches.')"
      ]
     },
     "execution_count": 163,
     "metadata": {},
     "output_type": "execute_result"
    }
   ],
   "source": [
    "contextDoc[0]"
   ]
  },
  {
   "cell_type": "code",
   "execution_count": 139,
   "id": "3c42e7c7-395f-4fa3-ae49-f2c42115efe7",
   "metadata": {
    "tags": []
   },
   "outputs": [],
   "source": [
    "from langchain import PromptTemplate\n",
    "\n",
    "template = \"\"\"\n",
    "You are a medical chatbot. These Human will ask you a questions about their symptoms. \n",
    "Use following piece of context to answer the question. \n",
    "If you don't know the answer, just say you don't know. \n",
    "Keep the answer within 1-2 word and concise.\n",
    "\n",
    "For Example\n",
    "Context: 1\\label_name: Psoriasis\\ntext: My skin has been peeling, especially on my knees, elbows, and scalp. This peeling is often accompanied by a burning or stinging sensation.'\n",
    "Question: \"Red, itchy rash with dry patches on arms, legs, and torso.\"\n",
    "Answer: Psoriasis\n",
    "\n",
    "\n",
    "Context: {context}\n",
    "Question: {question}\n",
    "Answer: \n",
    "\n",
    "\"\"\"\n",
    "\n",
    "prompt_1 = PromptTemplate(\n",
    "  template=template, \n",
    "  input_variables=[\"context\", \"question\"]\n",
    ")"
   ]
  },
  {
   "cell_type": "code",
   "execution_count": 164,
   "id": "244a991d-7f4d-4d98-b933-b7c86e90819f",
   "metadata": {
    "tags": []
   },
   "outputs": [
    {
     "ename": "TypeError",
     "evalue": "Expected a Runnable, callable or dict.Instead got an unsupported type: <class 'str'>",
     "output_type": "error",
     "traceback": [
      "\u001b[0;31m---------------------------------------------------------------------------\u001b[0m",
      "\u001b[0;31mTypeError\u001b[0m                                 Traceback (most recent call last)",
      "Cell \u001b[0;32mIn[164], line 2\u001b[0m\n\u001b[1;32m      1\u001b[0m rag_chain_0 \u001b[38;5;241m=\u001b[39m (\n\u001b[0;32m----> 2\u001b[0m   {\u001b[38;5;124m\"\u001b[39m\u001b[38;5;124mcontext\u001b[39m\u001b[38;5;124m\"\u001b[39m: \u001b[38;5;124m\"\u001b[39m\u001b[38;5;124mabc\u001b[39m\u001b[38;5;124m\"\u001b[39m,  \u001b[38;5;124m\"\u001b[39m\u001b[38;5;124mquestion\u001b[39m\u001b[38;5;124m\"\u001b[39m: RunnablePassthrough()} \n\u001b[1;32m      3\u001b[0m   \u001b[38;5;241m|\u001b[39m prompt \n\u001b[1;32m      4\u001b[0m   \u001b[38;5;241m|\u001b[39m llm\n\u001b[1;32m      5\u001b[0m   \u001b[38;5;241m|\u001b[39m StrOutputParser() \n\u001b[1;32m      6\u001b[0m )\n",
      "File \u001b[0;32m~/anaconda3/lib/python3.11/site-packages/langchain_core/runnables/base.py:587\u001b[0m, in \u001b[0;36mRunnable.__ror__\u001b[0;34m(self, other)\u001b[0m\n\u001b[1;32m    577\u001b[0m \u001b[38;5;28;01mdef\u001b[39;00m \u001b[38;5;21m__ror__\u001b[39m(\n\u001b[1;32m    578\u001b[0m     \u001b[38;5;28mself\u001b[39m,\n\u001b[1;32m    579\u001b[0m     other: Union[\n\u001b[0;32m   (...)\u001b[0m\n\u001b[1;32m    584\u001b[0m     ],\n\u001b[1;32m    585\u001b[0m ) \u001b[38;5;241m-\u001b[39m\u001b[38;5;241m>\u001b[39m RunnableSerializable[Other, Output]:\n\u001b[1;32m    586\u001b[0m \u001b[38;5;250m    \u001b[39m\u001b[38;5;124;03m\"\"\"Compose this Runnable with another object to create a RunnableSequence.\"\"\"\u001b[39;00m\n\u001b[0;32m--> 587\u001b[0m     \u001b[38;5;28;01mreturn\u001b[39;00m RunnableSequence(coerce_to_runnable(other), \u001b[38;5;28mself\u001b[39m)\n",
      "File \u001b[0;32m~/anaconda3/lib/python3.11/site-packages/langchain_core/runnables/base.py:5818\u001b[0m, in \u001b[0;36mcoerce_to_runnable\u001b[0;34m(thing)\u001b[0m\n\u001b[1;32m   5816\u001b[0m     \u001b[38;5;28;01mreturn\u001b[39;00m RunnableLambda(cast(Callable[[Input], Output], thing))\n\u001b[1;32m   5817\u001b[0m \u001b[38;5;28;01melif\u001b[39;00m \u001b[38;5;28misinstance\u001b[39m(thing, \u001b[38;5;28mdict\u001b[39m):\n\u001b[0;32m-> 5818\u001b[0m     \u001b[38;5;28;01mreturn\u001b[39;00m cast(Runnable[Input, Output], RunnableParallel(thing))\n\u001b[1;32m   5819\u001b[0m \u001b[38;5;28;01melse\u001b[39;00m:\n\u001b[1;32m   5820\u001b[0m     \u001b[38;5;28;01mraise\u001b[39;00m \u001b[38;5;167;01mTypeError\u001b[39;00m(\n\u001b[1;32m   5821\u001b[0m         \u001b[38;5;124mf\u001b[39m\u001b[38;5;124m\"\u001b[39m\u001b[38;5;124mExpected a Runnable, callable or dict.\u001b[39m\u001b[38;5;124m\"\u001b[39m\n\u001b[1;32m   5822\u001b[0m         \u001b[38;5;124mf\u001b[39m\u001b[38;5;124m\"\u001b[39m\u001b[38;5;124mInstead got an unsupported type: \u001b[39m\u001b[38;5;132;01m{\u001b[39;00m\u001b[38;5;28mtype\u001b[39m(thing)\u001b[38;5;132;01m}\u001b[39;00m\u001b[38;5;124m\"\u001b[39m\n\u001b[1;32m   5823\u001b[0m     )\n",
      "File \u001b[0;32m~/anaconda3/lib/python3.11/site-packages/langchain_core/runnables/base.py:3535\u001b[0m, in \u001b[0;36mRunnableParallel.__init__\u001b[0;34m(self, steps__, **kwargs)\u001b[0m\n\u001b[1;32m   3532\u001b[0m merged \u001b[38;5;241m=\u001b[39m {\u001b[38;5;241m*\u001b[39m\u001b[38;5;241m*\u001b[39msteps__} \u001b[38;5;28;01mif\u001b[39;00m steps__ \u001b[38;5;129;01mis\u001b[39;00m \u001b[38;5;129;01mnot\u001b[39;00m \u001b[38;5;28;01mNone\u001b[39;00m \u001b[38;5;28;01melse\u001b[39;00m {}\n\u001b[1;32m   3533\u001b[0m merged\u001b[38;5;241m.\u001b[39mupdate(kwargs)\n\u001b[1;32m   3534\u001b[0m \u001b[38;5;28msuper\u001b[39m()\u001b[38;5;241m.\u001b[39m\u001b[38;5;21m__init__\u001b[39m(  \u001b[38;5;66;03m# type: ignore[call-arg]\u001b[39;00m\n\u001b[0;32m-> 3535\u001b[0m     steps__\u001b[38;5;241m=\u001b[39m{key: coerce_to_runnable(r) \u001b[38;5;28;01mfor\u001b[39;00m key, r \u001b[38;5;129;01min\u001b[39;00m merged\u001b[38;5;241m.\u001b[39mitems()}\n\u001b[1;32m   3536\u001b[0m )\n",
      "File \u001b[0;32m~/anaconda3/lib/python3.11/site-packages/langchain_core/runnables/base.py:3535\u001b[0m, in \u001b[0;36m<dictcomp>\u001b[0;34m(.0)\u001b[0m\n\u001b[1;32m   3532\u001b[0m merged \u001b[38;5;241m=\u001b[39m {\u001b[38;5;241m*\u001b[39m\u001b[38;5;241m*\u001b[39msteps__} \u001b[38;5;28;01mif\u001b[39;00m steps__ \u001b[38;5;129;01mis\u001b[39;00m \u001b[38;5;129;01mnot\u001b[39;00m \u001b[38;5;28;01mNone\u001b[39;00m \u001b[38;5;28;01melse\u001b[39;00m {}\n\u001b[1;32m   3533\u001b[0m merged\u001b[38;5;241m.\u001b[39mupdate(kwargs)\n\u001b[1;32m   3534\u001b[0m \u001b[38;5;28msuper\u001b[39m()\u001b[38;5;241m.\u001b[39m\u001b[38;5;21m__init__\u001b[39m(  \u001b[38;5;66;03m# type: ignore[call-arg]\u001b[39;00m\n\u001b[0;32m-> 3535\u001b[0m     steps__\u001b[38;5;241m=\u001b[39m{key: coerce_to_runnable(r) \u001b[38;5;28;01mfor\u001b[39;00m key, r \u001b[38;5;129;01min\u001b[39;00m merged\u001b[38;5;241m.\u001b[39mitems()}\n\u001b[1;32m   3536\u001b[0m )\n",
      "File \u001b[0;32m~/anaconda3/lib/python3.11/site-packages/langchain_core/runnables/base.py:5820\u001b[0m, in \u001b[0;36mcoerce_to_runnable\u001b[0;34m(thing)\u001b[0m\n\u001b[1;32m   5818\u001b[0m     \u001b[38;5;28;01mreturn\u001b[39;00m cast(Runnable[Input, Output], RunnableParallel(thing))\n\u001b[1;32m   5819\u001b[0m \u001b[38;5;28;01melse\u001b[39;00m:\n\u001b[0;32m-> 5820\u001b[0m     \u001b[38;5;28;01mraise\u001b[39;00m \u001b[38;5;167;01mTypeError\u001b[39;00m(\n\u001b[1;32m   5821\u001b[0m         \u001b[38;5;124mf\u001b[39m\u001b[38;5;124m\"\u001b[39m\u001b[38;5;124mExpected a Runnable, callable or dict.\u001b[39m\u001b[38;5;124m\"\u001b[39m\n\u001b[1;32m   5822\u001b[0m         \u001b[38;5;124mf\u001b[39m\u001b[38;5;124m\"\u001b[39m\u001b[38;5;124mInstead got an unsupported type: \u001b[39m\u001b[38;5;132;01m{\u001b[39;00m\u001b[38;5;28mtype\u001b[39m(thing)\u001b[38;5;132;01m}\u001b[39;00m\u001b[38;5;124m\"\u001b[39m\n\u001b[1;32m   5823\u001b[0m     )\n",
      "\u001b[0;31mTypeError\u001b[0m: Expected a Runnable, callable or dict.Instead got an unsupported type: <class 'str'>"
     ]
    }
   ],
   "source": [
    "rag_chain_0 = (\n",
    "  {\"context\": \"abc\",  \"question\": RunnablePassthrough()} \n",
    "  | prompt \n",
    "  | llm\n",
    "  | StrOutputParser() \n",
    ")"
   ]
  },
  {
   "cell_type": "code",
   "execution_count": 140,
   "id": "a094cf33-1b74-4134-ac0e-734f23bebf4f",
   "metadata": {
    "tags": []
   },
   "outputs": [
    {
     "ename": "NameError",
     "evalue": "name 'rag_chain_0' is not defined",
     "output_type": "error",
     "traceback": [
      "\u001b[0;31m---------------------------------------------------------------------------\u001b[0m",
      "\u001b[0;31mNameError\u001b[0m                                 Traceback (most recent call last)",
      "Cell \u001b[0;32mIn[140], line 1\u001b[0m\n\u001b[0;32m----> 1\u001b[0m result \u001b[38;5;241m=\u001b[39m rag_chain_0\u001b[38;5;241m.\u001b[39minvoke(\u001b[38;5;124m\"\u001b[39m\u001b[38;5;124mI constantly sneeze and have a dry cough. My infections don\u001b[39m\u001b[38;5;124m'\u001b[39m\u001b[38;5;124mt seem to be healing, and I have palpitations. My throat does ache occasionally, but it usually gets better.\u001b[39m\u001b[38;5;124m\"\u001b[39m)\n\u001b[1;32m      2\u001b[0m \u001b[38;5;28mprint\u001b[39m(result)\n",
      "\u001b[0;31mNameError\u001b[0m: name 'rag_chain_0' is not defined"
     ]
    }
   ],
   "source": [
    "result = rag_chain_0.invoke(\"I constantly sneeze and have a dry cough. My infections don't seem to be healing, and I have palpitations. My throat does ache occasionally, but it usually gets better.\")\n",
    "print(result)"
   ]
  },
  {
   "cell_type": "markdown",
   "id": "67d4deae-395c-45b2-aa7c-888c6abf8529",
   "metadata": {
    "tags": []
   },
   "source": [
    "## RAG Implementation"
   ]
  },
  {
   "cell_type": "markdown",
   "id": "a8e0d5bb-e596-496d-8df2-6e14b3c4f29d",
   "metadata": {},
   "source": [
    "### Open AI LLM"
   ]
  },
  {
   "cell_type": "code",
   "execution_count": 144,
   "id": "6f302b10-25ab-42ea-9e77-3ab6cc712b53",
   "metadata": {
    "tags": []
   },
   "outputs": [],
   "source": [
    "from langchain import PromptTemplate\n",
    "\n",
    "template = \"\"\"\n",
    "You are a medical chatbot. These Human will ask you a questions about their symptoms. \n",
    "Use following piece of context to answer the question. \n",
    "If you don't know the answer, just say you don't know. \n",
    "Keep the answer within 1-2 word and concise.\n",
    "\n",
    "For Example\n",
    "Context: 1\\nlabel: Psoriasis\\ntext: My skin has been peeling, especially on my knees, elbows, and scalp. This peeling is often accompanied by a burning or stinging sensation.'\n",
    "Question: \"Red, itchy rash with dry patches on arms, legs, and torso.\"\n",
    "Answer: Psoriasis\n",
    "\n",
    "\n",
    "Context: {context}\n",
    "Question: {question}\n",
    "Answer: \n",
    "\n",
    "\"\"\"\n",
    "\n",
    "prompt = PromptTemplate(\n",
    "  template=template, \n",
    "  input_variables=[\"context\", \"question\"]\n",
    ")"
   ]
  },
  {
   "cell_type": "code",
   "execution_count": 119,
   "id": "17248140-620a-4041-906b-9c86051bdac2",
   "metadata": {
    "tags": []
   },
   "outputs": [],
   "source": [
    "from langchain.schema.runnable import RunnablePassthrough\n",
    "from langchain.schema.output_parser import StrOutputParser\n",
    "\n",
    "rag_chain = (\n",
    "  {\"context\": db.as_retriever(),  \"question\": RunnablePassthrough()} \n",
    "  | prompt \n",
    "  | llm\n",
    "  | StrOutputParser() \n",
    ")"
   ]
  },
  {
   "cell_type": "code",
   "execution_count": 120,
   "id": "31a62fac-d073-46c7-8ad6-68ff529096da",
   "metadata": {
    "tags": []
   },
   "outputs": [
    {
     "name": "stdout",
     "output_type": "stream",
     "text": [
      "Chicken pox\n"
     ]
    }
   ],
   "source": [
    "result = rag_chain.invoke(\"No energy, no appetite, sick, red spots.\")\n",
    "print(result)"
   ]
  },
  {
   "cell_type": "code",
   "execution_count": 121,
   "id": "020300f1-2294-484d-9ddf-4974f671ebad",
   "metadata": {
    "tags": []
   },
   "outputs": [
    {
     "name": "stdout",
     "output_type": "stream",
     "text": [
      "Varicose Veins\n"
     ]
    }
   ],
   "source": [
    "result = rag_chain.invoke(\"The veins on my legs are very noticeable and cause me discomfort. It seems like there is a major bruise \")\n",
    "print(result)"
   ]
  },
  {
   "cell_type": "code",
   "execution_count": 122,
   "id": "7d82b38e-c4a2-4d74-8a94-d52d0e63e0a7",
   "metadata": {
    "tags": []
   },
   "outputs": [
    {
     "name": "stdout",
     "output_type": "stream",
     "text": [
      "Dengue\n"
     ]
    }
   ],
   "source": [
    "result = rag_chain.invoke(\"suffering from severe body pain, a headache, and vomiting. Red spots have covered my entire body, causing intense itching.\")\n",
    "print(result)"
   ]
  },
  {
   "cell_type": "code",
   "execution_count": 124,
   "id": "de2442e8-03e6-4734-b1d7-ff48a3387fd2",
   "metadata": {
    "tags": []
   },
   "outputs": [
    {
     "name": "stdout",
     "output_type": "stream",
     "text": [
      "Fungal infection\n"
     ]
    }
   ],
   "source": [
    "result = rag_chain.invoke(\"rash with discolored patches and numerous bumps and its eaching\")\n",
    "print(result)"
   ]
  },
  {
   "cell_type": "markdown",
   "id": "4edcb933-1b9a-4910-be31-c2a340fc1564",
   "metadata": {},
   "source": [
    "### Ollama LLM"
   ]
  },
  {
   "cell_type": "code",
   "execution_count": 148,
   "id": "0ffa1a0b-6546-4cf5-8f9d-5ec9472f2c60",
   "metadata": {
    "tags": []
   },
   "outputs": [],
   "source": [
    "from langchain.schema.runnable import RunnablePassthrough\n",
    "from langchain.schema.output_parser import StrOutputParser\n",
    "\n",
    "rag_chain_ollama = (\n",
    "  {\"context\": db.as_retriever(),  \"question\": RunnablePassthrough()} \n",
    "  | prompt \n",
    "  | ollamaLLM\n",
    "  | StrOutputParser() \n",
    ")"
   ]
  },
  {
   "cell_type": "code",
   "execution_count": 149,
   "id": "b36ef55d-9ed1-430b-8ee7-05c0583f0046",
   "metadata": {
    "tags": []
   },
   "outputs": [
    {
     "name": "stdout",
     "output_type": "stream",
     "text": [
      "I'm ready to help. What's your question about symptoms?\n"
     ]
    }
   ],
   "source": [
    "result = rag_chain_ollama.invoke(\"No energy, no appetite, sick, red spots.\")\n",
    "print(result)#Takes 1 min"
   ]
  },
  {
   "cell_type": "code",
   "execution_count": 150,
   "id": "971b1ce2-74fc-4aa7-bcd4-5e52beaedc17",
   "metadata": {
    "tags": []
   },
   "outputs": [
    {
     "name": "stdout",
     "output_type": "stream",
     "text": [
      "I'm ready to help. What's your question?\n"
     ]
    }
   ],
   "source": [
    "result = rag_chain_ollama.invoke(\"suffering from severe body pain, a headache, and vomiting. Red spots have covered my entire body, causing intense itching.\")\n",
    "print(result)"
   ]
  },
  {
   "cell_type": "code",
   "execution_count": null,
   "id": "2345a359-c0ae-4431-a210-a0921c5ef726",
   "metadata": {},
   "outputs": [],
   "source": []
  }
 ],
 "metadata": {
  "kernelspec": {
   "display_name": "Python 3 (ipykernel)",
   "language": "python",
   "name": "python3"
  },
  "language_info": {
   "codemirror_mode": {
    "name": "ipython",
    "version": 3
   },
   "file_extension": ".py",
   "mimetype": "text/x-python",
   "name": "python",
   "nbconvert_exporter": "python",
   "pygments_lexer": "ipython3",
   "version": "3.11.5"
  }
 },
 "nbformat": 4,
 "nbformat_minor": 5
}
